{
 "cells": [
  {
   "cell_type": "code",
   "execution_count": 5,
   "id": "d008a8a9-5020-40a8-944a-3c0cdb4c1186",
   "metadata": {},
   "outputs": [
    {
     "data": {
      "text/plain": [
       "'2.1.1+cpu'"
      ]
     },
     "execution_count": 5,
     "metadata": {},
     "output_type": "execute_result"
    }
   ],
   "source": [
    "import torch\n",
    "torch.__version__"
   ]
  },
  {
   "cell_type": "markdown",
   "id": "1f2952d2-706c-462f-ad87-c2885b381449",
   "metadata": {},
   "source": [
    "### 텍스트 토큰화"
   ]
  },
  {
   "cell_type": "code",
   "execution_count": 26,
   "id": "a0a83652-d02b-43cc-b8de-9d708983d499",
   "metadata": {},
   "outputs": [],
   "source": [
    "text1 = \"Mary, don't slap the green witch.\"\n",
    "text2 = \"Snow White and the Seven Degrees #MakeAMovieCold@midnight:-)\""
   ]
  },
  {
   "cell_type": "code",
   "execution_count": 27,
   "id": "8752fa26-b02b-4d67-b7ca-3866eaa94003",
   "metadata": {},
   "outputs": [
    {
     "name": "stdout",
     "output_type": "stream",
     "text": [
      "['mary', ',', 'do', \"n't\", 'slap', 'the', 'green', 'witch', '.']\n"
     ]
    }
   ],
   "source": [
    "import spacy\n",
    "nlp = spacy.load('en_core_web_sm')\n",
    "print([str(token) for token in nlp(text1.lower())])"
   ]
  },
  {
   "cell_type": "code",
   "execution_count": 28,
   "id": "044507d7-2d61-4ba2-92e7-a80c8dae7f8a",
   "metadata": {},
   "outputs": [
    {
     "name": "stdout",
     "output_type": "stream",
     "text": [
      "['snow', 'white', 'and', 'the', 'seven', 'degrees', '#', 'makeamoviecold@midnight:-', ')']\n"
     ]
    }
   ],
   "source": [
    "print([str(token) for token in nlp(text2.lower())])"
   ]
  },
  {
   "cell_type": "code",
   "execution_count": 29,
   "id": "f0ee9fb4-fd48-440b-a666-da6bbf6d3756",
   "metadata": {},
   "outputs": [
    {
     "name": "stdout",
     "output_type": "stream",
     "text": [
      "['mary', ',', \"don't\", 'slap', 'the', 'green', 'witch', '.']\n"
     ]
    }
   ],
   "source": [
    "from nltk.tokenize import TweetTokenizer\n",
    "tokenizer = TweetTokenizer()\n",
    "print(tokenizer.tokenize(text1.lower()))"
   ]
  },
  {
   "cell_type": "code",
   "execution_count": 30,
   "id": "2c4fa013-eaaa-4a1b-b97a-ea1dc0df3d91",
   "metadata": {},
   "outputs": [
    {
     "name": "stdout",
     "output_type": "stream",
     "text": [
      "['snow', 'white', 'and', 'the', 'seven', 'degrees', '#makeamoviecold', '@midnight', ':-)']\n"
     ]
    }
   ],
   "source": [
    "print(tokenizer.tokenize(text2.lower()))"
   ]
  },
  {
   "cell_type": "markdown",
   "id": "97346902-0eba-41f1-aff7-6aa81bab52ec",
   "metadata": {},
   "source": [
    "### 텍스트에서 n-gram 만들기"
   ]
  },
  {
   "cell_type": "code",
   "execution_count": 31,
   "id": "ce30e38b-b4e3-4385-8963-d49a17550085",
   "metadata": {},
   "outputs": [
    {
     "name": "stdout",
     "output_type": "stream",
     "text": [
      "[['mary', ','], [',', 'do'], ['do', \"n't\"], [\"n't\", 'slap'], ['slap', 'the'], ['the', 'green'], ['green', 'witch'], ['witch', '.']]\n"
     ]
    }
   ],
   "source": [
    "def n_grams(text, n):\n",
    "    '''\n",
    "    takes tokens or text, returns a list of n-grams\n",
    "    '''\n",
    "    return [text[i:i+n] for i in range(len(text)-n+1)]\n",
    "\n",
    "cleaned = ['mary', ',', 'do', \"n't\", 'slap', 'the', 'green', 'witch', '.']\n",
    "print(n_grams(cleaned,2))"
   ]
  },
  {
   "cell_type": "code",
   "execution_count": 32,
   "id": "1e8d1f58-0e5b-4a0b-8373-90698df2db08",
   "metadata": {},
   "outputs": [
    {
     "name": "stdout",
     "output_type": "stream",
     "text": [
      "[['mary', ',', 'do'], [',', 'do', \"n't\"], ['do', \"n't\", 'slap'], [\"n't\", 'slap', 'the'], ['slap', 'the', 'green'], ['the', 'green', 'witch'], ['green', 'witch', '.']]\n"
     ]
    }
   ],
   "source": [
    "print(n_grams(cleaned,3))"
   ]
  },
  {
   "cell_type": "markdown",
   "id": "387a4310-e3de-4a74-b3c0-61e2f53c7cc7",
   "metadata": {},
   "source": [
    "### 표제어 추출: 단어를 표제어로 바꿉니다."
   ]
  },
  {
   "cell_type": "code",
   "execution_count": 33,
   "id": "412479e1-918a-4232-a9ed-d9c5528bd698",
   "metadata": {},
   "outputs": [
    {
     "name": "stdout",
     "output_type": "stream",
     "text": [
      "he --> he\n",
      "was --> be\n",
      "running --> run\n",
      "late --> late\n"
     ]
    }
   ],
   "source": [
    "nlp = spacy.load(\"en_core_web_sm\")\n",
    "doc = nlp(\"he was running late\")\n",
    "for token in doc:\n",
    "    print(f'{token} --> {token.lemma_}')"
   ]
  },
  {
   "cell_type": "markdown",
   "id": "c4d682f7-915e-4e33-9d2d-8edc9040d35c",
   "metadata": {},
   "source": [
    "### 품사 태깅\n"
   ]
  },
  {
   "cell_type": "code",
   "execution_count": 34,
   "id": "fb5b941b-909f-48db-bcb5-e5864cb02311",
   "metadata": {},
   "outputs": [
    {
     "name": "stdout",
     "output_type": "stream",
     "text": [
      "Mary - PROPN\n",
      "slapped - VERB\n",
      "the - DET\n",
      "green - ADJ\n",
      "witch - NOUN\n",
      ". - PUNCT\n"
     ]
    }
   ],
   "source": [
    "doc = nlp(\"Mary slapped the green witch.\")\n",
    "for token in doc:\n",
    "    print(f\"{token} - {token.pos_}\")"
   ]
  },
  {
   "cell_type": "markdown",
   "id": "f9efc931-c90b-4a0d-945d-5abaab24cc8f",
   "metadata": {},
   "source": [
    "### 명사구 부분 구문 분석"
   ]
  },
  {
   "cell_type": "code",
   "execution_count": 35,
   "id": "547656e1-674d-43fc-8346-7edb6ddc80ac",
   "metadata": {},
   "outputs": [
    {
     "name": "stdout",
     "output_type": "stream",
     "text": [
      "Mary - NP\n",
      "the green witch - NP\n"
     ]
    }
   ],
   "source": [
    "doc = nlp(\"Mary slapped the green witch.\")\n",
    "for chunk in doc.noun_chunks:\n",
    "    print(f\"{chunk} - {chunk.label_}\")"
   ]
  },
  {
   "cell_type": "code",
   "execution_count": null,
   "id": "0020c6b4-659c-4bff-b983-a788e043ea43",
   "metadata": {},
   "outputs": [],
   "source": []
  }
 ],
 "metadata": {
  "kernelspec": {
   "display_name": "Python 3 (ipykernel)",
   "language": "python",
   "name": "python3"
  },
  "language_info": {
   "codemirror_mode": {
    "name": "ipython",
    "version": 3
   },
   "file_extension": ".py",
   "mimetype": "text/x-python",
   "name": "python",
   "nbconvert_exporter": "python",
   "pygments_lexer": "ipython3",
   "version": "3.8.0"
  }
 },
 "nbformat": 4,
 "nbformat_minor": 5
}
