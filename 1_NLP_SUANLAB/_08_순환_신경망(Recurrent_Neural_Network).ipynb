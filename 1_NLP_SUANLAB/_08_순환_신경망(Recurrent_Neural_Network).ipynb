{
 "cells": [
  {
   "cell_type": "markdown",
   "metadata": {
    "id": "jacLnynuqUXZ"
   },
   "source": [
    "# 순환 신경망 (Recurrent Neural Network, RNN)\n",
    "\n",
    "- **순서가 있는 데이터**를 입력으로 받음\n",
    "\n",
    "- 변화하는 입력에 대한 출력을 얻음\n",
    "\n",
    "- 시계열(날씨, 주가 등), 자연어와 같이 **시간의 흐름에 따라 변화하고, 그 변화가 의미를 갖는 데이터**"
   ]
  },
  {
   "cell_type": "markdown",
   "metadata": {
    "id": "3P0gpo4gqWUz"
   },
   "source": [
    "## Feed Forward Network vs Recurrent Network\n",
    "\n",
    "- Feed Forward Net (앞먹임 구조)\n",
    "  - 일반적인 구조의 신경망\n",
    "\n",
    "  - 입력 → 은닉 → 출력층 으로 이어지는 단방향 구조\n",
    "\n",
    "  - 이전 스텝의 출력의 영향을 받지 않음\n",
    "\n",
    "- Recurrent Net (되먹임 구조)\n",
    "  - 이전 층(Layer), 또는 스텝의 출력이 다시 입력으로 연결되는 신경망 구조\n",
    "\n",
    "  - 각 스텝마다 이전 상태를 기억 시스템(Memory System)  \n",
    "\n",
    "  - 현재 상태가 이전 상태에 종속\n",
    "\n",
    "  <br>\n",
    "\n",
    "  <img src=\"https://www.researchgate.net/profile/Engin_Pekel/publication/315111480/figure/fig1/AS:472548166115333@1489675670530/Feed-forward-and-recurrent-ANN-architecture.png\">\n",
    "\n",
    "  <sub>출처: https://www.researchgate.net/figure/Feed-forward-and-recurrent-ANN-architecture_fig1_315111480</sub>\n",
    "\n"
   ]
  },
  {
   "cell_type": "markdown",
   "metadata": {
    "id": "2h5HFH0BqYho"
   },
   "source": [
    "## 순환 신경망 구조\n",
    "\n",
    "<img src=\"https://colah.github.io/posts/2015-08-Understanding-LSTMs/img/RNN-unrolled.png\" width=\"700\">\n",
    "\n",
    "<br>\n",
    "\n",
    "- 입력 $x_t$에서 $t$는 시각을 뜻함\n",
    "\n",
    "- $X_0$에 대한 출력 $Y_0$이 다음 레이어에 전달\n",
    "\n",
    "- 각각의 입력에 대해 출력은 해당 레이어대로 출력값을 반환"
   ]
  },
  {
   "cell_type": "markdown",
   "metadata": {
    "id": "kowOGfSLqbSn"
   },
   "source": [
    "## 순환 신경망의 다양한 구조\n",
    "\n",
    "<img src=\"https://static.packt-cdn.com/products/9781789346640/graphics/2d4a64ef-9cf9-4b4a-9049-cb9de7a07f89.png\">\n",
    "  \n",
    "  <sub>출처: https://subscription.packtpub.com/book/big_data_and_business_intelligence/9781789346640/11/ch11lvl1sec80/introduction</sub>\n",
    "\n",
    "- one to one\n",
    "  - RNN\n",
    "\n",
    "- one to many\n",
    "  - Image Captioning\n",
    "\n",
    "  - 이미지에 대한 설명 생성\n",
    "\n",
    "- many to one\n",
    "  - Sentiment Classification\n",
    "\n",
    "  - 문장의 긍정/부정을 판단하는 감정 분석\n",
    "\n",
    "- many to many\n",
    "  - Machine Translation\n",
    "\n",
    "  - 하나의 언어를 다른 언어로 번역하는 기계 번역\n",
    "\n",
    "- many to many\n",
    "  - Video Classification(Frame Level)\n",
    "\n",
    "\n"
   ]
  },
  {
   "cell_type": "markdown",
   "metadata": {
    "id": "uiIA4Ue7-G5B"
   },
   "source": [
    "## 두 가지 정보(현재 입력, 이전 시각의 출력)을 처리하는 수식\n",
    "$\\qquad h_t = tanh ( \\ h_{t-1} W_h \\ + \\ x_t W_x + b) $\n",
    "\n",
    "- $W_x$ : 입력 $x$를 출력 $h$로 변환하기 위한 가중치\n",
    "\n",
    "- $W_h$ : 다음 시각의 출력으로 변환하기 위한 가중치\n",
    "\n",
    "- $h$는 '상태'를 기억\n",
    "\n",
    "- $h_t \\ $를 은닉 상태(hidden state) 또는 은닉 상태 벡터(hidden state vector)라고도 불림\n",
    "\n",
    "  <sub>출처: https://colah.github.io/posts/2015-08-Understanding-LSTMs/</sub>"
   ]
  },
  {
   "cell_type": "markdown",
   "metadata": {
    "id": "lp3_sVIjHk0F"
   },
   "source": [
    "## 순환 신경망 레이어 (RNN Layer)\n",
    "\n",
    "- 입력: `(timesteps, input_features)`\n",
    "\n",
    "- 출력: `(timesteps, output_features)`"
   ]
  },
  {
   "cell_type": "code",
   "execution_count": 16,
   "metadata": {
    "id": "n08yr0aAIbFD"
   },
   "outputs": [],
   "source": [
    "import numpy as np\n",
    "import matplotlib.pyplot as plt"
   ]
  },
  {
   "cell_type": "code",
   "execution_count": 2,
   "metadata": {
    "id": "ZKIInEEZIcBj"
   },
   "outputs": [],
   "source": [
    "timesteps = 100\n",
    "input_features = 32\n",
    "output_features = 64\n",
    "\n",
    "inputs = np.random.random((timesteps, input_features))\n",
    "\n",
    "state_t = np.zeros((output_features, ))\n",
    "\n",
    "W = np.random.random((output_features, input_features))\n",
    "U = np.random.random((output_features, output_features))\n",
    "b = np.random.random((output_features, ))\n",
    "\n",
    "successive_outputs = []\n",
    "\n",
    "for input_t in inputs:\n",
    "    output_t = np.tanh(np.dot(W, input_t) + np.dot(U,state_t) +b)\n",
    "    successive_outputs.append(output_t)\n",
    "    state_t = output_t\n",
    "\n",
    "final_output_sequence = np.stack(successive_outputs, axis=0)"
   ]
  },
  {
   "cell_type": "code",
   "execution_count": 3,
   "metadata": {},
   "outputs": [
    {
     "data": {
      "text/plain": [
       "array([[0.99999998, 0.99999999, 1.        , ..., 0.99999999, 1.        ,\n",
       "        0.99999999],\n",
       "       [1.        , 1.        , 1.        , ..., 1.        , 1.        ,\n",
       "        1.        ],\n",
       "       [1.        , 1.        , 1.        , ..., 1.        , 1.        ,\n",
       "        1.        ],\n",
       "       ...,\n",
       "       [1.        , 1.        , 1.        , ..., 1.        , 1.        ,\n",
       "        1.        ],\n",
       "       [1.        , 1.        , 1.        , ..., 1.        , 1.        ,\n",
       "        1.        ],\n",
       "       [1.        , 1.        , 1.        , ..., 1.        , 1.        ,\n",
       "        1.        ]])"
      ]
     },
     "execution_count": 3,
     "metadata": {},
     "output_type": "execute_result"
    }
   ],
   "source": [
    "final_output_sequence"
   ]
  },
  {
   "cell_type": "markdown",
   "metadata": {
    "id": "bEZ8dQEEKxlQ"
   },
   "source": [
    "## 케라스의 순환층\n",
    "- `SimpleRNN` layer\n",
    "\n",
    "- 입력: `(batch_size, timesteps, input_features)`\n",
    "\n",
    "- 출력\n",
    "  - `return_sequences`로 결정할 수 있음\n",
    "  \n",
    "  - 3D 텐서\n",
    "    - 타임스텝의 출력을 모은 전체 시퀀스를 반환\n",
    "\n",
    "    - `(batch_size, timesteps, output_features)`\n",
    "\n",
    "  - 2D 텐서\n",
    "    - 입력 시퀀스에 대한 마지막 출력만 반환\n",
    "\n",
    "    - `(batch_size, output_features)`\n"
   ]
  },
  {
   "cell_type": "code",
   "execution_count": 4,
   "metadata": {
    "id": "lZ1YCi1iKMC8"
   },
   "outputs": [],
   "source": [
    "from tensorflow.keras.models import Sequential\n",
    "from tensorflow.keras.layers import Dense, Embedding, SimpleRNN"
   ]
  },
  {
   "cell_type": "code",
   "execution_count": 5,
   "metadata": {
    "id": "GQ9LbTgoKxIl"
   },
   "outputs": [
    {
     "name": "stdout",
     "output_type": "stream",
     "text": [
      "Model: \"sequential\"\n",
      "_________________________________________________________________\n",
      " Layer (type)                Output Shape              Param #   \n",
      "=================================================================\n",
      " embedding (Embedding)       (None, 100, 32)           320000    \n",
      "                                                                 \n",
      " simple_rnn (SimpleRNN)      (None, 32)                2080      \n",
      "                                                                 \n",
      "=================================================================\n",
      "Total params: 322080 (1.23 MB)\n",
      "Trainable params: 322080 (1.23 MB)\n",
      "Non-trainable params: 0 (0.00 Byte)\n",
      "_________________________________________________________________\n"
     ]
    }
   ],
   "source": [
    "model = Sequential()\n",
    "model.add(Embedding(input_dim=10000, output_dim=32, input_length=100))\n",
    "model.add(SimpleRNN(units=32))\n",
    "model.summary()"
   ]
  },
  {
   "cell_type": "code",
   "execution_count": 6,
   "metadata": {
    "id": "KDxE5Jv0Kc7O"
   },
   "outputs": [
    {
     "name": "stdout",
     "output_type": "stream",
     "text": [
      "Model: \"sequential_1\"\n",
      "_________________________________________________________________\n",
      " Layer (type)                Output Shape              Param #   \n",
      "=================================================================\n",
      " embedding_1 (Embedding)     (None, 100, 32)           320000    \n",
      "                                                                 \n",
      " simple_rnn_1 (SimpleRNN)    (None, 100, 32)           2080      \n",
      "                                                                 \n",
      "=================================================================\n",
      "Total params: 322080 (1.23 MB)\n",
      "Trainable params: 322080 (1.23 MB)\n",
      "Non-trainable params: 0 (0.00 Byte)\n",
      "_________________________________________________________________\n"
     ]
    }
   ],
   "source": [
    "model = Sequential()\n",
    "model.add(Embedding(input_dim=10000, output_dim=32, input_length=100))\n",
    "model.add(SimpleRNN(units=32, return_sequences=True)) # return_sequences: Whether to return the last output in the output sequence, or the full sequence.\n",
    "model.summary()"
   ]
  },
  {
   "cell_type": "markdown",
   "metadata": {
    "id": "E-MDIz1zcIyP"
   },
   "source": [
    "- 네트워크의 표현력을 증가시키기 위해 여러 개의 순환층을 차례대로 쌓는 것이 유용할 때가 있음\n",
    "\n",
    "  - 이런 설정에서는 중간층들이 전체 출력 시퀀스를 반환하도록 설정 `(return_sequences=True)`"
   ]
  },
  {
   "cell_type": "code",
   "execution_count": 13,
   "metadata": {
    "id": "E1tUaIe2L7GZ"
   },
   "outputs": [
    {
     "name": "stdout",
     "output_type": "stream",
     "text": [
      "Model: \"sequential_6\"\n",
      "_________________________________________________________________\n",
      " Layer (type)                Output Shape              Param #   \n",
      "=================================================================\n",
      " embedding_6 (Embedding)     (None, 100, 32)           320000    \n",
      "                                                                 \n",
      " simple_rnn_9 (SimpleRNN)    (None, 100, 32)           2080      \n",
      "                                                                 \n",
      " simple_rnn_10 (SimpleRNN)   (None, 100, 32)           2080      \n",
      "                                                                 \n",
      " simple_rnn_11 (SimpleRNN)   (None, 100, 32)           2080      \n",
      "                                                                 \n",
      " simple_rnn_12 (SimpleRNN)   (None, 32)                2080      \n",
      "                                                                 \n",
      "=================================================================\n",
      "Total params: 328320 (1.25 MB)\n",
      "Trainable params: 328320 (1.25 MB)\n",
      "Non-trainable params: 0 (0.00 Byte)\n",
      "_________________________________________________________________\n"
     ]
    }
   ],
   "source": [
    "model = Sequential()\n",
    "model.add(Embedding(input_dim=10000, output_dim=32, input_length=100))\n",
    "model.add(SimpleRNN(units=32, return_sequences=True))\n",
    "model.add(SimpleRNN(units=32, return_sequences=True))\n",
    "model.add(SimpleRNN(units=32, return_sequences=True))\n",
    "model.add(SimpleRNN(units=32))\n",
    "model.summary()"
   ]
  },
  {
   "cell_type": "markdown",
   "metadata": {
    "id": "j0CNAzN_deXE"
   },
   "source": [
    "## IMDB 데이터 적용"
   ]
  },
  {
   "cell_type": "markdown",
   "metadata": {
    "id": "W1SbNYRdmVTY"
   },
   "source": [
    "### 데이터 로드"
   ]
  },
  {
   "cell_type": "code",
   "execution_count": 7,
   "metadata": {
    "id": "-27Tkihbcei2"
   },
   "outputs": [],
   "source": [
    "from tensorflow.keras.datasets import imdb\n",
    "from tensorflow.keras.preprocessing.sequence import pad_sequences"
   ]
  },
  {
   "cell_type": "code",
   "execution_count": 8,
   "metadata": {
    "id": "-27Tkihbcei2"
   },
   "outputs": [
    {
     "data": {
      "text/plain": [
       "((25000,), (25000,), (25000,), (25000,))"
      ]
     },
     "execution_count": 8,
     "metadata": {},
     "output_type": "execute_result"
    }
   ],
   "source": [
    "#np_load_old = np.load\n",
    "#np.load = lambda *a,**k: np_load_old(*a, allow_pickle=True, **k)\n",
    "\n",
    "num_words = 10000 \n",
    "max_len = 500\n",
    "batch_size = 32\n",
    "\n",
    "(x_train, y_train), (x_test, y_test) = imdb.load_data(num_words=num_words)\n",
    "\n",
    "x_train.shape, y_train.shape, x_test.shape, y_test.shape"
   ]
  },
  {
   "cell_type": "code",
   "execution_count": 9,
   "metadata": {
    "id": "KL-_piPIdms6"
   },
   "outputs": [
    {
     "data": {
      "text/plain": [
       "((25000, 500), (25000, 500))"
      ]
     },
     "execution_count": 9,
     "metadata": {},
     "output_type": "execute_result"
    }
   ],
   "source": [
    "padded_x_train = pad_sequences(x_train, maxlen=max_len)\n",
    "padded_x_test = pad_sequences(x_test, maxlen=max_len)\n",
    "\n",
    "padded_x_train.shape, padded_x_test.shape"
   ]
  },
  {
   "cell_type": "markdown",
   "metadata": {
    "id": "uf2EVnzceS4R"
   },
   "source": [
    "### 모델 구성"
   ]
  },
  {
   "cell_type": "code",
   "execution_count": 18,
   "metadata": {
    "id": "d7dfeDC5eMdj"
   },
   "outputs": [
    {
     "name": "stdout",
     "output_type": "stream",
     "text": [
      "Model: \"sequential_7\"\n",
      "_________________________________________________________________\n",
      " Layer (type)                Output Shape              Param #   \n",
      "=================================================================\n",
      " embedding_7 (Embedding)     (None, 500, 32)           320000    \n",
      "                                                                 \n",
      " simple_rnn_13 (SimpleRNN)   (None, 32)                2080      \n",
      "                                                                 \n",
      " dense (Dense)               (None, 1)                 33        \n",
      "                                                                 \n",
      "=================================================================\n",
      "Total params: 322113 (1.23 MB)\n",
      "Trainable params: 322113 (1.23 MB)\n",
      "Non-trainable params: 0 (0.00 Byte)\n",
      "_________________________________________________________________\n"
     ]
    }
   ],
   "source": [
    "model = Sequential()\n",
    "\n",
    "model.add(Embedding(input_dim=num_words, output_dim=32, input_length=max_len))\n",
    "model.add(SimpleRNN(units=32))\n",
    "model.add(Dense(1, activation='sigmoid'))\n",
    "\n",
    "model.compile(optimizer='rmsprop', loss='binary_crossentropy', metrics=['acc'])\n",
    "\n",
    "model.summary()"
   ]
  },
  {
   "cell_type": "markdown",
   "metadata": {
    "id": "pU_9-Hu7mcMa"
   },
   "source": [
    "### 모델 학습"
   ]
  },
  {
   "cell_type": "code",
   "execution_count": 20,
   "metadata": {
    "id": "KnAUijOReWGu"
   },
   "outputs": [
    {
     "name": "stdout",
     "output_type": "stream",
     "text": [
      "Epoch 1/10\n",
      "625/625 [==============================] - 47s 75ms/step - loss: 0.2843 - acc: 0.8863 - val_loss: 0.4208 - val_acc: 0.8276\n",
      "Epoch 2/10\n",
      "625/625 [==============================] - 45s 72ms/step - loss: 0.2299 - acc: 0.9105 - val_loss: 0.4644 - val_acc: 0.8058\n",
      "Epoch 3/10\n",
      "625/625 [==============================] - 43s 69ms/step - loss: 0.1787 - acc: 0.9326 - val_loss: 0.4226 - val_acc: 0.8488\n",
      "Epoch 4/10\n",
      "625/625 [==============================] - 43s 69ms/step - loss: 0.1353 - acc: 0.9495 - val_loss: 0.5467 - val_acc: 0.7860\n",
      "Epoch 5/10\n",
      "625/625 [==============================] - 44s 70ms/step - loss: 0.0974 - acc: 0.9657 - val_loss: 0.6117 - val_acc: 0.7906\n",
      "Epoch 6/10\n",
      "625/625 [==============================] - 44s 71ms/step - loss: 0.0627 - acc: 0.9794 - val_loss: 0.6275 - val_acc: 0.8120\n",
      "Epoch 7/10\n",
      "625/625 [==============================] - 44s 71ms/step - loss: 0.0455 - acc: 0.9850 - val_loss: 0.9058 - val_acc: 0.7374\n",
      "Epoch 8/10\n",
      "625/625 [==============================] - 45s 71ms/step - loss: 0.0353 - acc: 0.9884 - val_loss: 0.8885 - val_acc: 0.7948\n",
      "Epoch 9/10\n",
      "625/625 [==============================] - 46s 73ms/step - loss: 0.0224 - acc: 0.9929 - val_loss: 1.0048 - val_acc: 0.7584\n",
      "Epoch 10/10\n",
      "625/625 [==============================] - 51s 81ms/step - loss: 0.0194 - acc: 0.9938 - val_loss: 1.0467 - val_acc: 0.7520\n"
     ]
    }
   ],
   "source": [
    "history = model.fit(padded_x_train, y_train, epochs=10, batch_size=32, validation_split=0.2)"
   ]
  },
  {
   "cell_type": "markdown",
   "metadata": {
    "id": "afIyKdLsmj6N"
   },
   "source": [
    "### 시각화"
   ]
  },
  {
   "cell_type": "code",
   "execution_count": 22,
   "metadata": {
    "id": "sendhEujeu8S"
   },
   "outputs": [
    {
     "data": {
      "image/png": "[encoded data removed]",
      "text/plain": [
       "<Figure size 800x400 with 2 Axes>"
      ]
     },
     "metadata": {},
     "output_type": "display_data"
    }
   ],
   "source": [
    "import matplotlib.pyplot as plt\n",
    "\n",
    "plt.figure(figsize=(8,4))\n",
    "plt.subplot(1,2,1)\n",
    "plt.plot(history.history['loss'], 'b-', label='Train Loss')\n",
    "plt.plot(history.history['val_loss'], 'r:', label='Validation Loss')\n",
    "plt.legend()\n",
    "plt.grid()\n",
    "\n",
    "plt.subplot(1,2,2)\n",
    "plt.plot(history.history['acc'], 'b-', label='Train Accuracy')\n",
    "plt.plot(history.history['val_acc'], 'r:', label='Validation Accuracy')\n",
    "plt.legend()\n",
    "plt.grid();"
   ]
  },
  {
   "cell_type": "code",
   "execution_count": 25,
   "metadata": {
    "id": "YLO526Sgf-U_"
   },
   "outputs": [
    {
     "name": "stdout",
     "output_type": "stream",
     "text": [
      "782/782 [==============================] - 14s 18ms/step - loss: 1.0392 - acc: 0.7516\n"
     ]
    },
    {
     "data": {
      "text/plain": [
       "[1.0392348766326904, 0.7515599727630615]"
      ]
     },
     "execution_count": 25,
     "metadata": {},
     "output_type": "execute_result"
    }
   ],
   "source": [
    "model.evaluate(padded_x_test, y_test)"
   ]
  },
  {
   "cell_type": "markdown",
   "metadata": {
    "id": "VTmZ_XiZguM5"
   },
   "source": [
    "- 전체 시퀀스가 아니라 순서대로 500개의 단어만 입력했기 때문에 성능이 낮게 나옴\n",
    "\n",
    "- SimpleRNN은 긴 시퀀스를 처리하는데 적합하지 않음\n",
    "\n",
    "- SimpleRNN은 실전에 사용하기엔 너무 단순\n",
    "\n",
    "- SimpleRNN은 이론적으로 시간 $t$ 에서 이전의 모든 타임스텝의 정보를 유지할 수 있지만, 실제로는 긴 시간에 걸친 의존성은 학습할 수 없음\n",
    "\n",
    "- 그래디언트 소실 문제(vanishing gradient problem)\n",
    "  - 이를 방지하기 위해 LSTM, GRU 같은 레이어 등장\n",
    "\n"
   ]
  },
  {
   "cell_type": "markdown",
   "metadata": {
    "id": "oZXJIdDai7sV"
   },
   "source": [
    "# LSTM(Long Short-Term Memory)\n",
    "- 장단기 메모리 알고리즘\n",
    "\n",
    "- 나중을 위해 정보를 저장함으로써 오래된 시그널이 점차 소실되는 것을 막아줌\n",
    "\n",
    "  <img src=\"https://colah.github.io/posts/2015-08-Understanding-LSTMs/img/LSTM3-chain.png\">\n",
    "\n",
    "  <sub>출처: https://colah.github.io/posts/2015-08-Understanding-LSTMs/</sub>"
   ]
  },
  {
   "cell_type": "markdown",
   "metadata": {
    "id": "j3afhQOUlqG9"
   },
   "source": [
    "## IMDB 데이터"
   ]
  },
  {
   "cell_type": "markdown",
   "metadata": {
    "id": "tZOCK6EQl1QI"
   },
   "source": [
    "### 데이터 로드"
   ]
  },
  {
   "cell_type": "code",
   "execution_count": 26,
   "metadata": {
    "id": "00ZS9v3YmT_H"
   },
   "outputs": [],
   "source": [
    "# 위 RNN과 같은 데이터 사용"
   ]
  },
  {
   "cell_type": "markdown",
   "metadata": {
    "id": "uo8uhFyBl2k-"
   },
   "source": [
    "### 모델 구성"
   ]
  },
  {
   "cell_type": "code",
   "execution_count": 30,
   "metadata": {
    "id": "tFkAN2Dzl3GC"
   },
   "outputs": [],
   "source": [
    "from tensorflow.keras.layers import LSTM"
   ]
  },
  {
   "cell_type": "code",
   "execution_count": 29,
   "metadata": {
    "id": "TPr9Ec-El50W"
   },
   "outputs": [
    {
     "name": "stdout",
     "output_type": "stream",
     "text": [
      "Model: \"sequential_9\"\n",
      "_________________________________________________________________\n",
      " Layer (type)                Output Shape              Param #   \n",
      "=================================================================\n",
      " embedding_9 (Embedding)     (None, None, 32)          320000    \n",
      "                                                                 \n",
      " lstm (LSTM)                 (None, 32)                8320      \n",
      "                                                                 \n",
      " dense_1 (Dense)             (None, 1)                 33        \n",
      "                                                                 \n",
      "=================================================================\n",
      "Total params: 328353 (1.25 MB)\n",
      "Trainable params: 328353 (1.25 MB)\n",
      "Non-trainable params: 0 (0.00 Byte)\n",
      "_________________________________________________________________\n"
     ]
    }
   ],
   "source": [
    "model = Sequential()\n",
    "model.add(Embedding(num_words, 32))\n",
    "model.add(LSTM(32))\n",
    "model.add(Dense(1, activation='sigmoid'))\n",
    "model.compile(optimizer='rmsprop', loss='binary_crossentropy', metrics=['acc'])\n",
    "model.summary()"
   ]
  },
  {
   "cell_type": "markdown",
   "metadata": {
    "id": "vAPnX6ACmenz"
   },
   "source": [
    "### 모델 학습"
   ]
  },
  {
   "cell_type": "code",
   "execution_count": 31,
   "metadata": {
    "id": "FGWhqX5GmNeR"
   },
   "outputs": [
    {
     "name": "stdout",
     "output_type": "stream",
     "text": [
      "Epoch 1/10\n",
      "625/625 [==============================] - 83s 131ms/step - loss: 0.4538 - acc: 0.7811 - val_loss: 0.3025 - val_acc: 0.8778\n",
      "Epoch 2/10\n",
      "625/625 [==============================] - 84s 134ms/step - loss: 0.2801 - acc: 0.8904 - val_loss: 0.3146 - val_acc: 0.8636\n",
      "Epoch 3/10\n",
      "625/625 [==============================] - 84s 134ms/step - loss: 0.2397 - acc: 0.9104 - val_loss: 0.2871 - val_acc: 0.8834\n",
      "Epoch 4/10\n",
      "625/625 [==============================] - 84s 134ms/step - loss: 0.2047 - acc: 0.9258 - val_loss: 0.2939 - val_acc: 0.8784\n",
      "Epoch 5/10\n",
      "625/625 [==============================] - 82s 132ms/step - loss: 0.1846 - acc: 0.9333 - val_loss: 0.2877 - val_acc: 0.8808\n",
      "Epoch 6/10\n",
      "625/625 [==============================] - 82s 132ms/step - loss: 0.1678 - acc: 0.9416 - val_loss: 0.3004 - val_acc: 0.8894\n",
      "Epoch 7/10\n",
      "625/625 [==============================] - 82s 132ms/step - loss: 0.1521 - acc: 0.9481 - val_loss: 0.3486 - val_acc: 0.8772\n",
      "Epoch 8/10\n",
      "625/625 [==============================] - 81s 130ms/step - loss: 0.1435 - acc: 0.9506 - val_loss: 0.3300 - val_acc: 0.8840\n",
      "Epoch 9/10\n",
      "625/625 [==============================] - 81s 130ms/step - loss: 0.1354 - acc: 0.9539 - val_loss: 0.3391 - val_acc: 0.8768\n",
      "Epoch 10/10\n",
      "625/625 [==============================] - 78s 124ms/step - loss: 0.1231 - acc: 0.9568 - val_loss: 0.3650 - val_acc: 0.8830\n"
     ]
    }
   ],
   "source": [
    "history = model.fit(padded_x_train, y_train, \n",
    "                    epochs=10, batch_size=32,\n",
    "                    validation_split=0.2)"
   ]
  },
  {
   "cell_type": "markdown",
   "metadata": {
    "id": "gFiE5SpPmh_x"
   },
   "source": [
    "### 시각화"
   ]
  },
  {
   "cell_type": "code",
   "execution_count": 32,
   "metadata": {
    "id": "jwQ6ZYHTyXHS"
   },
   "outputs": [
    {
     "data": {
      "image/png": "[encoded data removed]",
      "text/plain": [
       "<Figure size 800x400 with 2 Axes>"
      ]
     },
     "metadata": {},
     "output_type": "display_data"
    }
   ],
   "source": [
    "plt.figure(figsize=(8,4))\n",
    "plt.subplot(1,2,1)\n",
    "plt.plot(history.history['loss'], 'b-', label='Train Loss')\n",
    "plt.plot(history.history['val_loss'], 'r:', label='Validation Loss')\n",
    "plt.legend()\n",
    "plt.grid()\n",
    "\n",
    "plt.subplot(1,2,2)\n",
    "plt.plot(history.history['acc'], 'b-', label='Train Accuracy')\n",
    "plt.plot(history.history['val_acc'], 'r:', label='Validation Accuracy')\n",
    "plt.legend()\n",
    "plt.grid();"
   ]
  },
  {
   "cell_type": "markdown",
   "metadata": {
    "id": "NiZ6uiUPyXHN"
   },
   "source": [
    "### 모델 평가"
   ]
  },
  {
   "cell_type": "code",
   "execution_count": 33,
   "metadata": {
    "id": "DZjW6iOV3k-J"
   },
   "outputs": [
    {
     "name": "stdout",
     "output_type": "stream",
     "text": [
      "782/782 [==============================] - 37s 48ms/step - loss: 0.4107 - acc: 0.8670\n"
     ]
    },
    {
     "data": {
      "text/plain": [
       "[0.4106576144695282, 0.8669599890708923]"
      ]
     },
     "execution_count": 33,
     "metadata": {},
     "output_type": "execute_result"
    }
   ],
   "source": [
    "model.evaluate(padded_x_test, y_test)"
   ]
  },
  {
   "cell_type": "markdown",
   "metadata": {
    "id": "Dc0wuvArGHgD"
   },
   "source": [
    "# GRU (Gated Recurrent Unit)\n",
    "- LSTM을 더 단순하게 만든 구조\n",
    "\n",
    "- 기억 셀은 없고, 시간방향으로 전파하는 것은 은닉 상태만 있음\n",
    "\n",
    "- reset gate\n",
    "  - 과거의 은닉 상태를 얼마나 무시할지 결정\n",
    "\n",
    "  - $r$ 값이 결정\n",
    "\n",
    "- update gate\n",
    "  -  은닉 상태를 갱신하는 게이트  \n",
    "\n",
    "  - LSTM의 forget, input gate 역할을 동시에 함\n",
    "  \n",
    "  <img src=\"https://miro.medium.com/max/1400/1*jhi5uOm9PvZfmxvfaCektw.png\" width=\"500\">\n",
    "\n",
    "<sub>출처: https://towardsdatascience.com/illustrated-guide-to-lstms-and-gru-s-a-step-by-step-explanation-44e9eb85bf21</sub>\n",
    "\n",
    "$\\qquad z = \\sigma (x_t W^{(z)}_x + h_{t-1} W^{(z)}_h + b^{(z)} \\\\\n",
    "  \\qquad r = \\sigma (x_t W^{(r)}_x + h_{t-1} W^{(r)}_h + b^{(r)}) \\\\\n",
    "  \\qquad \\tilde{i} = tanh (x_t W^{(i)}_x + (r \\odot h_{t-1}) W^{(i)}_h + b ) \\\\\n",
    "  \\qquad h_t = (1 - z) \\odot h_{t-1} + z \\odot \\tilde{h}$\n"
   ]
  },
  {
   "cell_type": "markdown",
   "metadata": {
    "id": "ONPaMDFEsftq"
   },
   "source": [
    "### 데이터셋 로드"
   ]
  },
  {
   "cell_type": "markdown",
   "metadata": {
    "id": "TvnFLeqSsOSh"
   },
   "source": [
    "## Reuters 데이터\n",
    "\n",
    "- IMDB와 유사한 데이터셋(텍스트 데이터)\n",
    "\n",
    "- 46개의 상호 배타적인 토픽으로 이루어진 데이터셋\n",
    "  - 다중 분류 문제\n"
   ]
  },
  {
   "cell_type": "code",
   "execution_count": 10,
   "metadata": {},
   "outputs": [
    {
     "name": "stdout",
     "output_type": "stream",
     "text": [
      "(8982,) (8982,) (2246,) (2246,)\n",
      "(8982, 300) (2246, 300)\n"
     ]
    }
   ],
   "source": [
    "from tensorflow.keras.datasets import reuters\n",
    "\n",
    "num_words = 10000   \n",
    "(x_train, y_train), (x_test, y_test) = reuters.load_data(num_words=num_words)\n",
    "\n",
    "\n",
    "print(x_train.shape, y_train.shape, x_test.shape, y_test.shape)\n",
    "\n",
    "max_len = 300\n",
    "padded_x_train = pad_sequences(x_train, maxlen=max_len)\n",
    "padded_x_test = pad_sequences(x_test, maxlen=max_len)\n",
    "\n",
    "print(padded_x_train.shape, padded_x_test.shape)"
   ]
  },
  {
   "cell_type": "markdown",
   "metadata": {
    "id": "_P_JxBFntQOP"
   },
   "source": [
    "### 모델 구성\n",
    "- LSTM 레이어도 SimpleRNN과 같이 `return_sequences` 인자 사용가능"
   ]
  },
  {
   "cell_type": "code",
   "execution_count": 12,
   "metadata": {},
   "outputs": [
    {
     "name": "stdout",
     "output_type": "stream",
     "text": [
      "Model: \"sequential_3\"\n",
      "_________________________________________________________________\n",
      " Layer (type)                Output Shape              Param #   \n",
      "=================================================================\n",
      " embedding_3 (Embedding)     (None, None, 256)         2560000   \n",
      "                                                                 \n",
      " gru (GRU)                   (None, None, 256)         394752    \n",
      "                                                                 \n",
      " gru_1 (GRU)                 (None, 128)               148224    \n",
      "                                                                 \n",
      " dense (Dense)               (None, 46)                5934      \n",
      "                                                                 \n",
      "=================================================================\n",
      "Total params: 3108910 (11.86 MB)\n",
      "Trainable params: 3108910 (11.86 MB)\n",
      "Non-trainable params: 0 (0.00 Byte)\n",
      "_________________________________________________________________\n"
     ]
    }
   ],
   "source": [
    "from tensorflow.keras.layers import GRU\n",
    "\n",
    "model = Sequential()\n",
    "model.add(Embedding(input_dim=num_words, output_dim=256))\n",
    "model.add(GRU(256, return_sequences=True))\n",
    "model.add(GRU(128))\n",
    "model.add(Dense(46, activation='softmax'))\n",
    "\n",
    "model.compile(optimizer='adam', loss='sparse_categorical_crossentropy', metrics=['acc'])\n",
    "\n",
    "model.summary()"
   ]
  },
  {
   "cell_type": "code",
   "execution_count": 14,
   "metadata": {},
   "outputs": [
    {
     "name": "stdout",
     "output_type": "stream",
     "text": [
      "Epoch 1/10\n",
      "225/225 [==============================] - 286s 1s/step - loss: 1.9599 - acc: 0.4867 - val_loss: 1.6570 - val_acc: 0.5676\n",
      "Epoch 2/10\n",
      "225/225 [==============================] - 256s 1s/step - loss: 1.5539 - acc: 0.6039 - val_loss: 1.5221 - val_acc: 0.6221\n",
      "Epoch 3/10\n",
      "225/225 [==============================] - 267s 1s/step - loss: 1.2142 - acc: 0.6939 - val_loss: 1.3110 - val_acc: 0.6861\n",
      "Epoch 4/10\n",
      "225/225 [==============================] - 264s 1s/step - loss: 0.9181 - acc: 0.7659 - val_loss: 1.2851 - val_acc: 0.6989\n",
      "Epoch 5/10\n",
      "225/225 [==============================] - 243s 1s/step - loss: 0.6570 - acc: 0.8322 - val_loss: 1.2997 - val_acc: 0.7090\n",
      "Epoch 6/10\n",
      "225/225 [==============================] - 225s 999ms/step - loss: 0.4904 - acc: 0.8752 - val_loss: 1.3571 - val_acc: 0.7129\n",
      "Epoch 7/10\n",
      "225/225 [==============================] - 250s 1s/step - loss: 0.3681 - acc: 0.9058 - val_loss: 1.3997 - val_acc: 0.6995\n",
      "Epoch 8/10\n",
      "225/225 [==============================] - 226s 1s/step - loss: 0.2910 - acc: 0.9276 - val_loss: 1.4381 - val_acc: 0.7101\n",
      "Epoch 9/10\n",
      "225/225 [==============================] - 222s 989ms/step - loss: 0.2374 - acc: 0.9413 - val_loss: 1.4776 - val_acc: 0.7051\n",
      "Epoch 10/10\n",
      "225/225 [==============================] - 226s 1s/step - loss: 0.1946 - acc: 0.9482 - val_loss: 1.4613 - val_acc: 0.7145\n"
     ]
    }
   ],
   "source": [
    "history = model.fit(padded_x_train, y_train, \n",
    "                    epochs=10, batch_size=32,\n",
    "                    validation_split=0.2)"
   ]
  },
  {
   "cell_type": "code",
   "execution_count": 17,
   "metadata": {},
   "outputs": [
    {
     "data": {
      "image/png": "[encoded data removed]",
      "text/plain": [
       "<Figure size 800x400 with 2 Axes>"
      ]
     },
     "metadata": {},
     "output_type": "display_data"
    }
   ],
   "source": [
    "plt.figure(figsize=(8,4))\n",
    "plt.subplot(1,2,1)\n",
    "plt.plot(history.history['loss'], 'b-', label='Train Loss')\n",
    "plt.plot(history.history['val_loss'], 'r:', label='Validation Loss')\n",
    "plt.legend()\n",
    "plt.grid()\n",
    "\n",
    "plt.subplot(1,2,2)\n",
    "plt.plot(history.history['acc'], 'b-', label='Train Accuracy')\n",
    "plt.plot(history.history['val_acc'], 'r:', label='Validation Accuracy')\n",
    "plt.legend()\n",
    "plt.grid();"
   ]
  },
  {
   "cell_type": "code",
   "execution_count": 18,
   "metadata": {},
   "outputs": [
    {
     "name": "stdout",
     "output_type": "stream",
     "text": [
      "71/71 [==============================] - 15s 207ms/step - loss: 1.6268 - acc: 0.6959\n"
     ]
    },
    {
     "data": {
      "text/plain": [
       "[1.6268277168273926, 0.6959038376808167]"
      ]
     },
     "execution_count": 18,
     "metadata": {},
     "output_type": "execute_result"
    }
   ],
   "source": [
    "model.evaluate(padded_x_test, y_test)"
   ]
  },
  {
   "cell_type": "code",
   "execution_count": null,
   "metadata": {},
   "outputs": [],
   "source": []
  }
 ],
 "metadata": {
  "accelerator": "GPU",
  "colab": {
   "provenance": [],
   "toc_visible": true
  },
  "kernelspec": {
   "display_name": "Python 3 (ipykernel)",
   "language": "python",
   "name": "python3"
  },
  "language_info": {
   "codemirror_mode": {
    "name": "ipython",
    "version": 3
   },
   "file_extension": ".py",
   "mimetype": "text/x-python",
   "name": "python",
   "nbconvert_exporter": "python",
   "pygments_lexer": "ipython3",
   "version": "3.8.0"
  }
 },
 "nbformat": 4,
 "nbformat_minor": 4
}
