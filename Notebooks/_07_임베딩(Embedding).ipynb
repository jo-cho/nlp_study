{
 "cells": [
  {
   "cell_type": "markdown",
   "metadata": {
    "id": "sqJ4qz2uwHHH"
   },
   "source": [
    "# 임베딩(Embedding)"
   ]
  },
  {
   "cell_type": "markdown",
   "metadata": {
    "id": "E2HuxbsICXZc"
   },
   "source": [
    "* 워드 임베딩은 단어를 컴퓨터가 이해하고, 효율적으로 처리할 수 있도록 단어를 벡터화하는 기술\n",
    "* 워드 임베딩은 단어의 의미를 잘 표현해야만 하며, 현재까지도 많은 표현 방법이 연구\n",
    "* 워드 임베딩을 거쳐 잘 표현된 단어 벡터들은 계산이 가능하며, 모델 투입도 가능"
   ]
  },
  {
   "cell_type": "markdown",
   "metadata": {
    "id": "m0bGg7PjHyKM"
   },
   "source": [
    "## 인코딩(Encoding)"
   ]
  },
  {
   "cell_type": "markdown",
   "metadata": {
    "id": "lWVay2ofi4vR"
   },
   "source": [
    "* 기계는 자연어(영어, 한국어 등)을 이해할 수 없음\n",
    "* 데이터를 기계가 이해할 수 있도록 숫자 등으로 변환해주는 작업이 필요\n",
    "* 이러한 작업을 인코딩이라고 함\n",
    "\n",
    "* 텍스트 처리에서는 주로 정수 인코딩, 원 핫 인코딩을 사용"
   ]
  },
  {
   "cell_type": "markdown",
   "metadata": {
    "id": "QPXDPmRtKDfr"
   },
   "source": [
    "### 정수 인코딩"
   ]
  },
  {
   "cell_type": "markdown",
   "metadata": {
    "id": "zzb5eqDEPJDs"
   },
   "source": [
    "#### dictionary를 이용한 정수 인코딩"
   ]
  },
  {
   "cell_type": "markdown",
   "metadata": {
    "id": "MecMDCLZQz8X"
   },
   "source": [
    "* 각 단어와 정수 인덱스를 연결하고, 토큰을 변환해주는 정수 인코딩"
   ]
  },
  {
   "cell_type": "code",
   "execution_count": 1,
   "metadata": {
    "id": "AZoYLia2PQTV"
   },
   "outputs": [],
   "source": [
    "text = '건설회사 우발부채는 중요한 정보임에도 현재 건설회사 주석 공시로는 정보이용자들에게 필요한 사항을 확인하기 어렵다.'\n",
    "tokens = [x for x in text.split(' ')]\n",
    "unique = list(set(tokens))"
   ]
  },
  {
   "cell_type": "code",
   "execution_count": 2,
   "metadata": {},
   "outputs": [
    {
     "data": {
      "text/plain": [
       "['우발부채는',\n",
       " '건설회사',\n",
       " '중요한',\n",
       " '정보이용자들에게',\n",
       " '사항을',\n",
       " '확인하기',\n",
       " '어렵다.',\n",
       " '필요한',\n",
       " '주석',\n",
       " '현재',\n",
       " '정보임에도',\n",
       " '공시로는']"
      ]
     },
     "execution_count": 2,
     "metadata": {},
     "output_type": "execute_result"
    }
   ],
   "source": [
    "unique"
   ]
  },
  {
   "cell_type": "code",
   "execution_count": 3,
   "metadata": {
    "id": "AZoYLia2PQTV"
   },
   "outputs": [],
   "source": [
    "token2index = {}\n",
    "for i in range(len(unique)):\n",
    "    token2index[unique[i]] = i   "
   ]
  },
  {
   "cell_type": "code",
   "execution_count": 4,
   "metadata": {},
   "outputs": [
    {
     "data": {
      "text/plain": [
       "{'우발부채는': 0,\n",
       " '건설회사': 1,\n",
       " '중요한': 2,\n",
       " '정보이용자들에게': 3,\n",
       " '사항을': 4,\n",
       " '확인하기': 5,\n",
       " '어렵다.': 6,\n",
       " '필요한': 7,\n",
       " '주석': 8,\n",
       " '현재': 9,\n",
       " '정보임에도': 10,\n",
       " '공시로는': 11}"
      ]
     },
     "execution_count": 4,
     "metadata": {},
     "output_type": "execute_result"
    }
   ],
   "source": [
    "token2index"
   ]
  },
  {
   "cell_type": "code",
   "execution_count": 5,
   "metadata": {
    "id": "AZoYLia2PQTV"
   },
   "outputs": [
    {
     "data": {
      "text/plain": [
       "[1, 0, 2, 10, 9, 1, 8, 11, 3, 7, 4, 5, 6]"
      ]
     },
     "execution_count": 5,
     "metadata": {},
     "output_type": "execute_result"
    }
   ],
   "source": [
    "encode = [token2index[x] for x in tokens]\n",
    "encode"
   ]
  },
  {
   "cell_type": "markdown",
   "metadata": {
    "id": "uBEtdH1cPENH"
   },
   "source": [
    "#### keras를 이용한 정수 인코딩"
   ]
  },
  {
   "cell_type": "markdown",
   "metadata": {
    "id": "OpuQdjiLhogy"
   },
   "source": [
    "* 정수 인코딩은 단어에 정수로 레이블을 부여\n",
    "* `dictionary`, `nltk` 패키지를 이용한 방법들도 있지만, `keras`에서는 텍스트 처리에 필요한 도구들을 지원\n",
    "* 해당 도구는 자동으로 단어 빈도가 높은 단어의 인덱스는 낮게끔 설정"
   ]
  },
  {
   "cell_type": "code",
   "execution_count": 6,
   "metadata": {
    "id": "fIqPMClFiMvb"
   },
   "outputs": [
    {
     "name": "stdout",
     "output_type": "stream",
     "text": [
      "{'건설회사': 1, '우발부채는': 2, '중요한': 3, '정보임에도': 4, '현재': 5, '주석': 6, '공시로는': 7, '정보이용자들에게': 8, '필요한': 9, '사항을': 10, '확인하기': 11, '어렵다': 12}\n",
      "[1, 2, 3, 4, 5, 1, 6, 7, 8, 9, 10, 11, 12]\n"
     ]
    }
   ],
   "source": [
    "from keras.preprocessing.text import Tokenizer\n",
    "\n",
    "t = Tokenizer()\n",
    "t.fit_on_texts([text])\n",
    "print(t.word_index)\n",
    "\n",
    "encoded = t.texts_to_sequences([text])[0]\n",
    "print(encoded)"
   ]
  },
  {
   "cell_type": "markdown",
   "metadata": {
    "id": "2TDrAJL-KEt8"
   },
   "source": [
    "### 원 핫 인코딩(One-Hot Encoding)"
   ]
  },
  {
   "cell_type": "markdown",
   "metadata": {
    "id": "2zA6x8FbmeqS"
   },
   "source": [
    "#### 조건문과 반복문을 이용한 원 핫 인코딩"
   ]
  },
  {
   "cell_type": "markdown",
   "metadata": {
    "id": "IKGnvTw7RFf5"
   },
   "source": [
    "* 원 핫 인코딩은 정수 인코딩한 결과를 벡터로 변환한 인코딩\n",
    "* 원 핫 인코딩은 전체 단어 개수 만큼의 길이를 가진 배열에 해당 정수를 가진 위치는 1, 나머지는 0을 가진 벡터로 변환   "
   ]
  },
  {
   "cell_type": "code",
   "execution_count": 7,
   "metadata": {
    "id": "MlHc9XXERFla"
   },
   "outputs": [
    {
     "data": {
      "text/plain": [
       "array([[1, 0, 0, 0, 0, 0, 0, 0, 0, 0, 0, 0],\n",
       "       [0, 1, 0, 0, 0, 0, 0, 0, 0, 0, 0, 0],\n",
       "       [0, 0, 1, 0, 0, 0, 0, 0, 0, 0, 0, 0],\n",
       "       [0, 0, 0, 1, 0, 0, 0, 0, 0, 0, 0, 0],\n",
       "       [0, 0, 0, 0, 1, 0, 0, 0, 0, 0, 0, 0],\n",
       "       [1, 0, 0, 0, 0, 0, 0, 0, 0, 0, 0, 0],\n",
       "       [0, 0, 0, 0, 0, 1, 0, 0, 0, 0, 0, 0],\n",
       "       [0, 0, 0, 0, 0, 0, 1, 0, 0, 0, 0, 0],\n",
       "       [0, 0, 0, 0, 0, 0, 0, 1, 0, 0, 0, 0],\n",
       "       [0, 0, 0, 0, 0, 0, 0, 0, 1, 0, 0, 0],\n",
       "       [0, 0, 0, 0, 0, 0, 0, 0, 0, 1, 0, 0],\n",
       "       [0, 0, 0, 0, 0, 0, 0, 0, 0, 0, 1, 0],\n",
       "       [0, 0, 0, 0, 0, 0, 0, 0, 0, 0, 0, 1]])"
      ]
     },
     "execution_count": 7,
     "metadata": {},
     "output_type": "execute_result"
    }
   ],
   "source": [
    "import numpy as np\n",
    "\n",
    "one_hot = []\n",
    "for i in range(len(encoded)):\n",
    "    temp = []\n",
    "    for j in range(max(encoded)):\n",
    "        if j == (encoded[i]-1):\n",
    "            temp.append(1)\n",
    "        else:\n",
    "            temp.append(0)\n",
    "    one_hot.append(temp)\n",
    "    \n",
    "np.array(one_hot)"
   ]
  },
  {
   "cell_type": "markdown",
   "metadata": {
    "id": "xk_Bna8tmmqS"
   },
   "source": [
    "#### keras를 이용한 원 핫 인코딩"
   ]
  },
  {
   "cell_type": "markdown",
   "metadata": {
    "id": "oxlWLLJfht7i"
   },
   "source": [
    "* `keras`에서는 정수 인코딩을 원 핫 인코딩을 간단하게 변환해주는 `to_categorical()` 함수를 제공"
   ]
  },
  {
   "cell_type": "code",
   "execution_count": 8,
   "metadata": {
    "id": "xRJ8frWZiMeS"
   },
   "outputs": [
    {
     "data": {
      "text/plain": [
       "array([[0., 1., 0., 0., 0., 0., 0., 0., 0., 0., 0., 0., 0.],\n",
       "       [0., 0., 1., 0., 0., 0., 0., 0., 0., 0., 0., 0., 0.],\n",
       "       [0., 0., 0., 1., 0., 0., 0., 0., 0., 0., 0., 0., 0.],\n",
       "       [0., 0., 0., 0., 1., 0., 0., 0., 0., 0., 0., 0., 0.],\n",
       "       [0., 0., 0., 0., 0., 1., 0., 0., 0., 0., 0., 0., 0.],\n",
       "       [0., 1., 0., 0., 0., 0., 0., 0., 0., 0., 0., 0., 0.],\n",
       "       [0., 0., 0., 0., 0., 0., 1., 0., 0., 0., 0., 0., 0.],\n",
       "       [0., 0., 0., 0., 0., 0., 0., 1., 0., 0., 0., 0., 0.],\n",
       "       [0., 0., 0., 0., 0., 0., 0., 0., 1., 0., 0., 0., 0.],\n",
       "       [0., 0., 0., 0., 0., 0., 0., 0., 0., 1., 0., 0., 0.],\n",
       "       [0., 0., 0., 0., 0., 0., 0., 0., 0., 0., 1., 0., 0.],\n",
       "       [0., 0., 0., 0., 0., 0., 0., 0., 0., 0., 0., 1., 0.],\n",
       "       [0., 0., 0., 0., 0., 0., 0., 0., 0., 0., 0., 0., 1.]],\n",
       "      dtype=float32)"
      ]
     },
     "execution_count": 8,
     "metadata": {},
     "output_type": "execute_result"
    }
   ],
   "source": [
    "from tensorflow.keras.utils import to_categorical\n",
    "\n",
    "one_hot = to_categorical(encoded)\n",
    "one_hot"
   ]
  },
  {
   "cell_type": "markdown",
   "metadata": {
    "id": "0T4R-JlP2-6k"
   },
   "source": [
    "## IMDB 데이터\n",
    "\n",
    "- 인터넷 영화 데이터베이스(Internet Movie Database)\n",
    "\n",
    "- 양극단의 리뷰 5만개로 이루어진 데이터셋\n",
    "  - 훈련데이터: 25,000개\n",
    "  - 테스트데이터 : 25,000개\n",
    "\n",
    "  <img src=\"https://encrypted-tbn0.gstatic.com/images?q=tbn%3AANd9GcQlk-f2SHB6-Vs3RWwIugMctsyEn2QVZWC5KQ&usqp=CAU\">\n",
    "\n",
    "- https://www.imdb.com/interfaces/"
   ]
  },
  {
   "cell_type": "markdown",
   "metadata": {
    "id": "gxmuXi9L3-O2"
   },
   "source": [
    "### module import"
   ]
  },
  {
   "cell_type": "code",
   "execution_count": 49,
   "metadata": {
    "id": "XrfsUoGS2EVN"
   },
   "outputs": [],
   "source": [
    "from tensorflow.keras.datasets import imdb\n",
    "from tensorflow.keras.models import Sequential\n",
    "from tensorflow.keras.layers import Embedding, Dense, Flatten"
   ]
  },
  {
   "cell_type": "markdown",
   "metadata": {
    "id": "YyMXXlpY4Ajz"
   },
   "source": [
    "### 데이터 로드"
   ]
  },
  {
   "cell_type": "code",
   "execution_count": 50,
   "metadata": {
    "id": "wNnbw2tH2EiP"
   },
   "outputs": [],
   "source": [
    "num_words = 1000   #등장빈도 순위 1000위까지의 단어만 사용(즉, 단어 집합의 크기가 1000)\n",
    "(x_train, y_train), (x_test, y_test) = imdb.load_data(num_words=num_words)"
   ]
  },
  {
   "cell_type": "code",
   "execution_count": 51,
   "metadata": {
    "id": "OGnkPs_U2Ezk"
   },
   "outputs": [
    {
     "data": {
      "text/plain": [
       "((25000,), (25000,), (25000,), (25000,))"
      ]
     },
     "execution_count": 51,
     "metadata": {},
     "output_type": "execute_result"
    }
   ],
   "source": [
    "x_train.shape, y_train.shape, x_test.shape, y_test.shape"
   ]
  },
  {
   "cell_type": "markdown",
   "metadata": {
    "id": "bvtDvmuX4_JB"
   },
   "source": [
    "### 데이터 확인\n",
    "- 긍정: 1\n",
    "- 부정: 0"
   ]
  },
  {
   "cell_type": "markdown",
   "metadata": {},
   "source": [
    "앞의 세 개 훈련 데이터만 확인해보자"
   ]
  },
  {
   "cell_type": "code",
   "execution_count": 52,
   "metadata": {},
   "outputs": [
    {
     "data": {
      "text/plain": [
       "array([list([1, 14, 22, 16, 43, 530, 973, 2, 2, 65, 458, 2, 66, 2, 4, 173, 36, 256, 5, 25, 100, 43, 838, 112, 50, 670, 2, 9, 35, 480, 284, 5, 150, 4, 172, 112, 167, 2, 336, 385, 39, 4, 172, 2, 2, 17, 546, 38, 13, 447, 4, 192, 50, 16, 6, 147, 2, 19, 14, 22, 4, 2, 2, 469, 4, 22, 71, 87, 12, 16, 43, 530, 38, 76, 15, 13, 2, 4, 22, 17, 515, 17, 12, 16, 626, 18, 2, 5, 62, 386, 12, 8, 316, 8, 106, 5, 4, 2, 2, 16, 480, 66, 2, 33, 4, 130, 12, 16, 38, 619, 5, 25, 124, 51, 36, 135, 48, 25, 2, 33, 6, 22, 12, 215, 28, 77, 52, 5, 14, 407, 16, 82, 2, 8, 4, 107, 117, 2, 15, 256, 4, 2, 7, 2, 5, 723, 36, 71, 43, 530, 476, 26, 400, 317, 46, 7, 4, 2, 2, 13, 104, 88, 4, 381, 15, 297, 98, 32, 2, 56, 26, 141, 6, 194, 2, 18, 4, 226, 22, 21, 134, 476, 26, 480, 5, 144, 30, 2, 18, 51, 36, 28, 224, 92, 25, 104, 4, 226, 65, 16, 38, 2, 88, 12, 16, 283, 5, 16, 2, 113, 103, 32, 15, 16, 2, 19, 178, 32]),\n",
       "       list([1, 194, 2, 194, 2, 78, 228, 5, 6, 2, 2, 2, 134, 26, 4, 715, 8, 118, 2, 14, 394, 20, 13, 119, 954, 189, 102, 5, 207, 110, 2, 21, 14, 69, 188, 8, 30, 23, 7, 4, 249, 126, 93, 4, 114, 9, 2, 2, 5, 647, 4, 116, 9, 35, 2, 4, 229, 9, 340, 2, 4, 118, 9, 4, 130, 2, 19, 4, 2, 5, 89, 29, 952, 46, 37, 4, 455, 9, 45, 43, 38, 2, 2, 398, 4, 2, 26, 2, 5, 163, 11, 2, 2, 4, 2, 9, 194, 775, 7, 2, 2, 349, 2, 148, 605, 2, 2, 15, 123, 125, 68, 2, 2, 15, 349, 165, 2, 98, 5, 4, 228, 9, 43, 2, 2, 15, 299, 120, 5, 120, 174, 11, 220, 175, 136, 50, 9, 2, 228, 2, 5, 2, 656, 245, 2, 5, 4, 2, 131, 152, 491, 18, 2, 32, 2, 2, 14, 9, 6, 371, 78, 22, 625, 64, 2, 9, 8, 168, 145, 23, 4, 2, 15, 16, 4, 2, 5, 28, 6, 52, 154, 462, 33, 89, 78, 285, 16, 145, 95]),\n",
       "       list([1, 14, 47, 8, 30, 31, 7, 4, 249, 108, 7, 4, 2, 54, 61, 369, 13, 71, 149, 14, 22, 112, 4, 2, 311, 12, 16, 2, 33, 75, 43, 2, 296, 4, 86, 320, 35, 534, 19, 263, 2, 2, 4, 2, 33, 89, 78, 12, 66, 16, 4, 360, 7, 4, 58, 316, 334, 11, 4, 2, 43, 645, 662, 8, 257, 85, 2, 42, 2, 2, 83, 68, 2, 15, 36, 165, 2, 278, 36, 69, 2, 780, 8, 106, 14, 2, 2, 18, 6, 22, 12, 215, 28, 610, 40, 6, 87, 326, 23, 2, 21, 23, 22, 12, 272, 40, 57, 31, 11, 4, 22, 47, 6, 2, 51, 9, 170, 23, 595, 116, 595, 2, 13, 191, 79, 638, 89, 2, 14, 9, 8, 106, 607, 624, 35, 534, 6, 227, 7, 129, 113])],\n",
       "      dtype=object)"
      ]
     },
     "execution_count": 52,
     "metadata": {},
     "output_type": "execute_result"
    }
   ],
   "source": [
    "x_train[:3]"
   ]
  },
  {
   "cell_type": "code",
   "execution_count": 53,
   "metadata": {},
   "outputs": [
    {
     "data": {
      "text/plain": [
       "array([1, 0, 0], dtype=int64)"
      ]
     },
     "execution_count": 53,
     "metadata": {},
     "output_type": "execute_result"
    }
   ],
   "source": [
    "y_train[:3]"
   ]
  },
  {
   "cell_type": "code",
   "execution_count": 54,
   "metadata": {
    "id": "wFruX-Vp2ExJ"
   },
   "outputs": [
    {
     "name": "stdout",
     "output_type": "stream",
     "text": [
      "긍정 => [1, 14, 22, 16, 43, 530, 973, 2, 2, 65, 458, 2, 66, 2, 4, 173, 36, 256, 5, 25, 100, 43, 838, 112, 50, 670, 2, 9, 35, 480, 284, 5, 150, 4, 172, 112, 167, 2, 336, 385, 39, 4, 172, 2, 2, 17, 546, 38, 13, 447, 4, 192, 50, 16, 6, 147, 2, 19, 14, 22, 4, 2, 2, 469, 4, 22, 71, 87, 12, 16, 43, 530, 38, 76, 15, 13, 2, 4, 22, 17, 515, 17, 12, 16, 626, 18, 2, 5, 62, 386, 12, 8, 316, 8, 106, 5, 4, 2, 2, 16, 480, 66, 2, 33, 4, 130, 12, 16, 38, 619, 5, 25, 124, 51, 36, 135, 48, 25, 2, 33, 6, 22, 12, 215, 28, 77, 52, 5, 14, 407, 16, 82, 2, 8, 4, 107, 117, 2, 15, 256, 4, 2, 7, 2, 5, 723, 36, 71, 43, 530, 476, 26, 400, 317, 46, 7, 4, 2, 2, 13, 104, 88, 4, 381, 15, 297, 98, 32, 2, 56, 26, 141, 6, 194, 2, 18, 4, 226, 22, 21, 134, 476, 26, 480, 5, 144, 30, 2, 18, 51, 36, 28, 224, 92, 25, 104, 4, 226, 65, 16, 38, 2, 88, 12, 16, 283, 5, 16, 2, 113, 103, 32, 15, 16, 2, 19, 178, 32]\n",
      "\n",
      "\n",
      "부정 => [1, 194, 2, 194, 2, 78, 228, 5, 6, 2, 2, 2, 134, 26, 4, 715, 8, 118, 2, 14, 394, 20, 13, 119, 954, 189, 102, 5, 207, 110, 2, 21, 14, 69, 188, 8, 30, 23, 7, 4, 249, 126, 93, 4, 114, 9, 2, 2, 5, 647, 4, 116, 9, 35, 2, 4, 229, 9, 340, 2, 4, 118, 9, 4, 130, 2, 19, 4, 2, 5, 89, 29, 952, 46, 37, 4, 455, 9, 45, 43, 38, 2, 2, 398, 4, 2, 26, 2, 5, 163, 11, 2, 2, 4, 2, 9, 194, 775, 7, 2, 2, 349, 2, 148, 605, 2, 2, 15, 123, 125, 68, 2, 2, 15, 349, 165, 2, 98, 5, 4, 228, 9, 43, 2, 2, 15, 299, 120, 5, 120, 174, 11, 220, 175, 136, 50, 9, 2, 228, 2, 5, 2, 656, 245, 2, 5, 4, 2, 131, 152, 491, 18, 2, 32, 2, 2, 14, 9, 6, 371, 78, 22, 625, 64, 2, 9, 8, 168, 145, 23, 4, 2, 15, 16, 4, 2, 5, 28, 6, 52, 154, 462, 33, 89, 78, 285, 16, 145, 95]\n",
      "\n",
      "\n",
      "부정 => [1, 14, 47, 8, 30, 31, 7, 4, 249, 108, 7, 4, 2, 54, 61, 369, 13, 71, 149, 14, 22, 112, 4, 2, 311, 12, 16, 2, 33, 75, 43, 2, 296, 4, 86, 320, 35, 534, 19, 263, 2, 2, 4, 2, 33, 89, 78, 12, 66, 16, 4, 360, 7, 4, 58, 316, 334, 11, 4, 2, 43, 645, 662, 8, 257, 85, 2, 42, 2, 2, 83, 68, 2, 15, 36, 165, 2, 278, 36, 69, 2, 780, 8, 106, 14, 2, 2, 18, 6, 22, 12, 215, 28, 610, 40, 6, 87, 326, 23, 2, 21, 23, 22, 12, 272, 40, 57, 31, 11, 4, 22, 47, 6, 2, 51, 9, 170, 23, 595, 116, 595, 2, 13, 191, 79, 638, 89, 2, 14, 9, 8, 106, 607, 624, 35, 534, 6, 227, 7, 129, 113]\n",
      "\n",
      "\n"
     ]
    }
   ],
   "source": [
    "for i in range(3):\n",
    "    if y_train[i] == 0:\n",
    "        print('부정 =>', x_train[i])\n",
    "    else:\n",
    "        print('긍정 =>', x_train[i])\n",
    "    print('\\n')"
   ]
  },
  {
   "cell_type": "markdown",
   "metadata": {
    "id": "izJKnVgY7NWl"
   },
   "source": [
    "### 데이터 전처리\n",
    "- 모든 데이터를 같은 길이로 맞추기\n",
    "\n",
    "  - `pad_sequence()`\n",
    "    - 데이터가 maxlen보다 길면 데이터를 자름\n",
    "\n",
    "    - 데이터가 길면 `padding` 설정\n",
    "      - `pre`: 데이터 앞에 0으로 채움\n",
    "      -  `post`: 데이터 뒤에 0으로 채움\n",
    "\n",
    "\n",
    "- 모든 데이터(문장 하나하나)가 같은 길이로 맞추어야 `Embedding` 레이어를 사용할 수 있음"
   ]
  },
  {
   "cell_type": "code",
   "execution_count": 55,
   "metadata": {
    "id": "oAF2ZRV32Eup"
   },
   "outputs": [],
   "source": [
    "from tensorflow.keras.preprocessing.sequence import pad_sequences"
   ]
  },
  {
   "cell_type": "code",
   "execution_count": 56,
   "metadata": {
    "id": "oAF2ZRV32Eup"
   },
   "outputs": [],
   "source": [
    "max_len = 100\n",
    "padded_x_train = pad_sequences(x_train, maxlen=max_len, padding='pre')\n",
    "padded_x_test = pad_sequences(x_test, maxlen=max_len, padding='pre')"
   ]
  },
  {
   "cell_type": "code",
   "execution_count": 57,
   "metadata": {
    "id": "oAF2ZRV32Eup"
   },
   "outputs": [
    {
     "name": "stdout",
     "output_type": "stream",
     "text": [
      "218 => 100\n"
     ]
    }
   ],
   "source": [
    "print(len(x_train[0]), '=>', len(padded_x_train[0]))"
   ]
  },
  {
   "cell_type": "code",
   "execution_count": 58,
   "metadata": {
    "id": "oAF2ZRV32Eup"
   },
   "outputs": [
    {
     "name": "stdout",
     "output_type": "stream",
     "text": [
      "68 => 100\n"
     ]
    }
   ],
   "source": [
    "print(len(x_test[0]), '=>', len(padded_x_test[0]))"
   ]
  },
  {
   "cell_type": "code",
   "execution_count": 59,
   "metadata": {},
   "outputs": [
    {
     "data": {
      "text/plain": [
       "array([[  2,  33,   6,  22,  12, 215,  28,  77,  52,   5,  14, 407,  16,\n",
       "         82,   2,   8,   4, 107, 117,   2,  15, 256,   4,   2,   7,   2,\n",
       "          5, 723,  36,  71,  43, 530, 476,  26, 400, 317,  46,   7,   4,\n",
       "          2,   2,  13, 104,  88,   4, 381,  15, 297,  98,  32,   2,  56,\n",
       "         26, 141,   6, 194,   2,  18,   4, 226,  22,  21, 134, 476,  26,\n",
       "        480,   5, 144,  30,   2,  18,  51,  36,  28, 224,  92,  25, 104,\n",
       "          4, 226,  65,  16,  38,   2,  88,  12,  16, 283,   5,  16,   2,\n",
       "        113, 103,  32,  15,  16,   2,  19, 178,  32],\n",
       "       [163,  11,   2,   2,   4,   2,   9, 194, 775,   7,   2,   2, 349,\n",
       "          2, 148, 605,   2,   2,  15, 123, 125,  68,   2,   2,  15, 349,\n",
       "        165,   2,  98,   5,   4, 228,   9,  43,   2,   2,  15, 299, 120,\n",
       "          5, 120, 174,  11, 220, 175, 136,  50,   9,   2, 228,   2,   5,\n",
       "          2, 656, 245,   2,   5,   4,   2, 131, 152, 491,  18,   2,  32,\n",
       "          2,   2,  14,   9,   6, 371,  78,  22, 625,  64,   2,   9,   8,\n",
       "        168, 145,  23,   4,   2,  15,  16,   4,   2,   5,  28,   6,  52,\n",
       "        154, 462,  33,  89,  78, 285,  16, 145,  95],\n",
       "       [  2,   4,   2,  33,  89,  78,  12,  66,  16,   4, 360,   7,   4,\n",
       "         58, 316, 334,  11,   4,   2,  43, 645, 662,   8, 257,  85,   2,\n",
       "         42,   2,   2,  83,  68,   2,  15,  36, 165,   2, 278,  36,  69,\n",
       "          2, 780,   8, 106,  14,   2,   2,  18,   6,  22,  12, 215,  28,\n",
       "        610,  40,   6,  87, 326,  23,   2,  21,  23,  22,  12, 272,  40,\n",
       "         57,  31,  11,   4,  22,  47,   6,   2,  51,   9, 170,  23, 595,\n",
       "        116, 595,   2,  13, 191,  79, 638,  89,   2,  14,   9,   8, 106,\n",
       "        607, 624,  35, 534,   6, 227,   7, 129, 113]])"
      ]
     },
     "execution_count": 59,
     "metadata": {},
     "output_type": "execute_result"
    }
   ],
   "source": [
    "# 데이터의 길이가 같아졌다!\n",
    "padded_x_train[:3]"
   ]
  },
  {
   "cell_type": "markdown",
   "metadata": {
    "id": "iVSjFumg-TBt"
   },
   "source": [
    "### 모델 구성"
   ]
  },
  {
   "cell_type": "markdown",
   "metadata": {},
   "source": [
    "GPT4.0에게 물어봤다.\n",
    "\n",
    "아래의 코드는 Keras 라이브러리를 사용하여 간단한 신경망 모델을 구성하는 예시입니다. 이 모델은 자연어 처리나 텍스트 분류 작업에 사용될 수 있습니다.\n",
    "\n",
    "- Embedding 층: 이 층은 정수 인코딩된 단어들을 입력받아 각 단어를 num_words 크기의 사전에 정의된 단어 수만큼 대응되는 output_dim인 32차원의 벡터로 변환합니다. 여기서 input_length=max_len은 입력 시퀀스의 길이를 정의합니다. 즉, 각 텍스트 데이터가 max_len 길이를 가진다는 의미입니다.\n",
    "- Flatten 층: Embedding 층에서 생성된 2차원의 벡터들을 1차원으로 펼치는 역할을 합니다. 이는 2차원의 시퀀스 데이터를 다음 층인 Dense 층이 처리할 수 있는 형태로 변환하기 위함입니다.\n",
    "- Dense 층: 이전 층에서 펼쳐진 데이터를 입력받아 하나의 뉴런(neuron)이 포함된 완전 연결 층(fully connected layer)을 통과시킵니다. 여기서 활성화 함수로 'sigmoid'를 사용하는데, 이는 주로 이진 분류 문제에서 사용되며, 출력 값이 0과 1 사이의 확률로 해석됩니다."
   ]
  },
  {
   "cell_type": "code",
   "execution_count": 60,
   "metadata": {
    "id": "Blq1UZP92Ed4"
   },
   "outputs": [
    {
     "name": "stdout",
     "output_type": "stream",
     "text": [
      "Model: \"sequential_3\"\n",
      "_________________________________________________________________\n",
      " Layer (type)                Output Shape              Param #   \n",
      "=================================================================\n",
      " embedding_3 (Embedding)     (None, 100, 32)           32000     \n",
      "                                                                 \n",
      " flatten_3 (Flatten)         (None, 3200)              0         \n",
      "                                                                 \n",
      " dense_3 (Dense)             (None, 1)                 3201      \n",
      "                                                                 \n",
      "=================================================================\n",
      "Total params: 35201 (137.50 KB)\n",
      "Trainable params: 35201 (137.50 KB)\n",
      "Non-trainable params: 0 (0.00 Byte)\n",
      "_________________________________________________________________\n"
     ]
    }
   ],
   "source": [
    "#모델 구성\n",
    "model = Sequential([Embedding(input_dim=num_words, output_dim=32, input_length=max_len),\n",
    "                    Flatten(),\n",
    "                    Dense(1, activation='sigmoid')])\n",
    "model.summary()"
   ]
  },
  {
   "cell_type": "markdown",
   "metadata": {
    "id": "H1VqPWEa-m9i"
   },
   "source": [
    "### 모델 컴파일 및 학습"
   ]
  },
  {
   "cell_type": "markdown",
   "metadata": {},
   "source": [
    "이 코드 두 부분으로 나누어 설명드리겠습니다.\n",
    "\n",
    "1. 모델 컴파일(model.compile):\n",
    "- compile은 모델을 구성하고 나서 실제로 학습을 시작하기 전에 모델이 어떻게 학습될 것인지에 대한 설정을 지정하는 단계\n",
    "- optimizer='rmsprop': 모델을 최적화하기 위한 알고리즘으로 RMSprop을 사용하고 있습니다. RMSprop은 일반적으로 중소 규모의 데이터셋에서 잘 작동하는 경사 하강법의 한 변형으로, 각 매개변수에 맞게 학습률을 조정합니다.\n",
    "- loss='binary_crossentropy': 손실 함수로는 이진 분류 문제에 적합한 이진 크로스엔트로피를 사용합니다. 이 함수는 모델의 예측이 실제 값과 얼마나 잘 일치하는지를 측정합니다.\n",
    "- metrics=['acc']: 학습 동안 추적할 성능 지표로 정확도(accuracy)를 사용합니다. 정확도는 올바르게 분류된 샘플의 비율을 나타냅니다.\n",
    "\n",
    "2. 모델 학습(model.fit):\n",
    "입력 데이터로 패딩된 훈련 데이터(padded_x_train)와 정답 라벨(y_train)을 사용합니다.\n",
    "- epochs=10: 전체 훈련 데이터셋에 대해 10번 반복 학습합니다.\n",
    "- verbose=0: 학습 중 출력되는 로그를 표시하지 않습니다. (0: 아무것도 출력하지 않음, 1: 진행 막대와 함께 로그 출력, 2: 에포크마다 한 줄의 로그 출력)\n",
    "- batch_size=32: 모델이 가중치를 업데이트할 때마다 32개의 샘플을 사용합니다.\n",
    "- validation_split=0.2: 주어진 훈련 데이터의 20%를 검증 데이터로 분리하여 에포크가 끝날 때마다 검증 데이터에 대한 모델의 성능을 평가합니다.\n",
    "\n",
    "history 객체는 학습 과정에서 발생한 모든 정보(예: 학습 및 검증 손실, 정확도 등)를 담고 있으며, 이를 통해 학습 과정을 시각화하거나 분석할 수 있습니다. 예를 들어, history.history['acc']를 통해 에포크별 훈련 정확도의 변화를 확인할 수 있습니다."
   ]
  },
  {
   "cell_type": "code",
   "execution_count": 62,
   "metadata": {
    "id": "CEXe_6de2EcK"
   },
   "outputs": [
    {
     "name": "stdout",
     "output_type": "stream",
     "text": [
      "Epoch 1/20\n",
      "625/625 [==============================] - 2s 2ms/step - loss: 0.3116 - acc: 0.8689 - val_loss: 0.3904 - val_acc: 0.8262\n",
      "Epoch 2/20\n",
      "625/625 [==============================] - 1s 2ms/step - loss: 0.2807 - acc: 0.8849 - val_loss: 0.3985 - val_acc: 0.8238\n",
      "Epoch 3/20\n",
      "625/625 [==============================] - 1s 2ms/step - loss: 0.2487 - acc: 0.9041 - val_loss: 0.4130 - val_acc: 0.8182\n",
      "Epoch 4/20\n",
      "625/625 [==============================] - 1s 2ms/step - loss: 0.2166 - acc: 0.9200 - val_loss: 0.4304 - val_acc: 0.8166\n",
      "Epoch 5/20\n",
      "625/625 [==============================] - 1s 2ms/step - loss: 0.1843 - acc: 0.9369 - val_loss: 0.4514 - val_acc: 0.8126\n",
      "Epoch 6/20\n",
      "625/625 [==============================] - 1s 2ms/step - loss: 0.1540 - acc: 0.9510 - val_loss: 0.4799 - val_acc: 0.8076\n",
      "Epoch 7/20\n",
      "625/625 [==============================] - 1s 2ms/step - loss: 0.1270 - acc: 0.9647 - val_loss: 0.5076 - val_acc: 0.8030\n",
      "Epoch 8/20\n",
      "625/625 [==============================] - 1s 2ms/step - loss: 0.1023 - acc: 0.9758 - val_loss: 0.5366 - val_acc: 0.8014\n",
      "Epoch 9/20\n",
      "625/625 [==============================] - 1s 2ms/step - loss: 0.0812 - acc: 0.9826 - val_loss: 0.5721 - val_acc: 0.7974\n",
      "Epoch 10/20\n",
      "625/625 [==============================] - 1s 2ms/step - loss: 0.0634 - acc: 0.9893 - val_loss: 0.6100 - val_acc: 0.7976\n",
      "Epoch 11/20\n",
      "625/625 [==============================] - 1s 2ms/step - loss: 0.0484 - acc: 0.9937 - val_loss: 0.6510 - val_acc: 0.7944\n",
      "Epoch 12/20\n",
      "625/625 [==============================] - 1s 2ms/step - loss: 0.0362 - acc: 0.9961 - val_loss: 0.6985 - val_acc: 0.7910\n",
      "Epoch 13/20\n",
      "625/625 [==============================] - 1s 2ms/step - loss: 0.0268 - acc: 0.9976 - val_loss: 0.7416 - val_acc: 0.7910\n",
      "Epoch 14/20\n",
      "625/625 [==============================] - 1s 2ms/step - loss: 0.0194 - acc: 0.9983 - val_loss: 0.7925 - val_acc: 0.7874\n",
      "Epoch 15/20\n",
      "625/625 [==============================] - 1s 2ms/step - loss: 0.0140 - acc: 0.9990 - val_loss: 0.8491 - val_acc: 0.7848\n",
      "Epoch 16/20\n",
      "625/625 [==============================] - 1s 2ms/step - loss: 0.0100 - acc: 0.9993 - val_loss: 0.8952 - val_acc: 0.7840\n",
      "Epoch 17/20\n",
      "625/625 [==============================] - 1s 2ms/step - loss: 0.0072 - acc: 0.9997 - val_loss: 0.9436 - val_acc: 0.7840\n",
      "Epoch 18/20\n",
      "625/625 [==============================] - 1s 2ms/step - loss: 0.0052 - acc: 0.9997 - val_loss: 0.9900 - val_acc: 0.7822\n",
      "Epoch 19/20\n",
      "625/625 [==============================] - 1s 2ms/step - loss: 0.0038 - acc: 0.9999 - val_loss: 1.0304 - val_acc: 0.7822\n",
      "Epoch 20/20\n",
      "625/625 [==============================] - 1s 2ms/step - loss: 0.0029 - acc: 0.9999 - val_loss: 1.0678 - val_acc: 0.7822\n"
     ]
    }
   ],
   "source": [
    "model.compile(optimizer='rmsprop', loss='binary_crossentropy', metrics=['acc'])\n",
    "\n",
    "history = model.fit(padded_x_train, y_train,\n",
    "                    epochs=20, verbose=1,\n",
    "                    batch_size=32,\n",
    "                    validation_split=0.2)"
   ]
  },
  {
   "cell_type": "markdown",
   "metadata": {
    "id": "-gNKkWKP_3c0"
   },
   "source": [
    "### 시각화"
   ]
  },
  {
   "cell_type": "code",
   "execution_count": 63,
   "metadata": {
    "id": "PYKPQO1B_-EJ"
   },
   "outputs": [],
   "source": [
    "import matplotlib.pyplot as plt"
   ]
  },
  {
   "cell_type": "code",
   "execution_count": 64,
   "metadata": {
    "id": "PYKPQO1B_-EJ"
   },
   "outputs": [
    {
     "data": {
      "image/png": "[encoded data removed]",
      "text/plain": [
       "<Figure size 800x400 with 2 Axes>"
      ]
     },
     "metadata": {},
     "output_type": "display_data"
    }
   ],
   "source": [
    "plt.figure(figsize=(8,4))\n",
    "plt.subplot(1,2,1)\n",
    "plt.plot(history.history['loss'], 'b-', label='Train Loss')\n",
    "plt.plot(history.history['val_loss'], 'r:', label='Validation Loss')\n",
    "plt.legend()\n",
    "plt.grid()\n",
    "\n",
    "plt.subplot(1,2,2)\n",
    "plt.plot(history.history['acc'], 'b-', label='Train Accuracy')\n",
    "plt.plot(history.history['val_acc'], 'r:', label='Validation Accuracy')\n",
    "plt.legend()\n",
    "plt.grid();"
   ]
  },
  {
   "cell_type": "markdown",
   "metadata": {
    "id": "3GtELilA_avO"
   },
   "source": [
    "### 모델 평가"
   ]
  },
  {
   "cell_type": "code",
   "execution_count": 65,
   "metadata": {
    "id": "_U0Dz9je2ESh"
   },
   "outputs": [
    {
     "name": "stdout",
     "output_type": "stream",
     "text": [
      "782/782 [==============================] - 1s 1ms/step - loss: 1.0069 - acc: 0.7831\n"
     ]
    },
    {
     "data": {
      "text/plain": [
       "[1.0068997144699097, 0.783079981803894]"
      ]
     },
     "execution_count": 65,
     "metadata": {},
     "output_type": "execute_result"
    }
   ],
   "source": [
    "model.evaluate(padded_x_test, y_test)"
   ]
  },
  {
   "cell_type": "markdown",
   "metadata": {
    "id": "6aJqudd0AwGa"
   },
   "source": [
    "### 단어의 수를 늘린 후 재학습"
   ]
  },
  {
   "cell_type": "code",
   "execution_count": 66,
   "metadata": {
    "id": "C1itQHMDA1hn"
   },
   "outputs": [],
   "source": [
    "num_words = 1000\n",
    "max_len = 300\n",
    "\n",
    "(x_train, y_train), (x_test, y_test) = imdb.load_data(num_words=num_words)\n",
    "\n",
    "pad_x_train_2 = pad_sequences(x_train, maxlen=max_len, padding='pre')\n",
    "pad_x_test_2 = pad_sequences(x_test, maxlen=max_len, padding='pre')"
   ]
  },
  {
   "cell_type": "markdown",
   "metadata": {
    "id": "e2WL_yueBibH"
   },
   "source": [
    "데이터 확인"
   ]
  },
  {
   "cell_type": "code",
   "execution_count": 67,
   "metadata": {
    "id": "AydBwyBMA1ku"
   },
   "outputs": [
    {
     "name": "stdout",
     "output_type": "stream",
     "text": [
      "[[  0   0   0   0   0   0   0   0   0   0   0   0   0   0   0   0   0   0\n",
      "    0   0   0   0   0   0   0   0   0   0   0   0   0   0   0   0   0   0\n",
      "    0   0   0   0   0   0   0   0   0   0   0   0   0   0   0   0   0   0\n",
      "    0   0   0   0   0   0   0   0   0   0   0   0   0   0   0   0   0   0\n",
      "    0   0   0   0   0   0   0   0   0   0   1  14  22  16  43 530 973   2\n",
      "    2  65 458   2  66   2   4 173  36 256   5  25 100  43 838 112  50 670\n",
      "    2   9  35 480 284   5 150   4 172 112 167   2 336 385  39   4 172   2\n",
      "    2  17 546  38  13 447   4 192  50  16   6 147   2  19  14  22   4   2\n",
      "    2 469   4  22  71  87  12  16  43 530  38  76  15  13   2   4  22  17\n",
      "  515  17  12  16 626  18   2   5  62 386  12   8 316   8 106   5   4   2\n",
      "    2  16 480  66   2  33   4 130  12  16  38 619   5  25 124  51  36 135\n",
      "   48  25   2  33   6  22  12 215  28  77  52   5  14 407  16  82   2   8\n",
      "    4 107 117   2  15 256   4   2   7   2   5 723  36  71  43 530 476  26\n",
      "  400 317  46   7   4   2   2  13 104  88   4 381  15 297  98  32   2  56\n",
      "   26 141   6 194   2  18   4 226  22  21 134 476  26 480   5 144  30   2\n",
      "   18  51  36  28 224  92  25 104   4 226  65  16  38   2  88  12  16 283\n",
      "    5  16   2 113 103  32  15  16   2  19 178  32]\n",
      " [  0   0   0   0   0   0   0   0   0   0   0   0   0   0   0   0   0   0\n",
      "    0   0   0   0   0   0   0   0   0   0   0   0   0   0   0   0   0   0\n",
      "    0   0   0   0   0   0   0   0   0   0   0   0   0   0   0   0   0   0\n",
      "    0   0   0   0   0   0   0   0   0   0   0   0   0   0   0   0   0   0\n",
      "    0   0   0   0   0   0   0   0   0   0   0   0   0   0   0   0   0   0\n",
      "    0   0   0   0   0   0   0   0   0   0   0   0   0   0   0   0   0   0\n",
      "    0   0   0   1 194   2 194   2  78 228   5   6   2   2   2 134  26   4\n",
      "  715   8 118   2  14 394  20  13 119 954 189 102   5 207 110   2  21  14\n",
      "   69 188   8  30  23   7   4 249 126  93   4 114   9   2   2   5 647   4\n",
      "  116   9  35   2   4 229   9 340   2   4 118   9   4 130   2  19   4   2\n",
      "    5  89  29 952  46  37   4 455   9  45  43  38   2   2 398   4   2  26\n",
      "    2   5 163  11   2   2   4   2   9 194 775   7   2   2 349   2 148 605\n",
      "    2   2  15 123 125  68   2   2  15 349 165   2  98   5   4 228   9  43\n",
      "    2   2  15 299 120   5 120 174  11 220 175 136  50   9   2 228   2   5\n",
      "    2 656 245   2   5   4   2 131 152 491  18   2  32   2   2  14   9   6\n",
      "  371  78  22 625  64   2   9   8 168 145  23   4   2  15  16   4   2   5\n",
      "   28   6  52 154 462  33  89  78 285  16 145  95]]\n"
     ]
    }
   ],
   "source": [
    "print(pad_x_train_2[:2])\n",
    "#이번에는 padding으로 데이터를 늘린 것을 볼 수 있다."
   ]
  },
  {
   "cell_type": "code",
   "execution_count": 68,
   "metadata": {
    "id": "mK2kQxNUA1eB"
   },
   "outputs": [
    {
     "name": "stdout",
     "output_type": "stream",
     "text": [
      "Model: \"sequential_4\"\n",
      "_________________________________________________________________\n",
      " Layer (type)                Output Shape              Param #   \n",
      "=================================================================\n",
      " embedding_4 (Embedding)     (None, 300, 32)           32000     \n",
      "                                                                 \n",
      " flatten_4 (Flatten)         (None, 9600)              0         \n",
      "                                                                 \n",
      " dense_4 (Dense)             (None, 1)                 9601      \n",
      "                                                                 \n",
      "=================================================================\n",
      "Total params: 41601 (162.50 KB)\n",
      "Trainable params: 41601 (162.50 KB)\n",
      "Non-trainable params: 0 (0.00 Byte)\n",
      "_________________________________________________________________\n"
     ]
    }
   ],
   "source": [
    "model = Sequential()\n",
    "\n",
    "model.add(Embedding(input_dim=num_words, output_dim=32,\n",
    "                    input_length=max_len))\n",
    "model.add(Flatten())\n",
    "model.add(Dense(1, activation='sigmoid'))\n",
    "\n",
    "model.summary()"
   ]
  },
  {
   "cell_type": "code",
   "execution_count": 69,
   "metadata": {
    "id": "I5BK5HXnBtIN"
   },
   "outputs": [],
   "source": [
    "model.compile(optimizer='rmsprop',\n",
    "              loss='binary_crossentropy',\n",
    "              metrics=['acc'])"
   ]
  },
  {
   "cell_type": "code",
   "execution_count": 71,
   "metadata": {
    "id": "odClZim0Bs-O"
   },
   "outputs": [
    {
     "name": "stdout",
     "output_type": "stream",
     "text": [
      "Epoch 1/20\n",
      "625/625 [==============================] - 2s 4ms/step - loss: 0.4005 - acc: 0.8320 - val_loss: 0.3479 - val_acc: 0.8528\n",
      "Epoch 2/20\n",
      "625/625 [==============================] - 2s 4ms/step - loss: 0.3032 - acc: 0.8694 - val_loss: 0.3369 - val_acc: 0.8602\n",
      "Epoch 3/20\n",
      "625/625 [==============================] - 2s 4ms/step - loss: 0.2642 - acc: 0.8923 - val_loss: 0.3375 - val_acc: 0.8584\n",
      "Epoch 4/20\n",
      "625/625 [==============================] - 3s 4ms/step - loss: 0.2271 - acc: 0.9117 - val_loss: 0.3681 - val_acc: 0.8472\n",
      "Epoch 5/20\n",
      "625/625 [==============================] - 3s 4ms/step - loss: 0.1886 - acc: 0.9315 - val_loss: 0.3785 - val_acc: 0.8466\n",
      "Epoch 6/20\n",
      "625/625 [==============================] - 2s 4ms/step - loss: 0.1513 - acc: 0.9503 - val_loss: 0.3768 - val_acc: 0.8530\n",
      "Epoch 7/20\n",
      "625/625 [==============================] - 2s 4ms/step - loss: 0.1184 - acc: 0.9652 - val_loss: 0.4181 - val_acc: 0.8392\n",
      "Epoch 8/20\n",
      "625/625 [==============================] - 2s 4ms/step - loss: 0.0909 - acc: 0.9768 - val_loss: 0.4302 - val_acc: 0.8428\n",
      "Epoch 9/20\n",
      "625/625 [==============================] - 2s 4ms/step - loss: 0.0677 - acc: 0.9855 - val_loss: 0.4636 - val_acc: 0.8392\n",
      "Epoch 10/20\n",
      "625/625 [==============================] - 3s 4ms/step - loss: 0.0494 - acc: 0.9906 - val_loss: 0.4946 - val_acc: 0.8390\n",
      "Epoch 11/20\n",
      "625/625 [==============================] - 3s 4ms/step - loss: 0.0353 - acc: 0.9945 - val_loss: 0.5358 - val_acc: 0.8398\n",
      "Epoch 12/20\n",
      "625/625 [==============================] - 3s 4ms/step - loss: 0.0250 - acc: 0.9963 - val_loss: 0.5755 - val_acc: 0.8342\n",
      "Epoch 13/20\n",
      "625/625 [==============================] - 2s 4ms/step - loss: 0.0178 - acc: 0.9979 - val_loss: 0.6208 - val_acc: 0.8298\n",
      "Epoch 14/20\n",
      "625/625 [==============================] - 2s 4ms/step - loss: 0.0127 - acc: 0.9984 - val_loss: 0.6588 - val_acc: 0.8264\n",
      "Epoch 15/20\n",
      "625/625 [==============================] - 2s 4ms/step - loss: 0.0091 - acc: 0.9989 - val_loss: 0.7306 - val_acc: 0.8148\n",
      "Epoch 16/20\n",
      "625/625 [==============================] - 2s 4ms/step - loss: 0.0065 - acc: 0.9994 - val_loss: 0.7353 - val_acc: 0.8234\n",
      "Epoch 17/20\n",
      "625/625 [==============================] - 3s 4ms/step - loss: 0.0047 - acc: 0.9995 - val_loss: 0.7781 - val_acc: 0.8228\n",
      "Epoch 18/20\n",
      "625/625 [==============================] - 3s 4ms/step - loss: 0.0034 - acc: 0.9998 - val_loss: 0.8059 - val_acc: 0.8236\n",
      "Epoch 19/20\n",
      "625/625 [==============================] - 2s 4ms/step - loss: 0.0026 - acc: 0.9998 - val_loss: 0.8325 - val_acc: 0.8232\n",
      "Epoch 20/20\n",
      "625/625 [==============================] - 3s 4ms/step - loss: 0.0021 - acc: 0.9998 - val_loss: 0.8576 - val_acc: 0.8212\n"
     ]
    }
   ],
   "source": [
    "history2 = model.fit(pad_x_train_2, y_train,\n",
    "                    epochs=20, verbose=1,\n",
    "                    batch_size=32,\n",
    "                    validation_split=0.2)"
   ]
  },
  {
   "cell_type": "code",
   "execution_count": 72,
   "metadata": {
    "id": "rVPTlmjZB--j"
   },
   "outputs": [
    {
     "data": {
      "image/png": "[encoded data removed]",
      "text/plain": [
       "<Figure size 800x400 with 2 Axes>"
      ]
     },
     "metadata": {},
     "output_type": "display_data"
    }
   ],
   "source": [
    "plt.figure(figsize=(8,4))\n",
    "plt.subplot(1,2,1)\n",
    "plt.plot(history2.history['loss'], 'b-', label='Train Loss')\n",
    "plt.plot(history2.history['val_loss'], 'r:', label='Validation Loss')\n",
    "plt.legend()\n",
    "plt.grid()\n",
    "\n",
    "plt.subplot(1,2,2)\n",
    "plt.plot(history2.history['acc'], 'b-', label='Train Accuracy')\n",
    "plt.plot(history2.history['val_acc'], 'r:', label='Validation Accuracy')\n",
    "plt.legend()\n",
    "plt.grid();"
   ]
  },
  {
   "cell_type": "code",
   "execution_count": 76,
   "metadata": {},
   "outputs": [
    {
     "name": "stdout",
     "output_type": "stream",
     "text": [
      "782/782 [==============================] - 2s 2ms/step - loss: 0.8499 - acc: 0.8228\n"
     ]
    },
    {
     "data": {
      "text/plain": [
       "[0.8498568534851074, 0.8228399753570557]"
      ]
     },
     "execution_count": 76,
     "metadata": {},
     "output_type": "execute_result"
    }
   ],
   "source": [
    "model.evaluate(pad_x_test_2, y_test)"
   ]
  },
  {
   "cell_type": "markdown",
   "metadata": {
    "id": "6I0C5ueK73_g"
   },
   "source": [
    "위의 결과도 나쁘지 않으나 과적합이 되는 이유\n",
    "- 단어간 관계나 문장 구조 등 의미적 연결을 고려하지 않음\n",
    "\n",
    "- 시퀀스 전체를 고려한 특성을 학습하는 것은 `Embedding`층 위에 `RNN`층이나 `1D 합성곱`을 추가하는 것이 좋음\n"
   ]
  },
  {
   "cell_type": "markdown",
   "metadata": {},
   "source": [
    "**이 모델은 무엇일까?**\n",
    "\n",
    "위에서 설명된 모델은 간단한 신경망 구조를 가지고 있으며, 특히 자연어 처리(Natural Language Processing, NLP)에 사용되는 기본적인 딥러닝 모델입니다. 이 모델은 다음과 같이 구분해서 설명할 수 있습니다:\n",
    "\n",
    "- 텍스트 분류(Text Classification) 모델: 이 모델은 입력된 텍스트 데이터를 기반으로 이진 분류를 수행하는 것이 목적입니다. 예를 들어, 긍정적인 리뷰인지 부정적인 리뷰인지를 판별할 수 있습니다.\n",
    "- 순차 모델(Sequential Model): Keras에서 제공하는 Sequential 클래스를 사용하여 각 층을 순차적으로 쌓아 올린 구조입니다. 이는 각 층이 이전 층의 출력을 바로 다음 층의 입력으로 사용하는 전형적인 층 기반 모델입니다.\n",
    "- 임베딩(Embedding)을 포함한 신경망: 첫 번째 층에서 Embedding 층을 사용하여 텍스트 데이터를 고차원에서 저차원으로 임베딩하는 과정을 포함합니다. 이는 단어의 의미를 벡터 공간에 표현하는 과정으로, 단어 간의 의미적 관계를 반영할 수 있게 합니다.\n",
    "- 완전 연결 신경망(Fully Connected Neural Network) 또는 다층 퍼셉트론(Multilayer Perceptron, MLP): Flatten 층을 통해 데이터를 1차원으로 펼친 후, Dense 층을 사용하여 완전 연결 계층을 형성합니다. 이는 가장 기본적인 형태의 신경망 구조 중 하나입니다.\n",
    "- 따라서, 이 모델은 '이진 분류를 위한 순차적 임베딩 신경망' 또는 간단하게 '임베딩을 사용한 텍스트 분류 신경망'이라고 부를 수 있습니다.\n",
    "\n",
    "다음에는 RNN, CNN을 사용해 성능을 비교해보기로 하자."
   ]
  },
  {
   "cell_type": "markdown",
   "metadata": {
    "id": "ud_-PnE873_h"
   },
   "source": [
    "## Word2Vec\n",
    "\n",
    "- Word2Vec은 자연어 처리 분야에서 널리 사용되는 단어 임베딩(word embedding) 기법 중 하나입니다. 구글의 연구팀에 의해 개발되었고, 고차원의 텍스트 데이터를 저차원의 벡터 공간으로 변환하는 방법을 제공합니다. 이 변환을 통해 단어들 사이의 의미적 관계를 수치적으로 표현할 수 있게 됩니다."
   ]
  },
  {
   "cell_type": "markdown",
   "metadata": {},
   "source": [
    "Word2Vec의 주요 특징은 다음과 같습니다:\n",
    "\n",
    "- 분산 표현(Distributed Representation): 단어의 의미를 벡터의 여러 차원에 분산시켜 표현합니다. 이는 각 차원이 특정 의미를 담고 있으며, 단어의 의미를 벡터 공간에서의 위치로 나타냅니다.\n",
    "- 문맥 이해(Contextual Understanding): Word2Vec은 주변 단어(문맥)를 바탕으로 단어의 의미를 학습합니다. 비슷한 문맥에서 사용되는 단어들은 벡터 공간에서 가까운 위치에 임베딩됩니다.\n",
    "- 차원 축소(Dimensionality Reduction): 원래의 텍스트 데이터는 매우 고차원일 수 있지만, Word2Vec을 사용하여 훨씬 낮은 차원의 벡터로 단어를 표현합니다. 이는 컴퓨터가 효율적으로 처리할 수 있게 해주며, 머신러닝 모델의 성능을 향상시킵니다.\n",
    "- 단어의 유사성(Word Similarity): 벡터 공간에서의 코사인 유사도(cosine similarity) 같은 메트릭을 사용하여 단어 간의 유사성을 계산할 수 있습니다. 유사한 의미를 가진 단어들은 벡터 공간에서 서로 가까울 것입니다."
   ]
  },
  {
   "cell_type": "markdown",
   "metadata": {
    "id": "ud_-PnE873_h"
   },
   "source": [
    "- Word2Vec의 방식  \n",
    "  주변 단어의 관계를 이용\n",
    "\n",
    "  - CBOW(continuous bag-of-words)\n",
    "    - 주변단어의 임베딩을 더해서 대상단어를 예측\n",
    "\n",
    "  - Skip-Gram\n",
    "    - 대상 단어의 임베딩으로 주변단어를 예측\n",
    "\n",
    "    - 일반적으로 CBOW보다 성능이 좋은 편\n",
    "\n",
    "    - 한번에 여러 단어를 예측해야하기 때문에 비효율적  \n",
    "      최근에는 **negative sampling**이라는 방법을 사용\n",
    "\n",
    "  <img src=\"https://www.researchgate.net/publication/328160770/figure/fig14/AS:679665089925122@1539056193562/CBOW-and-Skip-Gram-neural-architectures.ppm\">\n",
    "\n",
    "  <sub>출처: https://www.researchgate.net/figure/CBOW-and-Skip-Gram-neural-architectures_fig14_328160770</sub>"
   ]
  },
  {
   "cell_type": "markdown",
   "metadata": {},
   "source": [
    "CBOW(Continuous Bag of Words)와 Skip-gram은 자연어 처리에서 단어의 벡터 표현을 얻기 위해 사용되는 두 가지 주요 방법입니다. 이들은 Word2Vec 모델에서 사용되며, 주변 단어를 기반으로 특정 단어의 임베딩을 학습합니다. 그러나 이 두 방법은 타겟 단어와 컨텍스트 단어를 다루는 방식이 다릅니다.\r\n",
    "\r\n",
    "CBOW(Continuous Bag of Words)\r\n",
    "\r\n",
    "- CBOW는 주변에 있는 단어들('컨텍스트 단어')를 사용하여 중심에 있는 타겟 단어를 예측합니다.\r\n",
    "- 이 방법은 컨텍스트를 입력으로 받아 타겟 단어의 발생 확률을 최대화하는 방향으로 모델을 학습합니다.\r\n",
    "- CBOW는 컨텍스트 단어들의 순서를 고려하지 않으며, 모든 컨텍스트 단어의 벡터를 평균내어 하나의 숨겨진 벡터를 생성합니다.\r\n",
    "- 대규모 데이터셋에서 빠르게 학습할 수 있는 장점이 있으며, 빈도수가 많은 단어에 대해 잘 작동합니다.\r\n",
    "\r\n",
    "Skip-gram\r\n",
    "\r\n",
    "- Skip-gram은 중심에 있는 단어('타겟 단어')를 사용하여 주변에 있는 단어들('컨텍스트 단어')을 예측합니다.\r\n",
    "- 타겟 단어로부터 컨텍스트 단어가 나타날 확률을 최대화하는 방향으로 모델을 학습시킵니다.\r\n",
    "- Skip-gram은 타겟 단어로부터 컨텍스트의 각 단어를 독립적으로 예측하기 때문에, CBOW에 비해 더 많은 계산을 요구할 수 있습니다.\r\n",
    "- 그러나 드물게 등장하는 단어나 구문에 대해서 더 효과적인 벡터 표현을 학습하는 경향이 있습니다.\r\n",
    "\r\n",
    "결론적으로, CBOW는 컨텍스트를 통해 타겟을 예측하는 반면, Skipgram은 타겟을 통해 컨텍스트를 예측하는 방식으로 동작합니다. 선택하는 방법은 주로 사용하는 데이터셋의 크기와 목표하는 작업의 세부 요건에 따라 결정됩니다. 요건에 따라 결정됩니다.요건에 따라 결정됩니다.건에 따라 결정됩니다."
   ]
  },
  {
   "cell_type": "markdown",
   "metadata": {
    "id": "QARhfhIt1j4I"
   },
   "source": [
    "## T-SNE"
   ]
  },
  {
   "cell_type": "markdown",
   "metadata": {
    "id": "v9ymcBIKl40u"
   },
   "source": [
    "* T-SNE(t-Stochastic Neighbor Embedding)은 고차원의 벡터들의 구조를 보존하며 저차원으로 사상하는 차원 축소 알고리즘\n",
    "* 단어 임베딩에서도 생성된 고차원 벡터들을 시각화하기 위해 이 T-SNE 알고리즘을 많이 이용\n",
    "\n",
    "* t-sne는 가장 먼저 원 공간의 데이터 유사도 $p_{ij}$와 임베딩 공간의 데이터 유사도 $q_{ij}$를 정의\n",
    "* $x_i$에서 $x_j$ 간의 유사도 $p_{j|i}$ 는 다음과 같이 정의\n",
    "\n",
    "$$ p_{j|i} = \\frac {exp({-|x_i - x_j|}^2 / 2  \\sigma^2_i)}{\\sum_{k \\neq i}exp({-|x_i - x_k|}^2 / 2  \\sigma^2_i)} $$\n",
    "\n",
    "* 설명하자면 $p_{j|i}$는 $x_i$와 $x_j$ 간의 거리에서 가중치 $\\sigma^2_i$로 나눈 후, 이를 negative exponential을 취해 모든 점 간의 거리의 합과 나누어준 값으로 두 점 간의 거리가 가까울 수록 큰 값을 가짐\n",
    "\n",
    "* 또한 임베딩 공간에서의 $y_i$에서 $y_j$ 간의 유사도 $q_{j|i}$ 는 다음과 같이 정의\n",
    "\n",
    "$$ q_{j|i} = \\frac {(1 + |y_i-y_j|^2)^{-1}}{\\sum_{k \\neq l}(1 + |y_i-y_j|^2)^{-1}} $$\n",
    "\n",
    "* $q_{j|i}$는 $x_i$와 $x_j$ 간의 거리에서 1을 더해준 후 역수를 취한 값과 전체 합산 값과 나누어 유사도를 정의\n",
    "\n",
    "* T-SNE의 학습은 $p_{j|i}$와 비슷해지도록 $q_{j|i}$의 위치를 조정하는 것이라고 할 수 있음\n",
    "\n"
   ]
  },
  {
   "cell_type": "markdown",
   "metadata": {
    "id": "d7ocZw5XSRDN"
   },
   "source": [
    "## 데이터 준비"
   ]
  },
  {
   "cell_type": "code",
   "execution_count": 77,
   "metadata": {
    "id": "ohSE_JnMSRDR"
   },
   "outputs": [
    {
     "name": "stdout",
     "output_type": "stream",
     "text": [
      "11314\n"
     ]
    }
   ],
   "source": [
    "from sklearn.datasets import fetch_20newsgroups\n",
    "\n",
    "data = fetch_20newsgroups(shuffle=True, random_state=2,\n",
    "                          remove=('headers', 'footers', 'quotes'))\n",
    "docs = data.data\n",
    "print(len(docs))"
   ]
  },
  {
   "cell_type": "code",
   "execution_count": 78,
   "metadata": {
    "id": "ohSE_JnMSRDR"
   },
   "outputs": [
    {
     "data": {
      "text/plain": [
       "\"Something about how Koresh had threatened to cause local \\nproblems with all these wepaons he had and was alleged to\\nhave.  \\n\\nSomeone else will post more details soon, I'm sure.\\n\\nOther News:\\nSniper injures 9 outside MCA buildling in L.A.  Man arrested--suspect\\nwas disgruntled employee of Universal Studios, which\\nis a division of M.C.A.\\n\\n\\nQUESTION:\\nWhat will Californians do with all those guns after the Reginald\\ndenny trial?\""
      ]
     },
     "execution_count": 78,
     "metadata": {},
     "output_type": "execute_result"
    }
   ],
   "source": [
    "docs[0]"
   ]
  },
  {
   "cell_type": "markdown",
   "metadata": {
    "id": "E56d3KXroenQ"
   },
   "source": [
    "## 전처리"
   ]
  },
  {
   "cell_type": "code",
   "execution_count": 79,
   "metadata": {
    "id": "E56d3KXroenQ"
   },
   "outputs": [
    {
     "name": "stderr",
     "output_type": "stream",
     "text": [
      "[nltk_data] Downloading package stopwords to\n",
      "[nltk_data]     C:\\Users\\master\\AppData\\Roaming\\nltk_data...\n",
      "[nltk_data]   Package stopwords is already up-to-date!\n",
      "[nltk_data] Downloading package punkt to\n",
      "[nltk_data]     C:\\Users\\master\\AppData\\Roaming\\nltk_data...\n",
      "[nltk_data]   Package punkt is already up-to-date!\n"
     ]
    },
    {
     "data": {
      "text/plain": [
       "True"
      ]
     },
     "execution_count": 79,
     "metadata": {},
     "output_type": "execute_result"
    }
   ],
   "source": [
    "import re, nltk\n",
    "from nltk.corpus import stopwords\n",
    "from nltk.tokenize import word_tokenize\n",
    "nltk.download('stopwords')\n",
    "nltk.download('punkt')"
   ]
  },
  {
   "cell_type": "code",
   "execution_count": 80,
   "metadata": {
    "id": "E56d3KXroenQ"
   },
   "outputs": [],
   "source": [
    "def clean_text(d):     #알파벳과 공백문자가 아닌 텍스트 삭제\n",
    "    pattern = r'[^a-zA-Z\\s]'\n",
    "    text = re.sub(pattern, '', d)\n",
    "    return text"
   ]
  },
  {
   "cell_type": "code",
   "execution_count": 81,
   "metadata": {
    "id": "E56d3KXroenQ"
   },
   "outputs": [],
   "source": [
    "def clean_stopword(d):\n",
    "    stop_words = stopwords.words('english')\n",
    "    result = ' '.join([w.lower() for w in d.split() if w.lower() not in stop_words and len(w)>3])\n",
    "    return result"
   ]
  },
  {
   "cell_type": "code",
   "execution_count": 82,
   "metadata": {
    "id": "E56d3KXroenQ"
   },
   "outputs": [],
   "source": [
    "def tokenize(d):   #빈칸 기준으로 단어를 나누는 토큰화\n",
    "    return word_tokenize(d)"
   ]
  },
  {
   "cell_type": "code",
   "execution_count": 83,
   "metadata": {
    "id": "QCo9S9RlrfQg"
   },
   "outputs": [
    {
     "name": "stdout",
     "output_type": "stream",
     "text": [
      "11314\n"
     ]
    }
   ],
   "source": [
    "import pandas as pd\n",
    "\n",
    "news_df = pd.DataFrame({'article':docs})\n",
    "print(len(news_df))"
   ]
  },
  {
   "cell_type": "code",
   "execution_count": 89,
   "metadata": {
    "id": "QCo9S9RlrfQg"
   },
   "outputs": [
    {
     "name": "stdout",
     "output_type": "stream",
     "text": [
      "11096\n",
      "Something about how Koresh had threatened to cause local \n",
      "problems with all these wepaons he had and was alleged to\n",
      "have.  \n",
      "\n",
      "Someone else will post more details soon, I'm sure.\n",
      "\n",
      "Other News:\n",
      "Sniper injures 9 outside MCA buildling in L.A.  Man arrested--suspect\n",
      "was disgruntled employee of Universal Studios, which\n",
      "is a division of M.C.A.\n",
      "\n",
      "\n",
      "QUESTION:\n",
      "What will Californians do with all those guns after the Reginald\n",
      "denny trial?\n"
     ]
    }
   ],
   "source": [
    "news_df.replace('', float('NaN'), inplace=True)\n",
    "news_df.dropna(inplace=True)\n",
    "print(len(news_df))\n",
    "print(news_df.iloc[0][0])"
   ]
  },
  {
   "cell_type": "code",
   "execution_count": 90,
   "metadata": {
    "id": "QCo9S9RlrfQg"
   },
   "outputs": [
    {
     "name": "stdout",
     "output_type": "stream",
     "text": [
      "something koresh threatened cause local problems wepaons alleged someone else post details soon sure news sniper injures outside buildling arrestedsuspect disgruntled employee universal studios division question californians guns reginald denny trial\n"
     ]
    }
   ],
   "source": [
    "# 전처리 (기호 삭제, 불용어 제거)\n",
    "news_df['article'] = news_df['article'].apply(clean_text)\n",
    "news_df['article'] = news_df['article'].apply(clean_stopword)\n",
    "print(news_df.iloc[0][0])"
   ]
  },
  {
   "cell_type": "code",
   "execution_count": 91,
   "metadata": {
    "id": "Oi3PJ7dMsF8K"
   },
   "outputs": [
    {
     "data": {
      "text/plain": [
       "31"
      ]
     },
     "execution_count": 91,
     "metadata": {},
     "output_type": "execute_result"
    }
   ],
   "source": [
    "# 빈칸 기준 토큰화\n",
    "tokenized_df = news_df['article'].apply(tokenize)\n",
    "tokenized_list = tokenized_df.to_list()\n",
    "len(tokenized_list[0])"
   ]
  },
  {
   "cell_type": "code",
   "execution_count": 93,
   "metadata": {},
   "outputs": [
    {
     "name": "stdout",
     "output_type": "stream",
     "text": [
      "['something', 'koresh', 'threatened', 'cause', 'local', 'problems', 'wepaons', 'alleged', 'someone', 'else', 'post', 'details', 'soon', 'sure', 'news', 'sniper', 'injures', 'outside', 'buildling', 'arrestedsuspect', 'disgruntled', 'employee', 'universal', 'studios', 'division', 'question', 'californians', 'guns', 'reginald', 'denny', 'trial']\n"
     ]
    }
   ],
   "source": [
    "print(tokenized_list[0])"
   ]
  },
  {
   "cell_type": "code",
   "execution_count": 95,
   "metadata": {
    "id": "ViSra6MYuM9x"
   },
   "outputs": [
    {
     "name": "stdout",
     "output_type": "stream",
     "text": [
      "10939\n"
     ]
    }
   ],
   "source": [
    "import numpy as np\n",
    "\n",
    "# 단어하나짜리 문장 지우기\n",
    "drop_news = [i for i, sentence in enumerate(tokenized_list) if len(sentence)<=1]\n",
    "news_text = np.delete(np.array(tokenized_list, dtype=object), drop_news, axis=0)\n",
    "\n",
    "print(len(news_text))"
   ]
  },
  {
   "cell_type": "markdown",
   "metadata": {
    "id": "IJ8Zkrar1umI"
   },
   "source": [
    "## Gensim을 이용한 Word2Vec"
   ]
  },
  {
   "cell_type": "markdown",
   "metadata": {
    "id": "-vw3V1fPp88u"
   },
   "source": [
    "### CBOW"
   ]
  },
  {
   "cell_type": "code",
   "execution_count": 96,
   "metadata": {
    "id": "aByJKUOXp-64"
   },
   "outputs": [
    {
     "name": "stderr",
     "output_type": "stream",
     "text": [
      "C:\\Users\\master\\anaconda3\\envs\\py38\\lib\\site-packages\\paramiko\\transport.py:219: CryptographyDeprecationWarning: Blowfish has been deprecated\n",
      "  \"class\": algorithms.Blowfish,\n"
     ]
    }
   ],
   "source": [
    "from gensim.models import Word2Vec"
   ]
  },
  {
   "cell_type": "code",
   "execution_count": 97,
   "metadata": {
    "id": "aByJKUOXp-64"
   },
   "outputs": [],
   "source": [
    "model = Word2Vec(sentences=news_text, \n",
    "                 window=3,     # Maximum distance between the current and predicted word within a sentence\n",
    "                 vector_size=100,     # Dimensionality of the word vectors\n",
    "                 min_count=5,  # Ignores all words with total frequency lower than this\n",
    "                 workers=4,    # Use these many worker threads to train the model (=faster training with multicore machines).\n",
    "                 sg=0)         # 1 for skip-gram; otherwise CBOW."
   ]
  },
  {
   "cell_type": "code",
   "execution_count": 98,
   "metadata": {
    "id": "u9Qigdn1THXO"
   },
   "outputs": [
    {
     "data": {
      "text/plain": [
       "[('turkey', 0.9922395944595337),\n",
       " ('turks', 0.9846490025520325),\n",
       " ('genocide', 0.979028582572937),\n",
       " ('muslim', 0.9748655557632446),\n",
       " ('armenians', 0.9699466228485107),\n",
       " ('azeri', 0.9679301381111145),\n",
       " ('kurds', 0.9676873087882996),\n",
       " ('murdered', 0.9663020968437195),\n",
       " ('armenia', 0.9650161862373352),\n",
       " ('karabakh', 0.963092029094696)]"
      ]
     },
     "execution_count": 98,
     "metadata": {},
     "output_type": "execute_result"
    }
   ],
   "source": [
    "model.wv.most_similar(positive=['soldiers'])"
   ]
  },
  {
   "cell_type": "code",
   "execution_count": 99,
   "metadata": {},
   "outputs": [
    {
     "data": {
      "text/plain": [
       "[('period', 0.7337965965270996),\n",
       " ('pittsburgh', 0.6879974603652954),\n",
       " ('north', 0.6653953790664673),\n",
       " ('third', 0.6633926033973694),\n",
       " ('york', 0.6626687049865723),\n",
       " ('division', 0.6575782299041748),\n",
       " ('chicago', 0.656697690486908),\n",
       " ('vancouver', 0.6556744575500488),\n",
       " ('detroit', 0.6531383991241455),\n",
       " ('league', 0.6528706550598145)]"
      ]
     },
     "execution_count": 99,
     "metadata": {},
     "output_type": "execute_result"
    }
   ],
   "source": [
    "model.wv.most_similar(positive=['soldiers'], negative=['religion'])"
   ]
  },
  {
   "cell_type": "markdown",
   "metadata": {
    "id": "bKUEE4nnp5CR"
   },
   "source": [
    "### Skip-gram"
   ]
  },
  {
   "cell_type": "code",
   "execution_count": 100,
   "metadata": {
    "id": "lcXY8cG50VuX"
   },
   "outputs": [],
   "source": [
    "model = Word2Vec(sentences=news_text, \n",
    "                 window=3, \n",
    "                 vector_size=100,    \n",
    "                 min_count=5, \n",
    "                 workers=4, \n",
    "                 sg=1)    #1 for skip-gram; otherwise CBOW."
   ]
  },
  {
   "cell_type": "code",
   "execution_count": 101,
   "metadata": {
    "id": "lcXY8cG50VuX"
   },
   "outputs": [
    {
     "data": {
      "text/plain": [
       "[('burned', 0.9409762024879456),\n",
       " ('azeri', 0.9388453960418701),\n",
       " ('wounded', 0.9364776015281677),\n",
       " ('murdered', 0.928916871547699),\n",
       " ('troops', 0.9246466755867004),\n",
       " ('karabakh', 0.9237154722213745),\n",
       " ('greeks', 0.9228474497795105),\n",
       " ('corpses', 0.9223815202713013),\n",
       " ('survivors', 0.9221004247665405),\n",
       " ('village', 0.9179053902626038)]"
      ]
     },
     "execution_count": 101,
     "metadata": {},
     "output_type": "execute_result"
    }
   ],
   "source": [
    "model.wv.most_similar(positive=['soldiers'])"
   ]
  },
  {
   "cell_type": "code",
   "execution_count": 102,
   "metadata": {
    "id": "0ezmKn03TC3d"
   },
   "outputs": [
    {
     "data": {
      "text/plain": [
       "[('went', 0.5299655795097351),\n",
       " ('door', 0.5267699956893921),\n",
       " ('puck', 0.522163987159729),\n",
       " ('dineen', 0.5148030519485474),\n",
       " ('town', 0.5134052634239197),\n",
       " ('broke', 0.5127241611480713),\n",
       " ('floor', 0.5034723877906799),\n",
       " ('baku', 0.48686710000038147),\n",
       " ('helicopter', 0.4837775230407715),\n",
       " ('shot', 0.482835978269577)]"
      ]
     },
     "execution_count": 102,
     "metadata": {},
     "output_type": "execute_result"
    }
   ],
   "source": [
    "model.wv.most_similar(positive=['soldiers'], negative=['religion'])"
   ]
  },
  {
   "cell_type": "markdown",
   "metadata": {
    "id": "nrBZX9ZlSw6O"
   },
   "source": [
    "### 임베딩 벡터 시각화"
   ]
  },
  {
   "cell_type": "code",
   "execution_count": 103,
   "metadata": {
    "id": "gA674OcrStUQ"
   },
   "outputs": [],
   "source": [
    "from gensim.models import KeyedVectors\n",
    "\n",
    "# metadata.tsv와 tensor.tsv 데이터 생성\n",
    "model.wv.save_word2vec_format('news_w2v')  \n",
    "#Store the input-hidden weight matrix in the same format used by the original C word2vec-tool, for compatibility."
   ]
  },
  {
   "cell_type": "markdown",
   "metadata": {
    "id": "8yRepgJTWSte"
   },
   "source": [
    "* metadata.tsv와 tensor.tsv 데이터 생성"
   ]
  },
  {
   "cell_type": "code",
   "execution_count": 104,
   "metadata": {
    "id": "gA674OcrStUQ"
   },
   "outputs": [
    {
     "name": "stderr",
     "output_type": "stream",
     "text": [
      "C:\\Users\\master\\anaconda3\\envs\\py38\\lib\\site-packages\\paramiko\\transport.py:219: CryptographyDeprecationWarning: Blowfish has been deprecated\n",
      "  \"class\": algorithms.Blowfish,\n",
      "2024-01-08 11:17:54,734 - word2vec2tensor - INFO - running C:\\Users\\master\\anaconda3\\envs\\py38\\lib\\site-packages\\gensim\\scripts\\word2vec2tensor.py -i news_w2v -o news_w2v\n",
      "2024-01-08 11:17:54,734 - keyedvectors - INFO - loading projection weights from news_w2v\n",
      "2024-01-08 11:17:55,945 - utils - INFO - KeyedVectors lifecycle event {'msg': 'loaded (16996, 100) matrix of type float32 from news_w2v', 'binary': False, 'encoding': 'utf8', 'datetime': '2024-01-08T11:17:55.944949', 'gensim': '4.3.2', 'python': '3.8.0 (default, Nov  6 2019, 16:00:02) [MSC v.1916 64 bit (AMD64)]', 'platform': 'Windows-10-10.0.19041-SP0', 'event': 'load_word2vec_format'}\n",
      "2024-01-08 11:17:57,091 - word2vec2tensor - INFO - 2D tensor file saved to news_w2v_tensor.tsv\n",
      "2024-01-08 11:17:57,091 - word2vec2tensor - INFO - Tensor metadata file saved to news_w2v_metadata.tsv\n",
      "2024-01-08 11:17:57,093 - word2vec2tensor - INFO - finished running word2vec2tensor.py\n"
     ]
    }
   ],
   "source": [
    "!python -m gensim.scripts.word2vec2tensor -i news_w2v -o news_w2v"
   ]
  },
  {
   "cell_type": "markdown",
   "metadata": {
    "id": "nD_aU-YOTEon"
   },
   "source": [
    "* Embedding Projector: https://projector.tensorflow.org/"
   ]
  },
  {
   "cell_type": "markdown",
   "metadata": {},
   "source": [
    "## Keras를 이용한 Word2Vec, Skipgram, CBOW 구현\n",
    "\n",
    "출처: https://github.com/yeon93/NLP_study/blob/main/07_embedding.ipynb"
   ]
  },
  {
   "cell_type": "markdown",
   "metadata": {},
   "source": [
    "### 1. Word2Vec"
   ]
  },
  {
   "cell_type": "code",
   "execution_count": 111,
   "metadata": {},
   "outputs": [
    {
     "name": "stdout",
     "output_type": "stream",
     "text": [
      "11314\n"
     ]
    },
    {
     "data": {
      "text/plain": [
       "\"Something about how Koresh had threatened to cause local \\nproblems with all these wepaons he had and was alleged to\\nhave.  \\n\\nSomeone else will post more details soon, I'm sure.\\n\\nOther News:\\nSniper injures 9 outside MCA buildling in L.A.  Man arrested--suspect\\nwas disgruntled employee of Universal Studios, which\\nis a division of M.C.A.\\n\\n\\nQUESTION:\\nWhat will Californians do with all those guns after the Reginald\\ndenny trial?\""
      ]
     },
     "execution_count": 111,
     "metadata": {},
     "output_type": "execute_result"
    }
   ],
   "source": [
    "from sklearn.datasets import fetch_20newsgroups\n",
    "\n",
    "data = fetch_20newsgroups(shuffle=True, random_state=2, remove=('headers', 'footers', 'quotes'))\n",
    "docs = data.data\n",
    "\n",
    "print(len(docs))\n",
    "docs[0]          #이메일주소, 개행문자, 숫자 전처리 필요"
   ]
  },
  {
   "cell_type": "code",
   "execution_count": 112,
   "metadata": {},
   "outputs": [
    {
     "name": "stdout",
     "output_type": "stream",
     "text": [
      "11314\n",
      "11096\n"
     ]
    }
   ],
   "source": [
    "import pandas as pd\n",
    "\n",
    "news_df = pd.DataFrame({'article':docs})\n",
    "print(len(news_df)) \n",
    "\n",
    "news_df.replace('', float(\"NaN\"), inplace=True)\n",
    "news_df.dropna(inplace=True)\n",
    "print(len(news_df))\n",
    "\n",
    "news_df['article'] = news_df['article'].apply(clean_text)\n",
    "news_df['article'] = news_df['article'].apply(clean_stopword)\n",
    "news_df.tail(3)  #index가 맞지 않음\n",
    "\n",
    "news_df = news_df.reset_index()\n",
    "del news_df['index']\n",
    "\n",
    "tokenized_news = news_df['article'].apply(tokenize)\n",
    "tokenized_news =tokenized_news.to_list()\n",
    "\n",
    "drop_news = [index for index, sentence in enumerate(tokenized_news) if len(sentence) <= 1] \n",
    "news_texts = np.delete(np.array(tokenized_news, dtype='object'), drop_news, axis = 0)   "
   ]
  },
  {
   "cell_type": "code",
   "execution_count": 113,
   "metadata": {},
   "outputs": [
    {
     "name": "stdout",
     "output_type": "stream",
     "text": [
      "27778\n"
     ]
    }
   ],
   "source": [
    "# 단어 사전 만들기\n",
    "from tensorflow.keras.preprocessing.text import Tokenizer\n",
    "\n",
    "news_2000 = news_texts[:2000]\n",
    "tokenizer = Tokenizer()\n",
    "tokenizer.fit_on_texts(news_2000)\n",
    "\n",
    "idx2word = {value:key for key, value in tokenizer.word_index.items()}\n",
    "sequences = tokenizer.texts_to_sequences(news_2000)\n",
    "vocab_size = len(tokenizer.word_index) + 1\n",
    "print(vocab_size) "
   ]
  },
  {
   "cell_type": "markdown",
   "metadata": {},
   "source": [
    "### 1. Skipgram\n",
    "\n",
    "전처리에서 Negative Sampling\r\n",
    "- Word2Vec은 출력층이 내놓는 값에 소프트맥스 함수를 적용해 확률값으로 변환한 후 이를 정답과 비교해 역전파\r\n",
    "- 소프트맥스를 적용하려면 분모에 해당하는 값, 즉 중심단어와 나머지 모든 단어의 내적을 한 뒤, 이를 다시 exp 계산을 하는데 전체 단어가 많을 경우 엄청난 계산량 발생  \r\n",
    "- 네거티브 샘플링은 소프트맥스 확률을 구할 때 전체 단어를 대상으로 구하지 않고, 일부 단어만 뽑아서 계산을 하는 방식\r\n",
    "- 네거티브 샘플링 동작은 사용자가 지정한 윈도우 사이즈 내에 등장하지 않는 단어(negative sample)를 5~20개 정도 뽑고,\r\n",
    "      \r\n",
    "이를 정답단어와 합쳐 전체 단어처럼 소프트맥스 확률을 계산하여 파라미터 업데이트"
   ]
  },
  {
   "cell_type": "code",
   "execution_count": 114,
   "metadata": {},
   "outputs": [
    {
     "name": "stdout",
     "output_type": "stream",
     "text": [
      "denny(12038), mdsaugwyuua(25122) -> 0\n",
      "soon(455), betaxeroxcompubhash(26235) -> 0\n",
      "buildling(12032), maczone(14800) -> 0\n",
      "koresh(1028), cause(367) -> 1\n",
      "post(161), problems(173) -> 1\n",
      "10 1020 1020\n"
     ]
    }
   ],
   "source": [
    "from tensorflow.keras.preprocessing.sequence import skipgrams\n",
    "\n",
    "skip_grams = [skipgrams(sample, vocabulary_size=vocab_size, window_size=10) for sample in sequences[:10]] # 10개 단어 샘플\n",
    "pairs, labels = skip_grams[0][0], skip_grams[0][1]\n",
    "for i in range(5):\n",
    "    print(\"{:s}({:d}), {:s}({:d}) -> {:d}\".format(idx2word[pairs[i][0]], pairs[i][0],\n",
    "                                                  idx2word[pairs[i][1]], pairs[i][1],\n",
    "                                                  labels[i]))\n",
    "    \n",
    "print(len(skip_grams), len(pairs), len(labels)) "
   ]
  },
  {
   "cell_type": "code",
   "execution_count": 115,
   "metadata": {},
   "outputs": [
    {
     "name": "stdout",
     "output_type": "stream",
     "text": [
      "Model: \"model\"\n",
      "__________________________________________________________________________________________________\n",
      " Layer (type)                Output Shape                 Param #   Connected to                  \n",
      "==================================================================================================\n",
      " input_1 (InputLayer)        [(None, 1)]                  0         []                            \n",
      "                                                                                                  \n",
      " input_2 (InputLayer)        [(None, 1)]                  0         []                            \n",
      "                                                                                                  \n",
      " embedding_5 (Embedding)     (None, 1, 50)                1388900   ['input_1[0][0]']             \n",
      "                                                                                                  \n",
      " embedding_6 (Embedding)     (None, 1, 50)                1388900   ['input_2[0][0]']             \n",
      "                                                                                                  \n",
      " dot (Dot)                   (None, 1, 1)                 0         ['embedding_5[0][0]',         \n",
      "                                                                     'embedding_6[0][0]']         \n",
      "                                                                                                  \n",
      " reshape (Reshape)           (None, 1)                    0         ['dot[0][0]']                 \n",
      "                                                                                                  \n",
      " activation (Activation)     (None, 1)                    0         ['reshape[0][0]']             \n",
      "                                                                                                  \n",
      "==================================================================================================\n",
      "Total params: 2777800 (10.60 MB)\n",
      "Trainable params: 2777800 (10.60 MB)\n",
      "Non-trainable params: 0 (0.00 Byte)\n",
      "__________________________________________________________________________________________________\n"
     ]
    }
   ],
   "source": [
    "from tensorflow.keras.models import Sequential, Model\n",
    "from tensorflow.keras.layers import Embedding, Reshape, Activation, Input, Dot\n",
    "\n",
    "embed_size = 50\n",
    "\n",
    "def word2vec():\n",
    "    target_inputs = Input(shape=(1,), dtype='int32')\n",
    "    target_embedding = Embedding(vocab_size, embed_size)(target_inputs)\n",
    "    \n",
    "    context_inputs = Input(shape=(1,), dtype='int32')\n",
    "    context_embedding = Embedding(vocab_size, embed_size)(context_inputs)\n",
    "    \n",
    "    dot_product = Dot(axes=2)([target_embedding, context_embedding])\n",
    "    dot_product = Reshape((1,), input_shape=(1,1))(dot_product)\n",
    "    output = Activation('sigmoid')(dot_product)\n",
    "    \n",
    "    model = Model(inputs=[target_inputs, context_inputs], outputs=output)\n",
    "    model.compile(loss='binary_crossentropy', optimizer='adam')\n",
    "    \n",
    "    return model\n",
    "\n",
    "model = word2vec()\n",
    "model.summary()"
   ]
  },
  {
   "cell_type": "code",
   "execution_count": 117,
   "metadata": {},
   "outputs": [
    {
     "name": "stdout",
     "output_type": "stream",
     "text": [
      "Epoch :  1 Loss :  6.931567072868347\n",
      "Epoch :  2 Loss :  6.919040858745575\n",
      "Epoch :  3 Loss :  6.9062260389328\n",
      "Epoch :  4 Loss :  6.891113758087158\n",
      "Epoch :  5 Loss :  6.872458457946777\n",
      "Epoch :  6 Loss :  6.849158704280853\n",
      "Epoch :  7 Loss :  6.820236682891846\n",
      "Epoch :  8 Loss :  6.784835994243622\n",
      "Epoch :  9 Loss :  6.742222785949707\n",
      "Epoch :  10 Loss :  6.69179505109787\n"
     ]
    }
   ],
   "source": [
    "for epoch in range(1,11):\n",
    "    loss = 0\n",
    "    for _, elem in enumerate(skip_grams):\n",
    "        first_elem = np.array(list(zip(*elem[0]))[0], dtype='int32')\n",
    "        second_elem = np.array(list(zip(*elem[0]))[1], dtype='int32')\n",
    "        labels = np.array(elem[1], dtype='int32')\n",
    "        X = [first_elem, second_elem] \n",
    "        Y = labels \n",
    "        loss += model.train_on_batch(X,Y) # 한번의 epoch에 여러 번 트레이닝\n",
    "        \n",
    "    print('Epoch : ', epoch, 'Loss : ', loss)"
   ]
  },
  {
   "cell_type": "code",
   "execution_count": 118,
   "metadata": {},
   "outputs": [],
   "source": [
    "import gensim\n",
    "\n",
    "f = open('skipgram.txt', 'w')\n",
    "f.write('{} {}\\n'.format(vocab_size-1, embed_size))\n",
    "vectors = model.get_weights()[0]\n",
    "for word, i in tokenizer.word_index.items():\n",
    "    f.write('{} {}\\n'.format(word, ' '.join(map(str, list(vectors[i,:])))))\n",
    "f.close()\n",
    "\n",
    "skipgram = gensim.models.KeyedVectors.load_word2vec_format('skipgram.txt', binary=False)"
   ]
  },
  {
   "cell_type": "code",
   "execution_count": 119,
   "metadata": {},
   "outputs": [
    {
     "data": {
      "text/plain": [
       "[('xtianity', 0.5880213975906372),\n",
       " ('sticker', 0.5396521687507629),\n",
       " ('drafting', 0.4956164062023163),\n",
       " ('dries', 0.4860883057117462),\n",
       " ('territories', 0.47066599130630493),\n",
       " ('choises', 0.46158650517463684),\n",
       " ('text', 0.46009787917137146),\n",
       " ('sucessful', 0.45387837290763855),\n",
       " ('grid', 0.4528486728668213),\n",
       " ('gospelas', 0.4480464458465576)]"
      ]
     },
     "execution_count": 119,
     "metadata": {},
     "output_type": "execute_result"
    }
   ],
   "source": [
    "skipgram.most_similar(positive=['soldiers'])"
   ]
  },
  {
   "cell_type": "code",
   "execution_count": 120,
   "metadata": {},
   "outputs": [
    {
     "data": {
      "text/plain": [
       "[('choises', 0.5382639765739441),\n",
       " ('xtianity', 0.5331427454948425),\n",
       " ('exhort', 0.515254557132721),\n",
       " ('disciple', 0.503258466720581),\n",
       " ('drafting', 0.49540311098098755),\n",
       " ('aggressively', 0.4876193106174469),\n",
       " ('stoppy', 0.48720163106918335),\n",
       " ('sucessful', 0.4858875572681427),\n",
       " ('loosest', 0.48520877957344055),\n",
       " ('complete', 0.4831027090549469)]"
      ]
     },
     "execution_count": 120,
     "metadata": {},
     "output_type": "execute_result"
    }
   ],
   "source": [
    "skipgram.most_similar(positive=['soldiers'], negative=['religion'])"
   ]
  },
  {
   "cell_type": "markdown",
   "metadata": {},
   "source": [
    "### 3. CBOW"
   ]
  },
  {
   "cell_type": "code",
   "execution_count": 121,
   "metadata": {},
   "outputs": [
    {
     "name": "stdout",
     "output_type": "stream",
     "text": [
      "denny(12038), mdsaugwyuua(25122) -> 0\n",
      "soon(455), betaxeroxcompubhash(26235) -> 0\n",
      "buildling(12032), maczone(14800) -> 0\n",
      "koresh(1028), cause(367) -> 1\n",
      "post(161), problems(173) -> 1\n",
      "10 1020 1020\n"
     ]
    }
   ],
   "source": [
    "def skipgram2cbow(skipgrams):\n",
    "    cbows = []\n",
    "    flag = 0\n",
    "    for n in skip_grams:\n",
    "        temp1 = []\n",
    "        for t in n :\n",
    "            if flag == 0:\n",
    "                temp1.append(t)\n",
    "            else:\n",
    "                flag = 1\n",
    "                temp2 = []\n",
    "                for x in t:\n",
    "                    temp2.append([x[1], x[0]])\n",
    "                temp1.append(temp2)\n",
    "        cbows.append(temp1)\n",
    "    return cbows\n",
    "\n",
    "cbows = skipgram2cbow(skip_grams)\n",
    "pairs, labels = cbows[0][0], cbows[0][1]\n",
    "for i in range(5):\n",
    "    print('{:s}({:d}), {:s}({:d}) -> {:d}'.format(\n",
    "    idx2word[pairs[i][0]], pairs[i][0],\n",
    "    idx2word[pairs[i][1]], pairs[i][1],\n",
    "    labels[i]))\n",
    "    \n",
    "print(len(cbows), len(pairs), len(labels)) "
   ]
  },
  {
   "cell_type": "code",
   "execution_count": 122,
   "metadata": {},
   "outputs": [
    {
     "name": "stdout",
     "output_type": "stream",
     "text": [
      "Model: \"model_1\"\n",
      "__________________________________________________________________________________________________\n",
      " Layer (type)                Output Shape                 Param #   Connected to                  \n",
      "==================================================================================================\n",
      " input_3 (InputLayer)        [(None, 1)]                  0         []                            \n",
      "                                                                                                  \n",
      " input_4 (InputLayer)        [(None, 1)]                  0         []                            \n",
      "                                                                                                  \n",
      " embedding_7 (Embedding)     (None, 1, 50)                1388900   ['input_3[0][0]']             \n",
      "                                                                                                  \n",
      " embedding_8 (Embedding)     (None, 1, 50)                1388900   ['input_4[0][0]']             \n",
      "                                                                                                  \n",
      " dot_1 (Dot)                 (None, 1, 1)                 0         ['embedding_7[0][0]',         \n",
      "                                                                     'embedding_8[0][0]']         \n",
      "                                                                                                  \n",
      " reshape_1 (Reshape)         (None, 1)                    0         ['dot_1[0][0]']               \n",
      "                                                                                                  \n",
      " activation_1 (Activation)   (None, 1)                    0         ['reshape_1[0][0]']           \n",
      "                                                                                                  \n",
      "==================================================================================================\n",
      "Total params: 2777800 (10.60 MB)\n",
      "Trainable params: 2777800 (10.60 MB)\n",
      "Non-trainable params: 0 (0.00 Byte)\n",
      "__________________________________________________________________________________________________\n"
     ]
    }
   ],
   "source": [
    "model = word2vec()\n",
    "\n",
    "model.summary()"
   ]
  },
  {
   "cell_type": "code",
   "execution_count": 124,
   "metadata": {},
   "outputs": [
    {
     "name": "stdout",
     "output_type": "stream",
     "text": [
      "Epoch :  1 Loss :  6.931365668773651\n",
      "Epoch :  2 Loss :  6.918686628341675\n",
      "Epoch :  3 Loss :  6.905610024929047\n",
      "Epoch :  4 Loss :  6.890137553215027\n",
      "Epoch :  5 Loss :  6.871027290821075\n",
      "Epoch :  6 Loss :  6.8471720814704895\n",
      "Epoch :  7 Loss :  6.817577481269836\n",
      "Epoch :  8 Loss :  6.781360149383545\n",
      "Epoch :  9 Loss :  6.737765669822693\n",
      "Epoch :  10 Loss :  6.686176598072052\n"
     ]
    }
   ],
   "source": [
    "for epoch in range(1,11):\n",
    "    loss = 0\n",
    "    for _, elem in enumerate(cbows):\n",
    "        first_elem = np.array(list(zip(*elem[0]))[0], dtype='int32')\n",
    "        second_elem = np.array(list(zip(*elem[0]))[1], dtype='int32')\n",
    "        labels = np.array(elem[1], dtype='int32')\n",
    "        X = [first_elem, second_elem] \n",
    "        Y = labels \n",
    "        loss += model.train_on_batch(X,Y) # 한번의 epoch에 여러 번 트레이닝\n",
    "        \n",
    "    print('Epoch : ', epoch, 'Loss : ', loss)"
   ]
  },
  {
   "cell_type": "code",
   "execution_count": 125,
   "metadata": {},
   "outputs": [],
   "source": [
    "f = open('cbow.txt', 'w')\n",
    "f.write('{} {}\\n'.format(vocab_size-1, embed_size))\n",
    "vectors = model.get_weights()[0]\n",
    "for word, i in tokenizer.word_index.items():\n",
    "    f.write('{} {}\\n'.format(word, ' '.join(map(str, list(vectors[i,:])))))\n",
    "f.close()\n",
    "\n",
    "cbow = gensim.models.KeyedVectors.load_word2vec_format('cbow.txt', binary=False)"
   ]
  },
  {
   "cell_type": "code",
   "execution_count": 126,
   "metadata": {},
   "outputs": [
    {
     "data": {
      "text/plain": [
       "[('pressed', 0.5663207769393921),\n",
       " ('treefold', 0.5345962047576904),\n",
       " ('cordon', 0.5061419010162354),\n",
       " ('cant', 0.5027245283126831),\n",
       " ('istiyor', 0.48892664909362793),\n",
       " ('excuse', 0.48290520906448364),\n",
       " ('molluscous', 0.48117485642433167),\n",
       " ('mhjcfjifbilykrenrkdphlhakskmnyc', 0.48078659176826477),\n",
       " ('advocating', 0.4739479124546051),\n",
       " ('pinch', 0.4700099229812622)]"
      ]
     },
     "execution_count": 126,
     "metadata": {},
     "output_type": "execute_result"
    }
   ],
   "source": [
    "cbow.most_similar(positive=['soldiers'])"
   ]
  },
  {
   "cell_type": "code",
   "execution_count": 127,
   "metadata": {},
   "outputs": [
    {
     "data": {
      "text/plain": [
       "[('fucking', 0.5660025477409363),\n",
       " ('pressed', 0.5180708169937134),\n",
       " ('churchgroup', 0.4760890007019043),\n",
       " ('spokane', 0.47185227274894714),\n",
       " ('bacterias', 0.4666007161140442),\n",
       " ('poker', 0.4612160325050354),\n",
       " ('unorthodox', 0.45622518658638),\n",
       " ('appreciated', 0.455735981464386),\n",
       " ('research', 0.45385825634002686),\n",
       " ('hypnotic', 0.45221462845802307)]"
      ]
     },
     "execution_count": 127,
     "metadata": {},
     "output_type": "execute_result"
    }
   ],
   "source": [
    "cbow.most_similar(positive=['soldiers'], negative=['religion'])"
   ]
  },
  {
   "cell_type": "code",
   "execution_count": null,
   "metadata": {},
   "outputs": [],
   "source": []
  }
 ],
 "metadata": {
  "accelerator": "GPU",
  "colab": {
   "provenance": [],
   "toc_visible": true
  },
  "kernelspec": {
   "display_name": "Python 3 (ipykernel)",
   "language": "python",
   "name": "python3"
  },
  "language_info": {
   "codemirror_mode": {
    "name": "ipython",
    "version": 3
   },
   "file_extension": ".py",
   "mimetype": "text/x-python",
   "name": "python",
   "nbconvert_exporter": "python",
   "pygments_lexer": "ipython3",
   "version": "3.8.0"
  }
 },
 "nbformat": 4,
 "nbformat_minor": 4
}
