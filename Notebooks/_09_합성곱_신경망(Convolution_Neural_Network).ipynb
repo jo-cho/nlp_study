{
 "cells": [
  {
   "cell_type": "markdown",
   "metadata": {
    "id": "86l7I5SQ_u9J"
   },
   "source": [
    "# 합성곱 신경망(Convolution Neural Network)\n",
    "\n",
    "- 이미지 인식, 음성 인식 등에 자주 사용되는데,  \n",
    "  특히, 이미지 인식 분야에서 거의 모든 딥러닝 기술에 사용\n",
    "\n",
    "<br>\n",
    "\n",
    "## 컨볼루션 신경망의 등장\n",
    "- 1989년 얀 르쿤(Yann LeCun) 교수의 논문에서 발표\n",
    "\n",
    "  - 필기체 인식에서 의미가 있었지만 범용화하는데에는 무리\n",
    "\n",
    "- 1998년, \"Gradient-Based Learning Applied to Document Recognition\"이라는 논문에서 LeNet-5 제시\n",
    "\n",
    "- 합성곱 층(convolution layer), 풀링 층(pooling layer) 소개\n",
    "  <br>\n",
    "\n",
    "  <img src=\"https://miro.medium.com/max/4308/1*1TI1aGBZ4dybR6__DI9dzA.png\">\n",
    "  \n",
    "  <center>[LeNet-5 구조]</center>\n",
    "\n",
    "  <sub>출처: https://medium.com/@pechyonkin/key-deep-learning-architectures-lenet-5-6fc3c59e6f4</sub>"
   ]
  },
  {
   "cell_type": "markdown",
   "metadata": {
    "id": "Y46evOQHNukF"
   },
   "source": [
    "## 컨볼루션 신경망 구조 예시\n",
    "\n",
    "<img src=\"https://www.oreilly.com/library/view/neural-network-projects/9781789138900/assets/c38754ca-f2ea-425a-b7a6-1fe0f2f5074e.png\" width=\"600\">\n",
    "\n",
    "<sub>출처: https://www.oreilly.com/library/view/neural-network-projects/9781789138900/8e87ad66-6de3-4275-81a4-62b54436bf16.xhtml</sub>\n",
    "\n"
   ]
  },
  {
   "cell_type": "markdown",
   "metadata": {
    "id": "Wtb8UWyTNxp_"
   },
   "source": [
    "## 합성곱 연산\n",
    "- 필터(filter) 연산\n",
    "  - 입력 데이터에 필터를 통한 어떠한 연산을 진행\n",
    "  \n",
    "  - **필터에 대응하는 원소끼리 곱하고, 그 합을 구함**\n",
    "\n",
    "  - 연산이 완료된 결과 데이터를 **특징 맵(feature map)**이라 부름\n",
    "\n",
    "- 필터(filter)\n",
    "  - 커널(kernel)이라고도 칭함\n",
    "  \n",
    "  - 흔히 사진 어플에서 사용하는 '이미지 필터'와 비슷한 개념\n",
    "\n",
    "  - 필터의 사이즈는 \"거의 항상 홀수\"\n",
    "    - 짝수이면 패딩이 비대칭이 되어버림\n",
    "  \n",
    "    - 왼쪽, 오른쪽을 다르게 주어야함\n",
    "  \n",
    "    - 중심위치가 존재, 즉 구별된 하나의 픽셀(중심 픽셀)이 존재\n",
    "\n",
    "  - 필터의 학습 파라미터 개수는 입력 데이터의 크기와 상관없이 일정  \n",
    "    따라서, 과적합을 방지할 수 있음\n",
    "\n",
    "  <br>\n",
    "  <img src=\"http://deeplearning.net/software/theano_versions/dev/_images/numerical_no_padding_no_strides.gif\">\n",
    "\n",
    "  <sub>출처: http://deeplearning.net/software/theano_versions/dev/tutorial/conv_arithmetic.html</sub>\n",
    "\n",
    "\n",
    "- 연산 시각화\n",
    "  <img src=\"https://www.researchgate.net/profile/Ihab_S_Mohamed/publication/324165524/figure/fig3/AS:611103423860736@1522709818959/An-example-of-convolution-operation-in-2D-2.png\" width=\"500\">\n",
    "\n",
    "  <sub>출처: https://www.researchgate.net/figure/An-example-of-convolution-operation-in-2D-2_fig3_324165524</sub>\n",
    "\n",
    "\n",
    "- 일반적으로, 합성곱 연산을 한 후의 데이터 사이즈는  \n",
    "  ### $\\quad (n-f+1) \\times (n-f+1)$\n",
    "    $n$: 입력 데이터의 크기  \n",
    "    $f$: 필터(커널)의 크기\n",
    "\n",
    "\n",
    "  <img src=\"https://miro.medium.com/max/1400/1*Fw-ehcNBR9byHtho-Rxbtw.gif\" width=\"400\">\n",
    "\n",
    "  <sub>출처: https://towardsdatascience.com/intuitively-understanding-convolutions-for-deep-learning-1f6f42faee1</sub>\n",
    "  \n",
    "  위 예에서 입력 데이터 크기($n$)는 5, 필터의 크기($k$)는 3이므로  \n",
    "  출력 데이터의 크기는 $(5 - 3 + 1) = 3$\n"
   ]
  },
  {
   "cell_type": "markdown",
   "metadata": {
    "id": "5-ekDsJwN2Y-"
   },
   "source": [
    "## 패딩(padding)과 스트라이드(stride)\n",
    "- 필터(커널) 사이즈과 함께 **입력 이미지와 출력 이미지의 사이즈를 결정**하기 위해 사용\n",
    "\n",
    "- 사용자가 결정할 수 있음\n"
   ]
  },
  {
   "cell_type": "markdown",
   "metadata": {
    "id": "alV1bgcjN4Kc"
   },
   "source": [
    "\n",
    "### 패딩\n",
    "- 입력 데이터의 주변을 특정 값으로 채우는 기법\n",
    "  - 주로 0으로 많이 채움\n",
    "\n",
    "  <img src=\"http://deeplearning.net/software/theano_versions/dev/_images/arbitrary_padding_no_strides.gif\" width=\"300\">\n",
    "\n",
    "- 출력 데이터의 크기\n",
    "  ### $\\quad (n+2p-f+1) \\times (n+2p-f+1)$\n",
    "\n",
    "  위 그림에서, 입력 데이터의 크기($n$)는 5, 필터의 크기($f$)는 4, 패딩값($p$)은 2이므로    \n",
    "  출력 데이터의 크기는 ($5 + 2\\times 2 - 4 + 1) = 6$\n",
    "\n",
    "### 'valid' 와 'same'\n",
    "- 'valid'\n",
    "  - 패딩을 주지 않음\n",
    "  - padding=0 (0으로 채워진 테두리가 아니라 패딩을 주지 않는다는 의미)\n",
    "\n",
    "- 'same'\n",
    "  - 패딩을 주어 입력 이미지의 크기와 연산 후의 이미지 크기를 같게함\n",
    "\n",
    "  - 만약, 필터(커널)의 크기가 $k$ 이면,  \n",
    "    패딩의 크기는 $p = \\frac{k-1}{2}$ (단, <u>stride=1)</u>"
   ]
  },
  {
   "cell_type": "markdown",
   "metadata": {
    "id": "zlZ7zG6ON85J"
   },
   "source": [
    "\n",
    "\n",
    "### 스트라이드\n",
    "- 필터를 적용하는 간격을 의미\n",
    "\n",
    "- 아래는 그림의 간격 2\n",
    "\n",
    "  <img src=\"http://deeplearning.net/software/theano_versions/dev/_images/no_padding_strides.gif\">\n"
   ]
  },
  {
   "cell_type": "markdown",
   "metadata": {
    "id": "LPcsND-0OCNm"
   },
   "source": [
    "## 출력 데이터의 크기\n",
    "\n",
    "## $\\qquad OH = \\frac{H + 2P - FH}{S} + 1 $\n",
    "## $\\qquad OW = \\frac{W + 2P - FW}{S} + 1 $\n",
    "\n",
    "- 입력 크기 : $(H, W)$\n",
    "\n",
    "- 필터 크기 : $(FH, FW)$\n",
    "\n",
    "- 출력 크기 : $(OH, OW)$\n",
    "\n",
    "- 패딩, 스트라이드 : $P, S$\n",
    "\n",
    "- (주의)\n",
    "  - 위 식의 값에서 $\\frac{H + 2P - FH}{S}$ 또는 $\\frac{W + 2P - FW}{S}$가 정수로 나누어 떨어지는 값이어야 함\n",
    "  - 만약, 정수로 나누어 떨어지지 않으면  \n",
    "    패딩, 스트라이드값을 조정하여 정수로 나누어 떨어지게 해야함\n"
   ]
  },
  {
   "cell_type": "markdown",
   "metadata": {
    "id": "1x4UoMbF8jJ9"
   },
   "source": [
    "## 풀링(Pooling)\n",
    "\n",
    "- 필터(커널) 사이즈 내에서 특정 값을 추출하는 과정"
   ]
  },
  {
   "cell_type": "markdown",
   "metadata": {
    "id": "lDiaO3XF8oC_"
   },
   "source": [
    "### 맥스 풀링(Max Pooling)\n",
    "- 가장 많이 사용되는 방법\n",
    "\n",
    "- 출력 데이터의 사이즈 계산은 컨볼루션 연산과 동일\n",
    "## $\\quad OH = \\frac{H + 2P - FH}{S} + 1 $\n",
    "## $\\quad OW = \\frac{W + 2P - FW}{S} + 1 $\n",
    "\n",
    "- 일반적으로 stride=2, kernel_size=2 를 통해  \n",
    "  **특징맵의 크기를 <u>절반으로 줄이는 역할</u>**\n",
    "\n",
    "- 모델이 물체의 주요한 특징을 학습할 수 있도록 해주며,  \n",
    "  컨볼루션 신경망이 이동 불변성 특성을 가지게 해줌\n",
    "  - 예를 들어, 아래의 그림에서 초록색 사각형 안에 있는  \n",
    "    2와 8의 위치를 바꾼다해도 맥스 풀링 연산은 8을 추출\n",
    "\n",
    "- 모델의 파라미터 개수를 줄여주고, 연산 속도를 빠르게 해줌\n",
    "\n",
    "  <br>\n",
    "\n",
    "  <img src=\"https://cs231n.github.io/assets/cnn/maxpool.jpeg\" width=\"600\">\n",
    "\n",
    "  <sub>출처: https://cs231n.github.io/convolutional-networks/</sub>"
   ]
  },
  {
   "cell_type": "markdown",
   "metadata": {
    "id": "CrvtX4LrkhPI"
   },
   "source": [
    "## Conv1D\n",
    "\n",
    "- 텍스트 분류나 시계열 예측 같은 간단한 문제, 오디오 생성, 기계 번역 등의 문제에서 좋은 성능\n",
    "\n",
    "- 타임스텝의 순서에 민감하지 X\n",
    "\n",
    "\n",
    "- 2D Convolution\n",
    "  - 지역적 특징을 인식\n",
    "\n",
    "  <img src=\"https://missinglink.ai/wp-content/uploads/2019/03/2D-convolutional-example_2x-700x584.png\" width=\"500\">\n",
    "\n",
    "- 1D Convolution\n",
    "  - 문맥을 인식\n",
    "\n",
    "  <img src=\"https://missinglink.ai/wp-content/uploads/2019/03/1D-convolutional-example_2x.png\" width=\"500\">\n",
    "\n",
    "  <sub>출처: https://missinglink.ai/guides/keras/keras-conv1d-working-1d-convolutional-neural-networks-keras/</sub>"
   ]
  },
  {
   "cell_type": "markdown",
   "metadata": {
    "id": "aJNAI-aYnDuc"
   },
   "source": [
    "### Conv1D Layer\n",
    "- 입력: `(batch_size, timesteps, channels)`\n",
    "\n",
    "- 출력: `(batch_size, timesteps, filters)`\n",
    "\n",
    "- 필터의 사이즈가 커져도 모델이 급격히 증가하지 않기 때문에 다양한 크기를 사용할 수 있음\n",
    "- 데이터의 품질이 좋으면 굳이 크기를 달리하여 여러 개를 사용하지 않아도 될 수도 있음"
   ]
  },
  {
   "cell_type": "markdown",
   "metadata": {
    "id": "ADJZHPLJqTZa"
   },
   "source": [
    "### MaxPooling1D Layer\n",
    "- 다운 샘플링 효과\n",
    "\n",
    "- 단지 1차원형태로 바뀐 것 뿐"
   ]
  },
  {
   "cell_type": "markdown",
   "metadata": {
    "id": "wirZzwYJrNll"
   },
   "source": [
    "### GlovalMaxPooling Layer\n",
    "- 배치차원을 제외하고 2차원 형태를 1차원 형태로 바꾸어주는 레이어\n",
    "\n",
    "- Flatten layer로 대신 사용가능"
   ]
  },
  {
   "cell_type": "markdown",
   "metadata": {
    "id": "YQY_1IL9nQs2"
   },
   "source": [
    "## IMDB 데이터"
   ]
  },
  {
   "cell_type": "markdown",
   "metadata": {
    "id": "pl4Eu32qnUES"
   },
   "source": [
    "### 데이터 로드 및 전처리"
   ]
  },
  {
   "cell_type": "code",
   "execution_count": null,
   "metadata": {
    "id": "WcG-Hiltklbe"
   },
   "outputs": [],
   "source": []
  },
  {
   "cell_type": "code",
   "execution_count": null,
   "metadata": {
    "id": "GGYaNT8hnec5"
   },
   "outputs": [],
   "source": []
  },
  {
   "cell_type": "code",
   "execution_count": null,
   "metadata": {
    "id": "nQBzp3ownpEK"
   },
   "outputs": [],
   "source": []
  },
  {
   "cell_type": "markdown",
   "metadata": {
    "id": "j3E0hYiHoBO0"
   },
   "source": [
    "### 모델 구성"
   ]
  },
  {
   "cell_type": "code",
   "execution_count": null,
   "metadata": {
    "id": "PvKPr7N6nuHr"
   },
   "outputs": [],
   "source": []
  },
  {
   "cell_type": "code",
   "execution_count": null,
   "metadata": {
    "id": "wwWZ47NHolB6"
   },
   "outputs": [],
   "source": []
  },
  {
   "cell_type": "markdown",
   "metadata": {
    "id": "0qUbPGdmpHpQ"
   },
   "source": [
    "### 모델 학습"
   ]
  },
  {
   "cell_type": "code",
   "execution_count": null,
   "metadata": {
    "id": "xcCgjLHvonWB"
   },
   "outputs": [],
   "source": []
  },
  {
   "cell_type": "markdown",
   "metadata": {
    "id": "n2yEkawIph4C"
   },
   "source": [
    "### 시각화"
   ]
  },
  {
   "cell_type": "code",
   "execution_count": null,
   "metadata": {
    "id": "BfKC0UOkpPmP"
   },
   "outputs": [],
   "source": []
  },
  {
   "cell_type": "markdown",
   "metadata": {
    "id": "Oz_Iu_VHV7Z5"
   },
   "source": [
    "## Reuters 데이터"
   ]
  },
  {
   "cell_type": "markdown",
   "metadata": {
    "id": "4_Q6p0nhV7Z6"
   },
   "source": [
    "### 데이터 로드 및 전처리"
   ]
  },
  {
   "cell_type": "code",
   "execution_count": null,
   "metadata": {
    "id": "waEmkCowV7Z7"
   },
   "outputs": [],
   "source": []
  },
  {
   "cell_type": "code",
   "execution_count": null,
   "metadata": {
    "id": "dggcmeJ4V7Z_"
   },
   "outputs": [],
   "source": []
  },
  {
   "cell_type": "code",
   "execution_count": null,
   "metadata": {
    "id": "EBOJIgbgV7aB"
   },
   "outputs": [],
   "source": []
  },
  {
   "cell_type": "markdown",
   "metadata": {
    "id": "xehgNec0V7aE"
   },
   "source": [
    "### 모델 구성"
   ]
  },
  {
   "cell_type": "code",
   "execution_count": null,
   "metadata": {
    "id": "RTV2qF8_V7aE"
   },
   "outputs": [],
   "source": []
  },
  {
   "cell_type": "code",
   "execution_count": null,
   "metadata": {
    "id": "48n2W3xpV7aG"
   },
   "outputs": [],
   "source": []
  },
  {
   "cell_type": "markdown",
   "metadata": {
    "id": "WeRmu5WMV7aI"
   },
   "source": [
    "### 모델 학습"
   ]
  },
  {
   "cell_type": "code",
   "execution_count": null,
   "metadata": {
    "id": "BGVdYyIrV7aJ"
   },
   "outputs": [],
   "source": []
  },
  {
   "cell_type": "markdown",
   "metadata": {
    "id": "ao8NNj2SV7aL"
   },
   "source": [
    "### 시각화"
   ]
  },
  {
   "cell_type": "code",
   "execution_count": null,
   "metadata": {
    "id": "D_CisVtyV7aL"
   },
   "outputs": [],
   "source": []
  },
  {
   "cell_type": "code",
   "execution_count": null,
   "metadata": {
    "id": "NCsNsoiUV7aP"
   },
   "outputs": [],
   "source": []
  }
 ],
 "metadata": {
  "accelerator": "GPU",
  "colab": {
   "provenance": [],
   "toc_visible": true
  },
  "kernelspec": {
   "display_name": "Python 3 (ipykernel)",
   "language": "python",
   "name": "python3"
  },
  "language_info": {
   "codemirror_mode": {
    "name": "ipython",
    "version": 3
   },
   "file_extension": ".py",
   "mimetype": "text/x-python",
   "name": "python",
   "nbconvert_exporter": "python",
   "pygments_lexer": "ipython3",
   "version": "3.8.0"
  }
 },
 "nbformat": 4,
 "nbformat_minor": 4
}
