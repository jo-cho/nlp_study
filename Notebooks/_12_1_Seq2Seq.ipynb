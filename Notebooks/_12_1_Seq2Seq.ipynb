{
 "cells": [
  {
   "cell_type": "markdown",
   "metadata": {
    "id": "_IatqtWk_c3A"
   },
   "source": [
    "# Sequence-to-Seqeunce\n",
    "\n",
    "* https://wikidocs.net/24996"
   ]
  },
  {
   "cell_type": "markdown",
   "metadata": {
    "id": "VgLvc6qn_u1a"
   },
   "source": [
    "* Sequence-to-sequence(Seq2Seq)는 입력된 시퀀스로부터 다른 도메인의 시퀀스를 출력하는 모델\n",
    "* 예를 들어, 한국어 도메인을 가지는 문장을 입력해 중국어 도메인에 해당하는 문장을 얻을 수 있음\n",
    "* Seq2Seq는 다른 특별한 기술을 이용하는 것이 아닌 지금까지 배운 RNN 기술들을 조합해 만들며, encoder와 decoder로 구성"
   ]
  },
  {
   "cell_type": "markdown",
   "metadata": {
    "id": "c9R3B2xOHI9a"
   },
   "source": [
    "# 기계 번역 데이터"
   ]
  },
  {
   "cell_type": "markdown",
   "metadata": {
    "id": "-SapxBVjHNYB"
   },
   "source": [
    "* 일반적인 자연어 처리의 경우, 입력 시퀀스와 출력 시퀀스의 길이가 동일함\n",
    "* Seq2Seq는 입력 시퀀스와 출력 시퀀스의 길이가 다를 수 있다고 가정\n",
    "* Seq2Seq에는 인코더의 입력, 디코더의 입력, 디코더의 출력에 해당하는 데이터가 필요\n",
    "\n"
   ]
  },
  {
   "cell_type": "markdown",
   "metadata": {
    "id": "EcRSvvCxIEpo"
   },
   "source": [
    "* 데이터는 영어 문장과 그에 해당하는 프랑스어 문장이 존재하는 기계 번역 데이터를 사용\n",
    "* url 주소에서 데이터를 받아오고, 필요없는 열(lic)은 제거\n",
    "\n"
   ]
  },
  {
   "cell_type": "code",
   "execution_count": 1,
   "metadata": {
    "id": "iwmLeOAuM4Y-"
   },
   "outputs": [],
   "source": [
    "import pandas as pd\n",
    "import numpy as np\n",
    "import tensorflow as tf\n",
    "from tensorflow.keras.preprocessing.sequence import pad_sequences\n",
    "from tensorflow.keras.utils import to_categorical\n",
    "from tensorflow.keras.models import Model\n",
    "from tensorflow.keras.layers import Input, LSTM, Dense"
   ]
  },
  {
   "cell_type": "markdown",
   "metadata": {
    "id": "WDoEpzFPDzMc"
   },
   "source": [
    "* http://www.manythings.org/anki/fra-eng.zip"
   ]
  },
  {
   "cell_type": "code",
   "execution_count": 2,
   "metadata": {
    "id": "0WgfErMNM0lm"
   },
   "outputs": [],
   "source": [
    "df = pd.read_csv('fra-eng/fra.txt', names=['src', 'tar', 'lic'], sep='\\t')\n",
    "del df['lic']"
   ]
  },
  {
   "cell_type": "code",
   "execution_count": 3,
   "metadata": {
    "id": "0WgfErMNM0lm"
   },
   "outputs": [
    {
     "data": {
      "text/plain": [
       "229803"
      ]
     },
     "execution_count": 3,
     "metadata": {},
     "output_type": "execute_result"
    }
   ],
   "source": [
    "len(df)     "
   ]
  },
  {
   "cell_type": "markdown",
   "metadata": {
    "id": "ps4YN9SOOHle"
   },
   "source": [
    "*   데이터를 모두 사용할 경우 많은 시간이 소요되기 때문에, 일부 데이터만 사용\n",
    "*   목표 데이터에는 시작과 끝을 나타내는 토큰이 포함되어야 함\n",
    "*   여기서는 '\\t'와 '\\n'을 각각 시작과 끝을 나타내는 토큰으로 사용"
   ]
  },
  {
   "cell_type": "code",
   "execution_count": 4,
   "metadata": {
    "id": "a2VkcWatNMMG"
   },
   "outputs": [
    {
     "data": {
      "text/html": [
       "<div>\n",
       "<style scoped>\n",
       "    .dataframe tbody tr th:only-of-type {\n",
       "        vertical-align: middle;\n",
       "    }\n",
       "\n",
       "    .dataframe tbody tr th {\n",
       "        vertical-align: top;\n",
       "    }\n",
       "\n",
       "    .dataframe thead th {\n",
       "        text-align: right;\n",
       "    }\n",
       "</style>\n",
       "<table border=\"1\" class=\"dataframe\">\n",
       "  <thead>\n",
       "    <tr style=\"text-align: right;\">\n",
       "      <th></th>\n",
       "      <th>src</th>\n",
       "      <th>tar</th>\n",
       "    </tr>\n",
       "  </thead>\n",
       "  <tbody>\n",
       "    <tr>\n",
       "      <th>0</th>\n",
       "      <td>I think you know what has to be done.</td>\n",
       "      <td>\\t Je pense que tu sais ce qui doit être fait. \\n</td>\n",
       "    </tr>\n",
       "    <tr>\n",
       "      <th>1</th>\n",
       "      <td>I'm coming right home.</td>\n",
       "      <td>\\t J'arrive juste chez moi. \\n</td>\n",
       "    </tr>\n",
       "    <tr>\n",
       "      <th>2</th>\n",
       "      <td>That's good enough.</td>\n",
       "      <td>\\t C'est suffisamment bon. \\n</td>\n",
       "    </tr>\n",
       "  </tbody>\n",
       "</table>\n",
       "</div>"
      ],
      "text/plain": [
       "                                     src  \\\n",
       "0  I think you know what has to be done.   \n",
       "1                 I'm coming right home.   \n",
       "2                    That's good enough.   \n",
       "\n",
       "                                                 tar  \n",
       "0  \\t Je pense que tu sais ce qui doit être fait. \\n  \n",
       "1                     \\t J'arrive juste chez moi. \\n  \n",
       "2                      \\t C'est suffisamment bon. \\n  "
      ]
     },
     "execution_count": 4,
     "metadata": {},
     "output_type": "execute_result"
    }
   ],
   "source": [
    "df = df.sample(30000)\n",
    "df['tar'] = df['tar'].apply(lambda x: '\\t ' + x + ' \\n')\n",
    "df.reset_index(inplace=True, drop=True)\n",
    "\n",
    "df.head(3)"
   ]
  },
  {
   "cell_type": "markdown",
   "metadata": {
    "id": "F2DHfeeSOsAo"
   },
   "source": [
    "\n",
    "\n",
    "*   해당 예제에서는 글자 단위로 예측, 따라서 글자 집합을 구축해주어야 함\n",
    "*   구축한 다음, 정렬해 인덱스를 부여해 글자에 해당하는 사전을 만듬\n",
    "*   사전은 글자를 모델에 투입하도록 변환하거나 예측시 반환되는 인덱스들을 글자로 변환할 때 사용\n",
    "\n"
   ]
  },
  {
   "cell_type": "code",
   "execution_count": 5,
   "metadata": {
    "id": "T18GljqANlT1"
   },
   "outputs": [],
   "source": [
    "#프랑스어 단어사전\n",
    "src_vocab = set()\n",
    "for line in df.src:\n",
    "    for char in line:\n",
    "        src_vocab.add(char)\n",
    "\n",
    "#영어 단어사전\n",
    "tar_vocab = set()\n",
    "for line in df.tar:\n",
    "    for char in line:\n",
    "        tar_vocab.add(char)"
   ]
  },
  {
   "cell_type": "code",
   "execution_count": 6,
   "metadata": {
    "id": "HCIiItcXNoEh"
   },
   "outputs": [
    {
     "name": "stdout",
     "output_type": "stream",
     "text": [
      "{' ': 1, '!': 2, '\"': 3, '$': 4, '%': 5, \"'\": 6, ',': 7, '-': 8, '.': 9, '0': 10, '1': 11, '2': 12, '3': 13, '4': 14, '5': 15, '6': 16, '7': 17, '8': 18, '9': 19, ':': 20, ';': 21, '?': 22, 'A': 23, 'B': 24, 'C': 25, 'D': 26, 'E': 27, 'F': 28, 'G': 29, 'H': 30, 'I': 31, 'J': 32, 'K': 33, 'L': 34, 'M': 35, 'N': 36, 'O': 37, 'P': 38, 'Q': 39, 'R': 40, 'S': 41, 'T': 42, 'U': 43, 'V': 44, 'W': 45, 'X': 46, 'Y': 47, 'Z': 48, 'a': 49, 'b': 50, 'c': 51, 'd': 52, 'e': 53, 'f': 54, 'g': 55, 'h': 56, 'i': 57, 'j': 58, 'k': 59, 'l': 60, 'm': 61, 'n': 62, 'o': 63, 'p': 64, 'q': 65, 'r': 66, 's': 67, 't': 68, 'u': 69, 'v': 70, 'w': 71, 'x': 72, 'y': 73, 'z': 74, '\\xa0': 75, '\\xad': 76, 'é': 77, 'ï': 78, '’': 79}\n",
      "{'\\t': 1, '\\n': 2, ' ': 3, '!': 4, '\"': 5, '$': 6, '%': 7, \"'\": 8, ',': 9, '-': 10, '.': 11, '0': 12, '1': 13, '2': 14, '3': 15, '4': 16, '5': 17, '6': 18, '7': 19, '8': 20, '9': 21, ':': 22, ';': 23, '?': 24, 'A': 25, 'B': 26, 'C': 27, 'D': 28, 'E': 29, 'F': 30, 'G': 31, 'H': 32, 'I': 33, 'J': 34, 'K': 35, 'L': 36, 'M': 37, 'N': 38, 'O': 39, 'P': 40, 'Q': 41, 'R': 42, 'S': 43, 'T': 44, 'U': 45, 'V': 46, 'W': 47, 'X': 48, 'Y': 49, 'Z': 50, 'a': 51, 'b': 52, 'c': 53, 'd': 54, 'e': 55, 'f': 56, 'g': 57, 'h': 58, 'i': 59, 'j': 60, 'k': 61, 'l': 62, 'm': 63, 'n': 64, 'o': 65, 'p': 66, 'q': 67, 'r': 68, 's': 69, 't': 70, 'u': 71, 'v': 72, 'w': 73, 'x': 74, 'y': 75, 'z': 76, '\\xa0': 77, '«': 78, '»': 79, 'À': 80, 'Ç': 81, 'É': 82, 'Ê': 83, 'Ô': 84, 'à': 85, 'â': 86, 'ç': 87, 'è': 88, 'é': 89, 'ê': 90, 'ë': 91, 'î': 92, 'ï': 93, 'ô': 94, 'ù': 95, 'û': 96, 'œ': 97, '\\u2009': 98, '’': 99, '\\u202f': 100}\n"
     ]
    }
   ],
   "source": [
    "src_vocab = sorted(list(src_vocab))\n",
    "tar_vocab = sorted(list(tar_vocab))\n",
    "\n",
    "src_vocab_size = len(src_vocab) + 1\n",
    "tar_vocab_size = len(tar_vocab) + 1\n",
    "\n",
    "src_to_idx = dict([(word, i+1) for i, word in enumerate(src_vocab)])\n",
    "tar_to_idx = dict([(word, i+1) for i, word in enumerate(tar_vocab)])\n",
    "\n",
    "\n",
    "print(src_to_idx)\n",
    "print(tar_to_idx)"
   ]
  },
  {
   "cell_type": "markdown",
   "metadata": {
    "id": "Flh0swsdPOhc"
   },
   "source": [
    "*   인코더에 입력될 입력 데이터를 구성\n",
    "*   문장의 글자 하나씩을 사전을 이용해 인덱스로 변환해 리스트에 넣음\n",
    "\n"
   ]
  },
  {
   "cell_type": "code",
   "execution_count": 7,
   "metadata": {
    "id": "rgtp58H-NpBm"
   },
   "outputs": [
    {
     "data": {
      "text/plain": [
       "[31,\n",
       " 1,\n",
       " 68,\n",
       " 56,\n",
       " 57,\n",
       " 62,\n",
       " 59,\n",
       " 1,\n",
       " 73,\n",
       " 63,\n",
       " 69,\n",
       " 1,\n",
       " 59,\n",
       " 62,\n",
       " 63,\n",
       " 71,\n",
       " 1,\n",
       " 71,\n",
       " 56,\n",
       " 49,\n",
       " 68,\n",
       " 1,\n",
       " 56,\n",
       " 49,\n",
       " 67,\n",
       " 1,\n",
       " 68,\n",
       " 63,\n",
       " 1,\n",
       " 50,\n",
       " 53,\n",
       " 1,\n",
       " 52,\n",
       " 63,\n",
       " 62,\n",
       " 53,\n",
       " 9]"
      ]
     },
     "execution_count": 7,
     "metadata": {},
     "output_type": "execute_result"
    }
   ],
   "source": [
    "#인코더 입력데이터\n",
    "encoder_input = []\n",
    "for line in df.src:\n",
    "    encoder_input.append([src_to_idx[w] for w in line])\n",
    "\n",
    "encoder_input[0]     "
   ]
  },
  {
   "cell_type": "markdown",
   "metadata": {
    "id": "agsrqdb7PQP5"
   },
   "source": [
    "\n",
    "\n",
    "*   디코더에 입력될 입력 데이터를 구성\n",
    "*   인코더 입력 데이터 처리와 동일하나, 목표 데이터에 해당하는 사전을 사용해주어야 함\n",
    "\n"
   ]
  },
  {
   "cell_type": "code",
   "execution_count": 8,
   "metadata": {
    "id": "Ge1w7o54NqVA"
   },
   "outputs": [
    {
     "data": {
      "text/plain": [
       "[1,\n",
       " 3,\n",
       " 34,\n",
       " 55,\n",
       " 3,\n",
       " 66,\n",
       " 55,\n",
       " 64,\n",
       " 69,\n",
       " 55,\n",
       " 3,\n",
       " 67,\n",
       " 71,\n",
       " 55,\n",
       " 3,\n",
       " 70,\n",
       " 71,\n",
       " 3,\n",
       " 69,\n",
       " 51,\n",
       " 59,\n",
       " 69,\n",
       " 3,\n",
       " 53,\n",
       " 55,\n",
       " 3,\n",
       " 67,\n",
       " 71,\n",
       " 59,\n",
       " 3,\n",
       " 54,\n",
       " 65,\n",
       " 59,\n",
       " 70,\n",
       " 3,\n",
       " 90,\n",
       " 70,\n",
       " 68,\n",
       " 55,\n",
       " 3,\n",
       " 56,\n",
       " 51,\n",
       " 59,\n",
       " 70,\n",
       " 11,\n",
       " 3,\n",
       " 2]"
      ]
     },
     "execution_count": 8,
     "metadata": {},
     "output_type": "execute_result"
    }
   ],
   "source": [
    "#디코더 입력데이터\n",
    "decoder_input = []\n",
    "for line in df.tar:\n",
    "    decoder_input.append([tar_to_idx[w] for w in line])  \n",
    "\n",
    "decoder_input[0]"
   ]
  },
  {
   "cell_type": "markdown",
   "metadata": {
    "id": "XOCf-xuEPSm1"
   },
   "source": [
    "\n",
    "*   디코더의 출력과 비교할 목표 데이터를 구성\n",
    "*   디코더의 입력 데이터를 구성할 때와 동일하나, 시작 토큰을 제외해주어야 함\n",
    "\n"
   ]
  },
  {
   "cell_type": "code",
   "execution_count": 9,
   "metadata": {
    "id": "KogHdxHsNrl2"
   },
   "outputs": [
    {
     "data": {
      "text/plain": [
       "[3,\n",
       " 34,\n",
       " 55,\n",
       " 3,\n",
       " 66,\n",
       " 55,\n",
       " 64,\n",
       " 69,\n",
       " 55,\n",
       " 3,\n",
       " 67,\n",
       " 71,\n",
       " 55,\n",
       " 3,\n",
       " 70,\n",
       " 71,\n",
       " 3,\n",
       " 69,\n",
       " 51,\n",
       " 59,\n",
       " 69,\n",
       " 3,\n",
       " 53,\n",
       " 55,\n",
       " 3,\n",
       " 67,\n",
       " 71,\n",
       " 59,\n",
       " 3,\n",
       " 54,\n",
       " 65,\n",
       " 59,\n",
       " 70,\n",
       " 3,\n",
       " 90,\n",
       " 70,\n",
       " 68,\n",
       " 55,\n",
       " 3,\n",
       " 56,\n",
       " 51,\n",
       " 59,\n",
       " 70,\n",
       " 11,\n",
       " 3,\n",
       " 2]"
      ]
     },
     "execution_count": 9,
     "metadata": {},
     "output_type": "execute_result"
    }
   ],
   "source": [
    "#디코더 출력과 비교할 타켓데이터\n",
    "decoder_target = []\n",
    "for line in df.tar:\n",
    "    decoder_target.append([tar_to_idx[w] for w in line if w != '\\t'])  #시작토큰 제외\n",
    "    \n",
    "decoder_target[0]"
   ]
  },
  {
   "cell_type": "markdown",
   "metadata": {
    "id": "5a5A0lzdPWad"
   },
   "source": [
    "\n",
    "\n",
    "* 각각의 데이터를 동일한 길이로 맞춰줌\n",
    "* 길이를 맞춰줄 때는 해당 데이터의 최대 길이로 맞춰줌\n",
    "* 원 핫 인코딩을 통해 원 핫 벡터로 변환\n",
    "\n"
   ]
  },
  {
   "cell_type": "code",
   "execution_count": 10,
   "metadata": {
    "id": "8BAyplv9Nuan"
   },
   "outputs": [
    {
     "name": "stdout",
     "output_type": "stream",
     "text": [
      "239 309\n"
     ]
    }
   ],
   "source": [
    "max_src_len = max([len(line) for line in df.src])\n",
    "max_tar_len = max([len(line) for line in df.tar])\n",
    "\n",
    "print(max_src_len, max_tar_len)"
   ]
  },
  {
   "cell_type": "code",
   "execution_count": 11,
   "metadata": {
    "id": "8BAyplv9Nuan"
   },
   "outputs": [],
   "source": [
    "encoder_input = pad_sequences(encoder_input, maxlen=max_src_len, padding='post')\n",
    "decoder_input = pad_sequences(decoder_input, maxlen=max_tar_len, padding='post')\n",
    "decoder_target = pad_sequences(decoder_target, maxlen=max_tar_len, padding='post')"
   ]
  },
  {
   "cell_type": "code",
   "execution_count": 12,
   "metadata": {
    "id": "urrwjhZhNvse"
   },
   "outputs": [],
   "source": [
    "# 원핫 인코딩\n",
    "encoder_input = to_categorical(encoder_input)\n",
    "decoder_input = to_categorical(decoder_input)\n",
    "decoder_target = to_categorical(decoder_target)"
   ]
  },
  {
   "cell_type": "markdown",
   "metadata": {
    "id": "Xc68H8R9EXrK"
   },
   "source": [
    "## 인코더(Encoder)"
   ]
  },
  {
   "cell_type": "markdown",
   "metadata": {
    "id": "L6Jtuq5QGHdm"
   },
   "source": [
    "![encoder.png](data:image/png;base64,iVBORw0KGgoAAAANSUhEUgAAAUcAAADoCAYAAAB8dCbkAAAAAXNSR0IArs4c6QAAAARnQU1BAACxjwv8YQUAAAAJcEhZcwAADsMAAA7DAcdvqGQAAAAhdEVYdENyZWF0aW9uIFRpbWUAMjAyMDowOToyMiAyMjo1MTozNtm7QSYAABnBSURBVHhe7d0LmFxlfcfxd/a+ySbcDESEhJvcNJBgFaVBgrRcRCRRnhq0KgUtDVWLz4NgfSCUwONj0HopFqotlLZo0NomUpVLpUKCKFDZKGIEQlwSpNwScs9esjud37vvu3t29p2Zc87O7uzMfD/PM8+c885lZ37zzv+85z1ndzPZHAMAGKHBXQMAIiiOABBAcQSAAIojAARQHAEggOIIAAEURwAIoDgCQADFEQACKI4AEEBxBIAAiiMABFAcASCA4ggAARRHAAigOAJAAMURAAIojgAQQHEEgACKIwAEUBwBIIDiCAABFEcACKA4AkAAxREAAiiOABBAcQSAAIojAARQHAEggOIIAAEURwAIoDgCQADFEQACKI4AEEBxBIAAiiMABFAcASCA4ggAARRHAAigOAJAAMURAAIym6+Zl3XLAACHkSMABAyNHPdf9rhtAIB6t2XpSYwcASCE4ggAARRHAAigOAJAAMURAAIojgAQQHEEgIAJK47bv/Gn9tyhibLr+9fbn9fz+CrXAgDxle0kcBWhXauWubVc1Z02w+z7mXvd2mBx3Pv734z6OTu+dbnpe2q1WwtrfcsiM/X8a9zaYOHr+cVKtzbS9EtuM02z5w7dZ+rCpab1pIXu1snP51FtrxuoJWU7CdwXxuZj3mmLny+AcUaK0z701aHH5F9UIIrR7fmPUWEsZesXzxp6bX45elFbtfIjdEbMwNiUpTj2rnvAXqvQeRrtyZ7/+Qd7PVloZDaw4xVbSKM04vQFNjrirTbTL73DNL3h+BGjeADJ1dUBmb3PrbW7rL5w16opZ19hrzW1ACCdshTHluMW2GuNyjw/J9j+rr+w1yHa9cvfpY1eko5+oo8NzUn2rP0ve9069zx7XYo/qKP3FX3u/NGw35UN3Z6/257/WP8z/CW781V3y7D8+0SfI9qma91XUwsaPfY9/ZC7F4CkylIcdeBA838alfkvq+TvuubT4/yubOji5xx1cCeO6GNDo8P+F5+yzxWal9x+68VDrz1/xNX/wrqh55U9D3zTXouKnw40+fnP6DypnsvvwvvXpMf651dBUxH3c7XatddzRakw6z7tC/7c3kf31XPkzynmbwwaZx5jf7ZGywCSK9tudX6hSzNv50dI/os/sPVFe10uA9tfMQ3Tw4U2OucYPTIuzUfPd0vGjshERUevUwVIBcsfWda1Rsu+AEaLtH9eP6Lre2bwun3+RfZaRVvPFaUNjgq6H4E3vf5Ye+3neT39nOhr9xuU/s1d9hpAMpN6zlGFRxr2nWmvJxMVHV+8GzoOsNchoVGvf18q1lLoCLsf9en+flQbHbVGFZu+AJBcWYujH/mVa1dOoyCNhvyoLJ/mJH3R8BfN/xWiUaMvSOU0sHOzWxrNF8Ko/IIZzSs056j7+1Gtv0TPDAgJ/VwA8U3YyFGnmOhL7akg5Bc2P28WKnq6+CLii2boop9TSLnn4TRaU+HSrq+fCtC15hL97m10LjB/V9vvrvsDRXpsdM7RH1jRa44ehCm2AfA0vyqFNiwAiqvYbrW++KHiVuxSaPczLn+U2hejqOgBGV3i0tyqCqQv6NEj7HrN4p/TH1jxu8AqoJpjVLt/bP6coz9vUbvT/nla33qBu7UwFdn85wIQX1n/h4xGRvlHTfPpaO5EjGb8a8n/eb7d/5phLaqH9wiMJw1C6vIfbPnf856oQj2RfGGMjlABJFO3xREAilFxnNSn8gBApVAcASCA4ggAARRHAAigOAJAAMURAAI4lWcSyPbuNn3rHjA9v/qR6X/5dya7Z5ttq1aZplaTad/HNB10pGk58VzTfNwCk2mZ4m4tL7Ibm+zuraZ33U9y+f3QDLz6/GB+e3vcrdUl09RiGtqmmcyM2ab1hHNNy3Gnm8yUfd2tyZTtPEc6aDrZvb1mz4P/ZLofvsNkMplcZnvcLbUj09Jmsv39pu3ti037aR8zmVznLQeyGxv9sZTuB75hujt/YDINDSbbU73f1xD7fc1mTeu8c03bgkuL/uWskDEXRzpoev0vrzfbb7vUmL49JtvX7VprlzY4JneZ9uGbTNOhc1xrOmQ3Nn3PPmJ2fvvTudoxYEzuO1zTGltsber4wI2m+ZhTXWNpYzoJXB1065fOMT25wmhyHbQWC6Nke3Nfvv4+0/PId83WL59n9m56wt2S3t6ux832b340t0vzWl18uUW7atnu7WbH7Zea3ifuc63JkV367KT3l3ebnd+6fDC7Wi+M0t9r89v575813T+/0zXGk6o40kHTd1BtVHbc8cma3ZiUov6y6/vLUm1kyC59dqIRox5frXOKY6E+s+fHX7fzq3ElLo500PQdVNMQ2h2s1+w8zUfvuONTuY3NDtdSGtkNSpOdaI7R7krXYWH0lN3O711t+rdsci3FJSqOdNBBaTuo5mc1T4ac/h6z+yfhf/kQQnYRCbMTHXyxc4x1LjOw1+y5/2a3Vlyi4kgHjUjYQVVQdeCqXqYhStFcbs9j37OnkpRCdiMlyU50Px2Vros5xhKy/X2m76k1ZmD7S66lsNjFkQ46UtIOqlOddNQMwxoam2LNAZHdaHGzE91Pp+tgUDabNb1P3u/WCoudGB10tCQdVOeA1vt0RL6Bnl2mp/Mut1YY2Y0WNzvRCd61dh7jmOT2fnt/mRtJlxC7ONJBR0vSQXVyPEbrf3WjWyqM7MLiZCf6zReM1L+1jLvVdNCwuB1UvzWEgNwGphSyKyBGdkJ+o+m0vFLizzkScFjcDtrLbk1Itr/0QQKyC4uTndTz6TsFDfS7hcLiF0c6aFDcDgqgusQujgBQTyiOABBAcQSAAIojAARQHAEggOIIAAEURwAIoDgCQADFEQACKI4AEEBxBIAAiiMABFAcASCA4ggAARRHAAigOAJAAMURAAIym6+Zl9XC/ssetw2FbFl6kltCvlLZSbnz2++zg//18LUvnG6vo/Jfz/ZbLzFTF15rGg+Y5VqG9W/eaLZ9beHQY/ZuesJs/8eP2mXP39b72wfNzm9/2i6X00T3vekf/xfTdOgcm8ve5zpd66B9/mrViJy6H/mOadhnpmk59jTXMpJem39Mdve2UZ+Hv83nXG4T3fc6PvgVm8XuH33RdP98hWsd5HP11F8Gtr1o2k7+gGsZSflPOfPyocfkv07/fKFcy6FYdnotFRs56o3rxTXNnudahqlD6TZ/mXLuVfZDibZFL9HH+KIR5W/Tda3T+9cXUR+uLip2oi+m1vVlF11rPfqFVSeMdm5R9vVCfVKFzGfns9IGQev6Mosy9ffxlF1myj6m7e0XuhZj+3Zog1SL9P30GxzlouIpu3+4fERWI/qm2zApO8nva/l9caJNut1qOmh6eq96//2vDP+nSI0C80dHhajjSrSTNh/1jqH2WudHeJ6+2LrEMbBnm+1/LXPOdi3GtP3hR2yb//LXssYZh9v36ftad25UmWQvQ7mrr3m+D1ay70264kgHTc93TO32RDcQSUQ7qd+w9K3/mV2vdeo/er8aBSXV0L6P6du4dsRop3nWXNtWD/T90oZZg5uk9Dj1MWXv9yTVB/1eT6VMuuJYCx100aJFZu3aynwp/O7MlHd/xk4l+M4WV7ST+g1L76/vc7eOv0pm56cYtHFRdkmnFLp/+q/2Wo/Txklfet82kSqRofZQ1Ff03VN2Sb+/fgCkPuc3yr1P3GPbKmXSFcda6KCrVq0y8+bNq0gn1e6Mpho0GS7TL7k1UYH0hVCdtBIblkpmJ8rOb2B0ICFJ/9PIXQVCox7tvWgUHndKo5wqlaEOmvhpL31/kxZIu9eS63N+o6y+XEmTrjhKtXXQTCYz4uJFO+lE03yPz7DlzWfa6ziUle+k2rDs3fCou2X8TLbs/AZGmg4+3l7HpY2JRj26ROd+x0s0u0IZTiT1H2Wn76DmIZPQXov6nPqe+mClTcriKNXUQUvp6upyS+NLI8TonE9D7v3LQMKO5jvpZNh6T1R2Ej2bwY+2B3Ztsddx+b2USu1SV0r+mSC+/yThd6312ErvUsukK47V2EGz2eyIizd37lyzcuVK09k5PiNXvT9NPfhL48yjh+Z8dNGoW0f7kxY430knape6EtmJphx8Vto70Zy1X9dtOiCQ9LxOP/KeiD0WiWZXKMPx4Oe0dfG7z35dF73//PNl41Dmk2GjLBU7CVwjnPzzmPRFbs3tCutL7ymsaMh2dOQ6brRdRVWd258s6ousn8PU+X862BM9r69c8rPTrsy1115rFi4c/lnlzq+WRPMju2RC39v8DMkvrFjNU2b8hkwZlMpOyK8w+l569L30ShXHSTvnCACVRHEEgACKIwAEUBwBIIDiCAABFEcACKA4AkAAxREAAiiOABBAcQSAAIojAARQHAEggOIIAAEURwAIoDgCQADFEQACKI4AEEBxBICA2MUx09TqlhCVaWpxS8WRX1ic/MguLH7fi3e/utLQ6BYKi18c24f/6RUiWqa6heLIr4AY+ZFdATH7XkPbNLcEL9M23S0VFrs4Nh10pFtCVOP+B7ul4sgvLE5+ZBcWt+9lZsx2S/Aa9z3QLRUWuzi2nHiuybS0uzVIpnWKaZlzjlsrjvxGi5sf2Y2WpO+1nqD8prg1ZFracn3qPLdWWOzi2HzcApMdGHBrkOzePtPypjPcWnHkN1rc/MhutCR9r+W40/Xf/90astlMrOzizznmtjxtJ/8Jk+NOprnVtM59j2mYfpBrKY78RkqSH9mNlLjvTdnXtM47N7cvyYEZHYhpOXp+rOxiF0dpP+1jxtBBBzU0m/YzLnMr8ZBfRML8yC4iRd9rW3CpLQx1r6HJtP/xJ9xKcYmKY6Ztmpn24ZtyW64211KfNP/V8cEvm4aOA1xLPOQ3KE1+ZDcobd/T/TsuuME+vl5pD6Tj/GtM4/6HupbiEhVHaTp0jpm68G/qtpOqc009/1rTfPgfuJZkyC99fmQ3tr6nucf2d11mi0S90Xtuf9cS03Liu11LaYmLo7TMOdNM+8jN9vwzHfmpB5rnybR2mI4Pfc2+/7Egv/T5kd3Y+l7bKR8yU99/vTHN7SbT2Oxaa5imEppazdTzPmffexKZzdfMs4ex9l/2uG1IItu9w+y+/2bT84tVxjQ2GdOzy91SO3TKhI4MagJc8zxJd2eKIb/0yG5s+rdsMnty+fU9tcZkdSS7b4+7pTZow2mPSh89384xxt2V9rYsPWlsxdEb2Lk5F/Jq09N5l+l/daPtqNn+Xndr9bG/btUy1Z5kq3PJdNg/7pHBNMgvPbIbm4HtL5neJ+83vb/8genf+lJuo7M919jvbq0yuVGifvNFJ3jrPMaxZFe24lgpa9euNV1dXWbhwoWuBXGRXXpkl0415Vb1xXHRokU27M7OTteCuMguPbJLp5pyU3FMdUBmMtBWaNWqVUPXiI/s0iO7dKoxt6otjtddd51bGrmM0sguPbJLpxpzq8rimL/1YSseH9mlR3bpVGtuQ3OO1eTD391gfvTUNrc2aM7MdvPAx491ayiE7NIju3SqNbeqLI7eAdcPTuzm3oO9Rnxklx7ZpVNtuWWy9gzQ6pTJZOx1Fb+FiiG79MgunWrLrWoPyADAeKI4AkAAxREAAiiOABBAcQSAgMRHq9f+fqf56x/8zjy2abvZvGuva60f+01pMm89dLq57pzZ5u2zS//v23zklz4/siO7tNJkl6g43vzTF8yVd20wu3qr9E8aldG01kZz+WmHmGXnHOZaSiO/YUnzI7thZJdekuxi71Zry0PAw3b09JuvPPi8eWD9VtdSHPmNlCQ/shuJ7NJLkl3s4qghOQGPtDMX9LL7nnNrxZHfaHHzI7vRyC69uNnFLo6aq8Bo2jLHQX5hcfIjuzCySy9OdrGLYz1O4sbx2u54uZBfWJz8yC6M7NKLkx2n8gBAAMURAAIojgAQMGmK49Ofe5v51Dvf4NaSyX7lNLc0km+/6X1Hme9f8ma7XKsKZVCKMlf2+aLtP7t8XurPphqQXXq1nF1djBw/+Z/rzfm3/tqtIal3fLXT/N3q37s1JEF26VU6O3arASAg9q8PZj79oFsqTruwF5/8ert82yP/Z0dt2qU96ZAOs/+UZrOnr9+sePxlc+FJB5r25kbztw9sMkvv7rJD6c27+8wJr++wj/XtH5g3w/z9+99oDpjabO5/+jXzR7f8yszer83895ITzBtntJtnXtljr/X6CrX7XWqNHrUb8PPnttvfr9R9jv78o/a2H+ced8bR+5nNu/rsuk4SjbvVirNrETe/6Ov4y/94xnyn85Wh3Qz/vh7Jvf73nTDDZrnotifNmg3b7GtQPv6xvj30eUQz1fOJcijUrp//9YcGs/jM6Yfa60P2bTV3/XqzzbRQ7nGVyo/sCiO78cuurCNHvdiFc15njv/CY/Zy1rH72zbZsnuvmXrVGnP3ui22MCrEi+/8rVk870B7u7y8o8/eR+1/9raZtu36cw63H5Z/0/qdyFsXH23WvbTbtvnwpFB7PhVn3WdP34Cd09BzzuhoMYcte8S+rkrR65ja2mhfm16H3runjulf8wkHd9h8leUVrtPIXU9utvfR+7vxvUcU/Dy+9N4jbfHXfZWXV6g9qr25wXzw39bZrP7w8MFf4I+b+3giu/TILqysxfH8OQfYyt619GR7USVXm3Rt6bbXj23aYQulti7aOkXd/8xr9lrt+jBEz3HnR463VV5bpxNzH9CsXNB+DjE6uivUns/f5l+TnvPW3Nbtude67evS66sEvQ6NaPVeV39yrn3vnnITvWZd9Fp9m+ffl7bSB+RG6YU+D2Xr7+szl0LtUf6z08/3OcXNfTyRXXpkF1bW4tj5/E7zqxd22equaq5Lkhd9xhv3s9cazWlLIRouv/OmtUPPpzC0+61hu0SPZhVqL2VjLnCNZuXUI/bJ7f432eWJptehXQb/XnVJwr9nTSPouQp9HspWuzLiM5dC7aWkzb2cyC49sgsra3FUZV/97Fbzm8++1W6FdEniuIOm2McsPXO2ueKuZ23bNXf/zqy8+E1Dz6cQ9FdGVMy0/t43DY5MpVB7KX6Lp8fduvgYuyXTBzzR9DqmtjQMvVc/5xPXJ+a/wT5OOV5y59MFP49/fvRFc9viY82u5aeaA6c12zYp1F5Kfu6ae5poZJce2YWV/YBMtdPIUcX4dVc/7FpK8x9+MfWSn+avzn/z68yJX/xf11JaqfzIrjCyGzQe2ZV15FitNBpVULqoMOqPgyI+7U75/HSA7fM/jvdn3EB2YzHe2TFyLAN9OKWQX2Gl8iO7wsguvVLZMXIEgACKIwAEUBwBICB2cdS/NsRoHS2Nbqk48guLkx/ZhZFdenGyi10c9T9fMdpbZk1zS8WRX1ic/MgujOzSi5Nd7OKof4at//mKYdPbmswVCw5xa8WR32hx8yO70cguvbjZxS6O+t1L/TPsDoK2FPDHTp5p3hPzN3HIb6Qk+ZHdSGSXXpLsYp/n6OmfYesvaDy+aafZ1l2ZP9BQSZqr0JBcW564hTGK/NLnR3Zkl1aa7BIXRwCoB5zKAwABFEcACKA4AkAAxREAAqq6OK5du9asWrXKrSEJskuP7NKpttyq+mj1okWLTFdXl+ns7HQtiIvs0iO7dKouNxXHapQLWEXdXlauXOlaEQfZpUd26VRjblVbHBcuXDgU9ty5c10r4iC79MgunWrMrSqLY3Qr5C9sxeMhu/TILp1qza0qi2N0K+QvbMXjIbv0yC6das2tqg/IZDIZe13Fb6FiyC49skun2nLjPEcACKA4AkAAxREAAiiOABBAcQSAAIojAARQHAEggOIIAAEURwAIoDgCQADFEQACKI4AEEBxBIAAiiMABFT1nywDgPHCyBEAAiiOABBAcQSAAIojAARQHAEggOIIYMLceOON5qijjnJrk1vVFseHHnrI/jezDRs2uBYAKB9GjgAQQHEEUJB2g88++2y3Nnn5PclyojgCQADFsUZddtlldkvqL3feeae7xdh5Wj9fG72Ptr4SbdPIAYOKZVrN/KjLX/w8vpavuuoqc++999plfyBFOeSPJn1f8n3I02P88xYageb/fD1/lJ5DWUfzjx7U0fOeeuqpdtnfXpZjEfrd6mq0Zs0a/U549tlnn3Ut8FasWGEvnpajWela69GPf/ny5Xb9yCOPHLofGQ8rlWm18n1Bn7W3ZMkStzTYL8466yy3Nki357eFnkfr0efy/Ul9zAv1Md0efZzWdYnmX+i5y4niWCeUle+4oY4satOXISq/U2JYKMNqU6qopC2Oely0CHr57aH+pefIv09+v8x/nlLvIw12q2tU/q6KPP/88/baO/jgg93SsFmzZrmlYRs3bnRL9S1OptVm/vz5Jlfo7PvJ350di66uLnPmmWe6tcJyRdVceOGFI3LVLrLao/L7ZaiflhvFsQZpDuaiiy7SZnTogrGp5Uzvuece+35uueUWW5wmep45N+obkau/VBrFscZoIloT6Pfdd59rGWxDevWSqQqSCpUOwhRz2GGHuaVhL7zwglsapPuEMtKIMiq3a2wefvhhtza5UBxrzBFHHGGvH330UXst5dxdqke1nKmmCqJH3TVNoILlafd1/fr1bm3QKaecYjcW0SPTGlVHXXDBBfY+0VGofo5Gp1E33HCDLcbR59Jy0tGrnyIq50aL4liDtPWPzuNcffXV7hakVauZas7x9ttvH3pfeo/RYrh48WJ7rdv86TN6zPLly+3coH+cniNKGxTNG6rw+fusXr3aPi5Kz79ixYoRz6WCeeWVV7p7xKOft2TJElvY9RzlKJL8mwQAGMWY/wfDaMVnmP6A7wAAAABJRU5ErkJggg==)"
   ]
  },
  {
   "cell_type": "markdown",
   "metadata": {
    "id": "fQYNntGgExi5"
   },
   "source": [
    "\n",
    "\n",
    "* encoder는 입력 문장을 받는 여러 개의 RNN cell\n",
    "* 입력은 단어 토큰화로 단어 단위로 쪼개지고, 이는 각 시점의 encoder 입력이 됨\n",
    "* encoder는 모든 단어를 입력받고 마지막 시점의 은닉 상태를 decoder RNN cell의 첫번째 은닉 상태로 넘겨주며,\n",
    "이를 컨텍스트 벡터(context vector)라고 함\n",
    "* encoder는 입력 시퀀스를 컨텍스트 벡터라는 고정 길이 벡터로 압축하고자 함\n",
    "\n"
   ]
  },
  {
   "cell_type": "markdown",
   "metadata": {
    "id": "2nWXvDTvBcxh"
   },
   "source": [
    "## 인코더 모델 구성"
   ]
  },
  {
   "cell_type": "markdown",
   "metadata": {
    "id": "XmoZbTM68l3n"
   },
   "source": [
    "\n",
    "\n",
    "*   encoder의 구성은 일반 lstm 모델과 동일\n",
    "*   lstm 안의 return_state는 은닉 상태를 반환해줘 seq2seq 모델을 구성할 때 필요함\n",
    "\n"
   ]
  },
  {
   "cell_type": "code",
   "execution_count": 13,
   "metadata": {
    "id": "puPexCSJEZb_"
   },
   "outputs": [],
   "source": [
    "encoder_inputs = Input(shape=(None, src_vocab_size))\n",
    "encoder_lstm = LSTM(256, return_state=True)\n",
    "\n",
    "encoder_outputs, state_h, state_c = encoder_lstm(encoder_inputs)\n",
    "encoder_states = [state_h, state_c]"
   ]
  },
  {
   "cell_type": "code",
   "execution_count": 14,
   "metadata": {},
   "outputs": [
    {
     "data": {
      "text/plain": [
       "<KerasTensor: shape=(None, None, 80) dtype=float32 (created by layer 'input_1')>"
      ]
     },
     "execution_count": 14,
     "metadata": {},
     "output_type": "execute_result"
    }
   ],
   "source": [
    "encoder_inputs"
   ]
  },
  {
   "cell_type": "code",
   "execution_count": 15,
   "metadata": {},
   "outputs": [
    {
     "data": {
      "text/plain": [
       "<KerasTensor: shape=(None, 256) dtype=float32 (created by layer 'lstm')>"
      ]
     },
     "execution_count": 15,
     "metadata": {},
     "output_type": "execute_result"
    }
   ],
   "source": [
    "encoder_outputs"
   ]
  },
  {
   "cell_type": "code",
   "execution_count": 16,
   "metadata": {},
   "outputs": [
    {
     "data": {
      "text/plain": [
       "[<KerasTensor: shape=(None, 256) dtype=float32 (created by layer 'lstm')>,\n",
       " <KerasTensor: shape=(None, 256) dtype=float32 (created by layer 'lstm')>]"
      ]
     },
     "execution_count": 16,
     "metadata": {},
     "output_type": "execute_result"
    }
   ],
   "source": [
    "encoder_states"
   ]
  },
  {
   "cell_type": "markdown",
   "metadata": {
    "id": "rjbam2VaEa4q"
   },
   "source": [
    "## 디코더(Decoder)"
   ]
  },
  {
   "cell_type": "markdown",
   "metadata": {
    "id": "i5xvLcDgF_u3"
   },
   "source": [
    "![decoder.png](data:image/png;base64,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)"
   ]
  },
  {
   "cell_type": "markdown",
   "metadata": {
    "id": "5qqw7uAtF09D"
   },
   "source": [
    "* decoder는 encoder와 마찬가지로 여러 개의 RNN cell로 이루어짐\n",
    "* decoder의 처음 입력은 시작을 나타내는 토큰을 입력하며, 이 토큰 다음에 등장할 단어를 예측\n",
    "* 처음 셀에서 단어를 예측한 결과는 다시 다음 시점의 decoder 입력으로 사용\n",
    "* 위 과정을 반복해, 끝을 나타내는 토큰이 예측될 때까지 반복\n",
    "* 요약하자면 decoder는 encoder에서 넘겨받은 컨텍스트 벡터를 활용해 시퀀스를 만들어 냄\n",
    "\n"
   ]
  },
  {
   "cell_type": "markdown",
   "metadata": {
    "id": "8unfQ0tBBPWZ"
   },
   "source": [
    "### 교사 강요(Teacher Forcing)\n"
   ]
  },
  {
   "cell_type": "markdown",
   "metadata": {
    "id": "jTuXNNhmBXml"
   },
   "source": [
    "* 앞서 설명한 seq2seq 모델을 잘 살펴보면 디코더의 입력이 필요하지 않음을 알 수 있음\n",
    "* 예측이 잘못됐을 경우, 잘못된 예측이 다음 시점으로 입력돼 연쇄적으로 잘못된 예측을 함\n",
    "* 이를 해결하기 위해 **디코더의 다음 시점의 입력으로 이전 시점의 출력이 아닌, 정답을 주어 이를 방지함**\n",
    "\n",
    "\n",
    "\n"
   ]
  },
  {
   "cell_type": "markdown",
   "metadata": {
    "id": "iEjNhInwBYJQ"
   },
   "source": [
    "## 디코더 모델 구성"
   ]
  },
  {
   "cell_type": "markdown",
   "metadata": {
    "id": "FH1CNOj99iG5"
   },
   "source": [
    "\n",
    "\n",
    "*   모델의 구성은 encoder과 거의 유사함\n",
    "*   lstm의 return_sequences는 출력을 시퀀스로 반환할 때 사용\n",
    "*   decoder_lstm을 사용할 때는 initial_state를 인코더의 은닉 상태로 설정\n",
    "*   마지막으로 Dense layer와 softmax를 통과해 예측 글자에 해당하는 인덱스를 반환\n",
    "\n"
   ]
  },
  {
   "cell_type": "code",
   "execution_count": 17,
   "metadata": {
    "id": "Xuv70KtuEbu6"
   },
   "outputs": [],
   "source": [
    "decoder_inputs = Input(shape=(None, tar_vocab_size))\n",
    "decoder_lstm = LSTM(256, return_sequences=True, return_state=True)\n",
    "decoder_outputs, _, _ = decoder_lstm(decoder_inputs, initial_state=encoder_states)"
   ]
  },
  {
   "cell_type": "code",
   "execution_count": 18,
   "metadata": {},
   "outputs": [
    {
     "data": {
      "text/plain": [
       "<KerasTensor: shape=(None, None, 256) dtype=float32 (created by layer 'lstm_1')>"
      ]
     },
     "execution_count": 18,
     "metadata": {},
     "output_type": "execute_result"
    }
   ],
   "source": [
    "decoder_outputs"
   ]
  },
  {
   "cell_type": "code",
   "execution_count": 19,
   "metadata": {
    "id": "Xuv70KtuEbu6"
   },
   "outputs": [],
   "source": [
    "decoder_softmax_layer = Dense(tar_vocab_size, activation='softmax')\n",
    "decoder_outputs = decoder_softmax_layer(decoder_outputs)"
   ]
  },
  {
   "cell_type": "code",
   "execution_count": 20,
   "metadata": {},
   "outputs": [
    {
     "data": {
      "text/plain": [
       "<keras.src.layers.core.dense.Dense at 0x1faeaa70490>"
      ]
     },
     "execution_count": 20,
     "metadata": {},
     "output_type": "execute_result"
    }
   ],
   "source": [
    "decoder_softmax_layer"
   ]
  },
  {
   "cell_type": "code",
   "execution_count": 21,
   "metadata": {},
   "outputs": [
    {
     "data": {
      "text/plain": [
       "<KerasTensor: shape=(None, None, 101) dtype=float32 (created by layer 'dense')>"
      ]
     },
     "execution_count": 21,
     "metadata": {},
     "output_type": "execute_result"
    }
   ],
   "source": [
    "decoder_outputs"
   ]
  },
  {
   "cell_type": "markdown",
   "metadata": {
    "id": "QleDp9A7PjHk"
   },
   "source": [
    "## Seq2Seq 모델"
   ]
  },
  {
   "cell_type": "markdown",
   "metadata": {
    "id": "b7x6_ifRPoec"
   },
   "source": [
    "\n",
    "\n",
    "*   앞서 구성한 encoder와 decoder를 결합해 seq2seq model을 구성\n",
    "*   구성한 모델과 준비한 데이터를 사용해 기계 번역 학습\n",
    "\n"
   ]
  },
  {
   "cell_type": "code",
   "execution_count": 22,
   "metadata": {
    "id": "5Pty9yEAPlmb"
   },
   "outputs": [
    {
     "name": "stdout",
     "output_type": "stream",
     "text": [
      "Model: \"model\"\n",
      "__________________________________________________________________________________________________\n",
      " Layer (type)                Output Shape                 Param #   Connected to                  \n",
      "==================================================================================================\n",
      " input_1 (InputLayer)        [(None, None, 80)]           0         []                            \n",
      "                                                                                                  \n",
      " input_2 (InputLayer)        [(None, None, 101)]          0         []                            \n",
      "                                                                                                  \n",
      " lstm (LSTM)                 [(None, 256),                345088    ['input_1[0][0]']             \n",
      "                              (None, 256),                                                        \n",
      "                              (None, 256)]                                                        \n",
      "                                                                                                  \n",
      " lstm_1 (LSTM)               [(None, None, 256),          366592    ['input_2[0][0]',             \n",
      "                              (None, 256),                           'lstm[0][1]',                \n",
      "                              (None, 256)]                           'lstm[0][2]']                \n",
      "                                                                                                  \n",
      " dense (Dense)               (None, None, 101)            25957     ['lstm_1[0][0]']              \n",
      "                                                                                                  \n",
      "==================================================================================================\n",
      "Total params: 737637 (2.81 MB)\n",
      "Trainable params: 737637 (2.81 MB)\n",
      "Non-trainable params: 0 (0.00 Byte)\n",
      "__________________________________________________________________________________________________\n"
     ]
    }
   ],
   "source": [
    "model = Model([encoder_inputs, decoder_inputs], decoder_outputs)\n",
    "model.compile(optimizer='rmsprop', loss='categorical_crossentropy')\n",
    "model.summary()"
   ]
  },
  {
   "cell_type": "code",
   "execution_count": 25,
   "metadata": {
    "id": "QwWT2xjrZmoj"
   },
   "outputs": [
    {
     "ename": "MemoryError",
     "evalue": "Unable to allocate 2.79 GiB for an array with shape (24000, 309, 101) and data type float32",
     "output_type": "error",
     "traceback": [
      "\u001b[1;31m---------------------------------------------------------------------------\u001b[0m",
      "\u001b[1;31mMemoryError\u001b[0m                               Traceback (most recent call last)",
      "Cell \u001b[1;32mIn[25], line 1\u001b[0m\n\u001b[1;32m----> 1\u001b[0m history \u001b[38;5;241m=\u001b[39m \u001b[43mmodel\u001b[49m\u001b[38;5;241;43m.\u001b[39;49m\u001b[43mfit\u001b[49m\u001b[43m(\u001b[49m\u001b[43mx\u001b[49m\u001b[38;5;241;43m=\u001b[39;49m\u001b[43m[\u001b[49m\u001b[43mencoder_input\u001b[49m\u001b[43m,\u001b[49m\u001b[43m \u001b[49m\u001b[43mdecoder_input\u001b[49m\u001b[43m]\u001b[49m\u001b[43m,\u001b[49m\u001b[43m \u001b[49m\u001b[43my\u001b[49m\u001b[38;5;241;43m=\u001b[39;49m\u001b[43mdecoder_target\u001b[49m\u001b[43m,\u001b[49m\n\u001b[0;32m      2\u001b[0m \u001b[43m                        \u001b[49m\u001b[43mbatch_size\u001b[49m\u001b[38;5;241;43m=\u001b[39;49m\u001b[38;5;241;43m32\u001b[39;49m\u001b[43m,\u001b[49m\u001b[43m \u001b[49m\u001b[43mepochs\u001b[49m\u001b[38;5;241;43m=\u001b[39;49m\u001b[38;5;241;43m1\u001b[39;49m\u001b[43m,\u001b[49m\u001b[43m \u001b[49m\u001b[43mvalidation_split\u001b[49m\u001b[38;5;241;43m=\u001b[39;49m\u001b[38;5;241;43m0.2\u001b[39;49m\u001b[43m)\u001b[49m\n",
      "File \u001b[1;32m~\\anaconda3\\envs\\py38\\lib\\site-packages\\keras\\src\\utils\\traceback_utils.py:70\u001b[0m, in \u001b[0;36mfilter_traceback.<locals>.error_handler\u001b[1;34m(*args, **kwargs)\u001b[0m\n\u001b[0;32m     67\u001b[0m     filtered_tb \u001b[38;5;241m=\u001b[39m _process_traceback_frames(e\u001b[38;5;241m.\u001b[39m__traceback__)\n\u001b[0;32m     68\u001b[0m     \u001b[38;5;66;03m# To get the full stack trace, call:\u001b[39;00m\n\u001b[0;32m     69\u001b[0m     \u001b[38;5;66;03m# `tf.debugging.disable_traceback_filtering()`\u001b[39;00m\n\u001b[1;32m---> 70\u001b[0m     \u001b[38;5;28;01mraise\u001b[39;00m e\u001b[38;5;241m.\u001b[39mwith_traceback(filtered_tb) \u001b[38;5;28;01mfrom\u001b[39;00m \u001b[38;5;28;01mNone\u001b[39;00m\n\u001b[0;32m     71\u001b[0m \u001b[38;5;28;01mfinally\u001b[39;00m:\n\u001b[0;32m     72\u001b[0m     \u001b[38;5;28;01mdel\u001b[39;00m filtered_tb\n",
      "File \u001b[1;32m~\\anaconda3\\envs\\py38\\lib\\site-packages\\tensorflow\\python\\framework\\constant_op.py:86\u001b[0m, in \u001b[0;36mconvert_to_eager_tensor\u001b[1;34m(value, ctx, dtype)\u001b[0m\n\u001b[0;32m     66\u001b[0m \u001b[38;5;250m\u001b[39m\u001b[38;5;124;03m\"\"\"Converts the given `value` to an `EagerTensor`.\u001b[39;00m\n\u001b[0;32m     67\u001b[0m \n\u001b[0;32m     68\u001b[0m \u001b[38;5;124;03mNote that this function could return cached copies of created constants for\u001b[39;00m\n\u001b[1;32m   (...)\u001b[0m\n\u001b[0;32m     80\u001b[0m \u001b[38;5;124;03m  TypeError: if `dtype` is not compatible with the type of t.\u001b[39;00m\n\u001b[0;32m     81\u001b[0m \u001b[38;5;124;03m\"\"\"\u001b[39;00m\n\u001b[0;32m     82\u001b[0m \u001b[38;5;28;01mif\u001b[39;00m \u001b[38;5;28misinstance\u001b[39m(value, np\u001b[38;5;241m.\u001b[39mndarray):\n\u001b[0;32m     83\u001b[0m   \u001b[38;5;66;03m# Make a copy explicitly because the EagerTensor might share the underlying\u001b[39;00m\n\u001b[0;32m     84\u001b[0m   \u001b[38;5;66;03m# memory with the input array. Without this copy, users will be able to\u001b[39;00m\n\u001b[0;32m     85\u001b[0m   \u001b[38;5;66;03m# modify the EagerTensor after its creation by changing the input array.\u001b[39;00m\n\u001b[1;32m---> 86\u001b[0m   value \u001b[38;5;241m=\u001b[39m \u001b[43mvalue\u001b[49m\u001b[38;5;241;43m.\u001b[39;49m\u001b[43mcopy\u001b[49m\u001b[43m(\u001b[49m\u001b[43m)\u001b[49m\n\u001b[0;32m     87\u001b[0m \u001b[38;5;28;01mif\u001b[39;00m \u001b[38;5;28misinstance\u001b[39m(value, ops\u001b[38;5;241m.\u001b[39mEagerTensor):\n\u001b[0;32m     88\u001b[0m   \u001b[38;5;28;01mif\u001b[39;00m dtype \u001b[38;5;129;01mis\u001b[39;00m \u001b[38;5;129;01mnot\u001b[39;00m \u001b[38;5;28;01mNone\u001b[39;00m \u001b[38;5;129;01mand\u001b[39;00m value\u001b[38;5;241m.\u001b[39mdtype \u001b[38;5;241m!=\u001b[39m dtype:\n",
      "\u001b[1;31mMemoryError\u001b[0m: Unable to allocate 2.79 GiB for an array with shape (24000, 309, 101) and data type float32"
     ]
    }
   ],
   "source": [
    "history = model.fit(x=[encoder_input, decoder_input], y=decoder_target,\n",
    "                        batch_size=32, epochs=1, validation_split=0.2)"
   ]
  },
  {
   "cell_type": "markdown",
   "metadata": {},
   "source": [
    "*현재 GPU가 없는 까닭으로 1번의 epoch한 한다..*"
   ]
  },
  {
   "cell_type": "code",
   "execution_count": null,
   "metadata": {},
   "outputs": [],
   "source": [
    "#pd.DataFrame(history.history).plot();"
   ]
  },
  {
   "cell_type": "markdown",
   "metadata": {
    "id": "QyDzPgiMaf5_"
   },
   "source": [
    "## 예측"
   ]
  },
  {
   "cell_type": "markdown",
   "metadata": {
    "id": "GZbbHaDm_aRX"
   },
   "source": [
    "\n",
    "\n",
    "*   일반 모델과는 다르게, seq2seq 모델은 모델 예측 프로세스가 다름\n",
    "*   예측할 때는 인덱스 하나씩을 예측하게 되며, 예측한 인덱스를 저장하고 이를 다시 입력으로 사용해 종료 토큰이 나올때까지 반복\n",
    "*   마지막으로 예측한 인덱스들을 사전을 통해 글자들로 변환해 최종 예측을 얻음\n",
    "\n"
   ]
  },
  {
   "cell_type": "code",
   "execution_count": null,
   "metadata": {
    "id": "4i6nyNCbamz_"
   },
   "outputs": [],
   "source": [
    "encoder_model = Model(inputs=encoder_inputs, outputs=encoder_states)\n",
    "\n",
    "decoder_state_input_h = Input(shape=(256))\n",
    "decoder_state_input_c = Input(shape=(256))\n",
    "\n",
    "decoder_state_inputs = [decoder_state_input_h, decoder_state_input_c]\n",
    "decoder_outputs, state_h, state_c = decoder_lstm(decoder_inputs, initial_state=decoder_state_inputs)\n",
    "\n",
    "decoder_states = [state_h, state_c]\n",
    "\n",
    "decoder_outputs = decoder_softmax_layer(decoder_outputs)\n",
    "decoder_model = Model(inputs=[decoder_inputs] + decoder_state_inputs,\n",
    "                      outputs=[decoder_outputs] + decoder_states)"
   ]
  },
  {
   "cell_type": "code",
   "execution_count": null,
   "metadata": {
    "id": "YvQNB_ljairY"
   },
   "outputs": [],
   "source": [
    "idx_to_src = dict((i, char) for char, i in src_to_idx.items())\n",
    "idx_to_tar = dict((i, char) for char, i in tar_to_idx.items())"
   ]
  },
  {
   "cell_type": "code",
   "execution_count": null,
   "metadata": {
    "id": "asYLEiiRap-Y"
   },
   "outputs": [],
   "source": [
    "def predict_decode(input_seq):\n",
    "    state_value = encoder_model.predict(input_seq)\n",
    "    \n",
    "    target_seq = np.zeros((1,1,tar_vocab_size))\n",
    "    target_seq[0, 0, tar_to_idx['\\t']] = 1\n",
    "    \n",
    "    stop = False\n",
    "    result = ''\n",
    "    \n",
    "    while not stop:\n",
    "        output_tokens, h, c = decoder_model.predict([target_seq] + state_value)\n",
    "        \n",
    "        sampled_token_idx = np.argmax(output_tokens[0, -1, :])\n",
    "        sampled_char = idx_to_tar[sampled_token_idx]\n",
    "        \n",
    "        result += sampled_char\n",
    "        \n",
    "        if sampled_char == '\\n' or len(result) > max_tar_len:\n",
    "            stop = True\n",
    "            \n",
    "        target_seq = np.zeros((1, 1, tar_vocab_size))\n",
    "        target_seq[0, 0, sampled_token_idx] = 1.\n",
    "        \n",
    "        state_value = [h, c]\n",
    "        \n",
    "    return result"
   ]
  },
  {
   "cell_type": "code",
   "execution_count": null,
   "metadata": {
    "id": "nfpLBKbzajev"
   },
   "outputs": [],
   "source": [
    "for seq_idx in range(0, 30000, 3000):\n",
    "    input_seq = encoder_input[seq_idx:seq_idx+1]\n",
    "    result = predict_decode(input_seq)\n",
    "    \n",
    "    print('입력 문장 :', df.src[seq_idx])\n",
    "    print('실제 정답 :', df.tar[seq_idx][1:len(df.tar[seq_idx])-1])   #시작, 종료토큰 제외\n",
    "    print('번역 결과 :', result[:len(result)-1], '\\n')"
   ]
  }
 ],
 "metadata": {
  "accelerator": "GPU",
  "colab": {
   "provenance": []
  },
  "kernelspec": {
   "display_name": "Python 3 (ipykernel)",
   "language": "python",
   "name": "python3"
  },
  "language_info": {
   "codemirror_mode": {
    "name": "ipython",
    "version": 3
   },
   "file_extension": ".py",
   "mimetype": "text/x-python",
   "name": "python",
   "nbconvert_exporter": "python",
   "pygments_lexer": "ipython3",
   "version": "3.8.0"
  }
 },
 "nbformat": 4,
 "nbformat_minor": 4
}
