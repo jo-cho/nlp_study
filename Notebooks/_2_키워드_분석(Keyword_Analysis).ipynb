{
 "cells": [
  {
   "cell_type": "markdown",
   "metadata": {
    "id": "njXpmXifM6D-"
   },
   "source": [
    "# 키워드 분석(Keyword Analysis)"
   ]
  },
  {
   "cell_type": "markdown",
   "metadata": {
    "id": "pvUu6DwlNLm9"
   },
   "source": [
    "* 핵심어(keyword)란 텍스트 자료의 중요한 내용을 압축적으로 제시하는 단어 또는 문구\n",
    "* 핵심어 분석이란 불용어 제거와 어간추출 및 형태소 분석 등의 자연어 처리를 시행한 후 텍스트에서 많이 등장하는 형태소의 등장 빈도를 분석함으로써 핵심어를 추출   \n",
    "* 특정 텍스트 자료에 많이 나타나는 형태소가 그 텍스트 주제를 표출할 가능성이 높다는 가정에 기초  \n",
    "* 물론 빈도 분석에서 영어의 전치사나 한국어의 조사와 같이 의미를 별로 담고 있지 않은 불용어는 제외하는 것이 좋음\n",
    "* 키워드 분석은 텍스트의 주제 추정, 텍스트 유사도, 검색 엔진의 검색 결과 우선 순위 측정 등 다양하게 사용될 수 있음"
   ]
  },
  {
   "cell_type": "markdown",
   "metadata": {
    "id": "armZiPJzmIFk"
   },
   "source": [
    "## 한글 폰트 설정\n",
    "\n",
    "* 실행 후 런타임 재시작 필요"
   ]
  },
  {
   "cell_type": "code",
   "execution_count": 4,
   "metadata": {
    "id": "pDd_QGuRmGe5"
   },
   "outputs": [],
   "source": [
    "import matplotlib as mpl\n",
    "import matplotlib.pyplot as plt"
   ]
  },
  {
   "cell_type": "code",
   "execution_count": 8,
   "metadata": {},
   "outputs": [],
   "source": [
    "import matplotlib.font_manager as fm\n",
    "fontpath = '/usr/share/fonts/truetype/nanum/NanumBarunGothic.ttf'\n",
    "font = fm.FontProperties(fname=fontpath, size=10)\n",
    "plt.rc('font', family='NanumBarunGothic')"
   ]
  },
  {
   "cell_type": "markdown",
   "metadata": {
    "id": "bCfqJW-emM1D"
   },
   "source": [
    "## 한국어 자연어 처리 konlpy와 형태소 분석기 MeCab 설치\n",
    "\n",
    "* https://raw.githubusercontent.com/konlpy/konlpy/master/scripts/mecab.sh"
   ]
  },
  {
   "cell_type": "markdown",
   "metadata": {
    "id": "NrJWPH28S2Bp"
   },
   "source": [
    "## 네이버 영화 리뷰 데이터"
   ]
  },
  {
   "cell_type": "markdown",
   "metadata": {
    "id": "-XB2wgChQ8KV"
   },
   "source": [
    "* 키워드 분석에는 네이버 영화 리뷰 데이터를 사용\n",
    "* 데이터 다운로드: https://raw.githubusercontent.com/e9t/nsmc/master/ratings.txt"
   ]
  },
  {
   "cell_type": "code",
   "execution_count": 11,
   "metadata": {
    "id": "f87bl27DQS87"
   },
   "outputs": [],
   "source": [
    "import urllib\n",
    "import urllib.request\n",
    "\n",
    "raw = urllib.request.urlopen('https://raw.githubusercontent.com/e9t/nsmc/master/ratings.txt').readlines()"
   ]
  },
  {
   "cell_type": "markdown",
   "metadata": {
    "id": "VRaviObSRI-7"
   },
   "source": [
    "* 데이터를 확인해보면 모두 바이트로 이루어져 있으며, 리뷰 외의 다른 데이터도 존재\n",
    "* 데이터를 문자열로 변환하고 리뷰만 추출"
   ]
  },
  {
   "cell_type": "code",
   "execution_count": 12,
   "metadata": {
    "id": "mIDt6COKRJGO"
   },
   "outputs": [
    {
     "name": "stdout",
     "output_type": "stream",
     "text": [
      "['어릴때보고 지금다시봐도 재밌어요ㅋㅋ', '디자인을 배우는 학생으로, 외국디자이너와 그들이 일군 전통을 통해 발전해가는 문화산업이 부러웠는데. 사실 우리나라에서도 그 어려운시절에 끝까지 열정을 지킨 노라노 같은 전통이있어 저와 같은 사람들이 꿈을 꾸고 이뤄나갈 수 있다는 것에 감사합니다.', '폴리스스토리 시리즈는 1부터 뉴까지 버릴께 하나도 없음.. 최고.', '와.. 연기가 진짜 개쩔구나.. 지루할거라고 생각했는데 몰입해서 봤다.. 그래 이런게 진짜 영화지', '안개 자욱한 밤하늘에 떠 있는 초승달 같은 영화.']\n"
     ]
    }
   ],
   "source": [
    "raw = [x.decode() for x in raw[1:]]\n",
    "\n",
    "reviews = []\n",
    "for i in raw:\n",
    "    reviews.append(i.split('\\t')[1])\n",
    "\n",
    "print(reviews[:5])"
   ]
  },
  {
   "cell_type": "markdown",
   "metadata": {
    "id": "65sLf2AkL440"
   },
   "source": [
    "## 형태소 분석을 이용한 명사 추출\n"
   ]
  },
  {
   "cell_type": "markdown",
   "metadata": {
    "id": "_RvU-xVmf-aQ"
   },
   "source": [
    "* 형태소 분석기 Mecab으로 명사만 추출"
   ]
  },
  {
   "cell_type": "code",
   "execution_count": 13,
   "metadata": {},
   "outputs": [
    {
     "data": {
      "text/plain": [
       "['때', '디자인', '학생', '외국', '디자이너', '그', '전통', '발전', '문화', '산업']"
      ]
     },
     "execution_count": 13,
     "metadata": {},
     "output_type": "execute_result"
    }
   ],
   "source": [
    "from konlpy.tag import Mecab\n",
    "tagger = Mecab(dicpath=r\"C:/mecab/mecab-ko-dic\")\n",
    "\n",
    "nouns = []\n",
    "for review in reviews:\n",
    "    for noun in tagger.nouns(review):\n",
    "        nouns.append(noun)\n",
    "\n",
    "nouns[:10]"
   ]
  },
  {
   "cell_type": "markdown",
   "metadata": {
    "id": "RfG7OgV_L446"
   },
   "source": [
    "### 불용어(Stopwords) 사전 만들기\n",
    "\n",
    "* 형태소 분석을 통해 조사, 접속사 등의 제거 가능\n",
    "* 하지만 한국어는 명사에서도 상당히 많은 불필요한 단어들이 포함\n",
    "* 사용자가 직접 불용어 사전을 유지하면서 불필요한 단어 제거 필요\n",
    "* 불용어 예: `전 난 일 걸 뭐 줄 만 건 분 개 끝 잼 이거 번 중 듯 때 게 내 말 나 수 거 점 것`\n",
    "* 빈도가 너무 커서 분석에 방해되는 단어도 제거 필요 (예: `영화`)\n"
   ]
  },
  {
   "cell_type": "code",
   "execution_count": 14,
   "metadata": {
    "id": "PxXHMeHEL446"
   },
   "outputs": [],
   "source": [
    "stop_words = \"영화 전 난 일 걸 뭐 줄 만 건 분 개 끝 잼 이거 번 중 듯 때 게 내 말 나 수 거 점 것\"\n",
    "stop_words = stop_words.split(\" \")"
   ]
  },
  {
   "cell_type": "markdown",
   "metadata": {
    "id": "QHBAWtzAL449"
   },
   "source": [
    "### 불용어를 제외하여 형태소 분석 수행\n",
    "\n",
    "* 한글 텍스트에 대해서 형태소 분석 수행\n",
    "* 분석으로 추출하는 명사 중에서 불용어에 포함되지 않은 텍스트만 추출하여 저장"
   ]
  },
  {
   "cell_type": "code",
   "execution_count": 15,
   "metadata": {
    "id": "Oz2yf12vL44-"
   },
   "outputs": [
    {
     "data": {
      "text/plain": [
       "['디자인', '학생', '외국', '디자이너', '그', '전통', '발전', '문화', '산업', '우리']"
      ]
     },
     "execution_count": 15,
     "metadata": {},
     "output_type": "execute_result"
    }
   ],
   "source": [
    "nouns = []\n",
    "for review in reviews:\n",
    "    for noun in tagger.nouns(review):\n",
    "        if noun not in stop_words:\n",
    "            nouns.append(noun)\n",
    "\n",
    "nouns[:10]"
   ]
  },
  {
   "cell_type": "markdown",
   "metadata": {
    "id": "QHRt9alfTMj3"
   },
   "source": [
    "## 단어 빈도수 측정"
   ]
  },
  {
   "cell_type": "markdown",
   "metadata": {
    "id": "MXbsTUQLA7FH"
   },
   "source": [
    "* 단어 빈도수 측정에는 `collections` 라이브러리의 `Counter` 함수를 이용\n",
    "* `collections` 라이브러리는 내장 라이브러리로 별도 설치가 필요없음\n",
    "* `counter`를 이용하면 각 단어와 각 단어의 빈도 수를 딕셔너리로 편리하게 생성 가능"
   ]
  },
  {
   "cell_type": "code",
   "execution_count": 16,
   "metadata": {
    "id": "2nnOU6NDTWM9"
   },
   "outputs": [
    {
     "data": {
      "text/plain": [
       "{'연기': 9175,\n",
       " '최고': 8813,\n",
       " '평점': 8514,\n",
       " '스토리': 7163,\n",
       " '생각': 6943,\n",
       " '드라마': 6896,\n",
       " '사람': 6742,\n",
       " '감동': 6489,\n",
       " '배우': 5893,\n",
       " '내용': 5731,\n",
       " '감독': 5629,\n",
       " '재미': 5479,\n",
       " '시간': 5320,\n",
       " '년': 4936,\n",
       " '사랑': 4741,\n",
       " '쓰레기': 4585,\n",
       " '작품': 3985,\n",
       " '하나': 3923,\n",
       " '정도': 3656,\n",
       " '이건': 3650,\n",
       " '마지막': 3647,\n",
       " '액션': 3568,\n",
       " '기대': 3465,\n",
       " '장면': 3262,\n",
       " '이게': 3046,\n",
       " '편': 3044,\n",
       " '최악': 3019,\n",
       " '돈': 2980,\n",
       " '이야기': 2947,\n",
       " '이해': 2745,\n",
       " '애': 2730,\n",
       " '명작': 2685,\n",
       " '여자': 2678,\n",
       " '이상': 2676,\n",
       " '처음': 2673,\n",
       " '한국': 2640,\n",
       " '주인공': 2553,\n",
       " '우리': 2531,\n",
       " '연출': 2376,\n",
       " '때문': 2371,\n",
       " '기억': 2364,\n",
       " '현실': 2193,\n",
       " '마음': 2128,\n",
       " '굿': 2110,\n",
       " '남자': 2078,\n",
       " '결말': 2066,\n",
       " '인생': 2060,\n",
       " '공포': 2048,\n",
       " '전개': 2035,\n",
       " '짜증': 2011}"
      ]
     },
     "execution_count": 16,
     "metadata": {},
     "output_type": "execute_result"
    }
   ],
   "source": [
    "from collections import Counter\n",
    "\n",
    "nouns_counter = Counter(nouns)\n",
    "top_nouns = dict(nouns_counter.most_common(50))\n",
    "top_nouns"
   ]
  },
  {
   "cell_type": "markdown",
   "metadata": {
    "id": "t6w6mEQ_Aamt"
   },
   "source": [
    "## 단어 빈도 시각화"
   ]
  },
  {
   "cell_type": "code",
   "execution_count": null,
   "metadata": {
    "id": "rEP8sDZuAbC9"
   },
   "outputs": [],
   "source": []
  },
  {
   "cell_type": "markdown",
   "metadata": {
    "id": "jOvekEYJNBHd"
   },
   "source": [
    "## 워드클라우드(WordCloud)"
   ]
  },
  {
   "cell_type": "markdown",
   "metadata": {
    "id": "094GGnh5N_jH"
   },
   "source": [
    "* 텍스트에 담겨있는 여러 형태소들의 등장 빈도를 가장 직관적으로 시각화하는 방법\n",
    "* 텍스트에 등장하는 단어를 그 등장 빈도에 따라 서로 크기가 다르게 구름 형태로 표현함으로써, 단어의 빈도 수를 한번에 알 수 있음  \n",
    "* 최근에 많은 서비스들이 어떤 핵심어가 많이 등장했는가를 워드클라우드 형식으로 시각화\n",
    "* 빈도 수만을 시각적으로 표현한 것이기 때문에, 단어들 사이의 연관성이나 의미 구조 등을 분석하는 데는 한계가 있음"
   ]
  },
  {
   "cell_type": "markdown",
   "metadata": {
    "id": "Py-tW4-whw5s"
   },
   "source": [
    "* 파이썬에서 워드 클라우드를 시각화하기 위해 `matplotlib` 라이브러리와 `WordCloud` 라이브러리를 `import` 해서 사용\n",
    "* `WordCloud` 라이브러리는 `pip install wordcloud` 명령어를 통해 설치 필요"
   ]
  },
  {
   "cell_type": "code",
   "execution_count": null,
   "metadata": {
    "id": "kARobmm2NDgl"
   },
   "outputs": [],
   "source": []
  },
  {
   "cell_type": "markdown",
   "metadata": {
    "id": "MHtxdWK5irIr"
   },
   "source": [
    "* WordCloud를 이용해 객체를 생성해주고,\n",
    "`generate_from_frequencies()` 함수로 빈도 수에 따라 워드클라우드 생성"
   ]
  },
  {
   "cell_type": "code",
   "execution_count": null,
   "metadata": {
    "id": "JUYNxKiqOoDz"
   },
   "outputs": [],
   "source": []
  },
  {
   "cell_type": "markdown",
   "metadata": {
    "id": "DAND3HwGYscl"
   },
   "source": [
    "* 워드클라우드를 시각화할 때는 이미지 시각화 함수인 `imshow()` 함수를 사용해야 함"
   ]
  },
  {
   "cell_type": "code",
   "execution_count": null,
   "metadata": {
    "id": "c66M9M2ZYomO"
   },
   "outputs": [],
   "source": []
  },
  {
   "cell_type": "markdown",
   "metadata": {
    "id": "BEY3ldWmNECt"
   },
   "source": [
    "## squarify 트리맵 시각화"
   ]
  },
  {
   "cell_type": "markdown",
   "metadata": {
    "id": "ApiLK6KhZM3d"
   },
   "source": [
    "* `squarify`는 트리맵 생성을 지원해주는 파이썬 라이브러리\n",
    "* `squarify` 라이브러리를 이용해 키워드와 키워드 빈도 수를 트리맵으로 나타냄   "
   ]
  },
  {
   "cell_type": "code",
   "execution_count": null,
   "metadata": {
    "id": "cj_Y-VslNJDg"
   },
   "outputs": [],
   "source": []
  }
 ],
 "metadata": {
  "colab": {
   "provenance": []
  },
  "kernelspec": {
   "display_name": "Python 3 (ipykernel)",
   "language": "python",
   "name": "python3"
  },
  "language_info": {
   "codemirror_mode": {
    "name": "ipython",
    "version": 3
   },
   "file_extension": ".py",
   "mimetype": "text/x-python",
   "name": "python",
   "nbconvert_exporter": "python",
   "pygments_lexer": "ipython3",
   "version": "3.8.0"
  }
 },
 "nbformat": 4,
 "nbformat_minor": 4
}
