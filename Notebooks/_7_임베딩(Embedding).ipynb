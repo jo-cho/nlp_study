{
 "cells": [
  {
   "cell_type": "markdown",
   "metadata": {
    "id": "sqJ4qz2uwHHH"
   },
   "source": [
    "# 임베딩(Embedding)"
   ]
  },
  {
   "cell_type": "markdown",
   "metadata": {
    "id": "E2HuxbsICXZc"
   },
   "source": [
    "* 워드 임베딩은 단어를 컴퓨터가 이해하고, 효율적으로 처리할 수 있도록 단어를 벡터화하는 기술\n",
    "* 워드 임베딩은 단어의 의미를 잘 표현해야만 하며, 현재까지도 많은 표현 방법이 연구\n",
    "* 워드 임베딩을 거쳐 잘 표현된 단어 벡터들은 계산이 가능하며, 모델 투입도 가능"
   ]
  },
  {
   "cell_type": "markdown",
   "metadata": {
    "id": "m0bGg7PjHyKM"
   },
   "source": [
    "## 인코딩(Encoding)"
   ]
  },
  {
   "cell_type": "markdown",
   "metadata": {
    "id": "lWVay2ofi4vR"
   },
   "source": [
    "* 기계는 자연어(영어, 한국어 등)을 이해할 수 없음\n",
    "* 데이터를 기계가 이해할 수 있도록 숫자 등으로 변환해주는 작업이 필요\n",
    "* 이러한 작업을 인코딩이라고 함\n",
    "\n",
    "* 텍스트 처리에서는 주로 정수 인코딩, 원 핫 인코딩을 사용"
   ]
  },
  {
   "cell_type": "markdown",
   "metadata": {
    "id": "QPXDPmRtKDfr"
   },
   "source": [
    "### 정수 인코딩"
   ]
  },
  {
   "cell_type": "markdown",
   "metadata": {
    "id": "zzb5eqDEPJDs"
   },
   "source": [
    "#### dictionary를 이용한 정수 인코딩"
   ]
  },
  {
   "cell_type": "markdown",
   "metadata": {
    "id": "MecMDCLZQz8X"
   },
   "source": [
    "* 각 단어와 정수 인덱스를 연결하고, 토큰을 변환해주는 정수 인코딩"
   ]
  },
  {
   "cell_type": "code",
   "execution_count": 8,
   "metadata": {
    "id": "AZoYLia2PQTV"
   },
   "outputs": [
    {
     "data": {
      "text/plain": [
       "[11, 10, 6, 2, 8, 11, 4, 0, 9, 1, 3, 5, 7]"
      ]
     },
     "execution_count": 8,
     "metadata": {},
     "output_type": "execute_result"
    }
   ],
   "source": [
    "text = '건설회사 우발부채는 중요한 정보임에도 현재 건설회사 주석 공시로는 정보이용자들에게 필요한 사항을 확인하기 어렵다.'\n",
    "tokens = [x for x in text.split(' ')]\n",
    "unique = list(set(tokens))\n",
    "\n",
    "token2index = {}\n",
    "for i in range(len(unique)):\n",
    "    token2index[unique[i]] = i\n",
    "    \n",
    "encode = [token2index[x] for x in tokens]\n",
    "encode"
   ]
  },
  {
   "cell_type": "markdown",
   "metadata": {
    "id": "uBEtdH1cPENH"
   },
   "source": [
    "#### keras를 이용한 정수 인코딩"
   ]
  },
  {
   "cell_type": "markdown",
   "metadata": {
    "id": "OpuQdjiLhogy"
   },
   "source": [
    "* 정수 인코딩은 단어에 정수로 레이블을 부여\n",
    "* `dictionary`, `nltk` 패키지를 이용한 방법들도 있지만, `keras`에서는 텍스트 처리에 필요한 도구들을 지원\n",
    "* 해당 도구는 자동으로 단어 빈도가 높은 단어의 인덱스는 낮게끔 설정"
   ]
  },
  {
   "cell_type": "code",
   "execution_count": 9,
   "metadata": {
    "id": "fIqPMClFiMvb"
   },
   "outputs": [
    {
     "name": "stdout",
     "output_type": "stream",
     "text": [
      "{'건설회사': 1, '우발부채는': 2, '중요한': 3, '정보임에도': 4, '현재': 5, '주석': 6, '공시로는': 7, '정보이용자들에게': 8, '필요한': 9, '사항을': 10, '확인하기': 11, '어렵다': 12}\n",
      "[1, 2, 3, 4, 5, 1, 6, 7, 8, 9, 10, 11, 12]\n"
     ]
    }
   ],
   "source": [
    "from keras.preprocessing.text import Tokenizer\n",
    "\n",
    "t = Tokenizer()\n",
    "t.fit_on_texts([text])\n",
    "print(t.word_index)\n",
    "\n",
    "encoded = t.texts_to_sequences([text])[0]\n",
    "print(encoded)"
   ]
  },
  {
   "cell_type": "markdown",
   "metadata": {
    "id": "2TDrAJL-KEt8"
   },
   "source": [
    "### 원 핫 인코딩(One-Hot Encoding)"
   ]
  },
  {
   "cell_type": "markdown",
   "metadata": {
    "id": "2zA6x8FbmeqS"
   },
   "source": [
    "#### 조건문과 반복문을 이용한 원 핫 인코딩"
   ]
  },
  {
   "cell_type": "markdown",
   "metadata": {
    "id": "IKGnvTw7RFf5"
   },
   "source": [
    "* 원 핫 인코딩은 정수 인코딩한 결과를 벡터로 변환한 인코딩\n",
    "* 원 핫 인코딩은 전체 단어 개수 만큼의 길이를 가진 배열에 해당 정수를 가진 위치는 1, 나머지는 0을 가진 벡터로 변환   "
   ]
  },
  {
   "cell_type": "code",
   "execution_count": 10,
   "metadata": {
    "id": "MlHc9XXERFla"
   },
   "outputs": [
    {
     "data": {
      "text/plain": [
       "array([[1, 0, 0, 0, 0, 0, 0, 0, 0, 0, 0, 0],\n",
       "       [0, 1, 0, 0, 0, 0, 0, 0, 0, 0, 0, 0],\n",
       "       [0, 0, 1, 0, 0, 0, 0, 0, 0, 0, 0, 0],\n",
       "       [0, 0, 0, 1, 0, 0, 0, 0, 0, 0, 0, 0],\n",
       "       [0, 0, 0, 0, 1, 0, 0, 0, 0, 0, 0, 0],\n",
       "       [1, 0, 0, 0, 0, 0, 0, 0, 0, 0, 0, 0],\n",
       "       [0, 0, 0, 0, 0, 1, 0, 0, 0, 0, 0, 0],\n",
       "       [0, 0, 0, 0, 0, 0, 1, 0, 0, 0, 0, 0],\n",
       "       [0, 0, 0, 0, 0, 0, 0, 1, 0, 0, 0, 0],\n",
       "       [0, 0, 0, 0, 0, 0, 0, 0, 1, 0, 0, 0],\n",
       "       [0, 0, 0, 0, 0, 0, 0, 0, 0, 1, 0, 0],\n",
       "       [0, 0, 0, 0, 0, 0, 0, 0, 0, 0, 1, 0],\n",
       "       [0, 0, 0, 0, 0, 0, 0, 0, 0, 0, 0, 1]])"
      ]
     },
     "execution_count": 10,
     "metadata": {},
     "output_type": "execute_result"
    }
   ],
   "source": [
    "import numpy as np\n",
    "\n",
    "one_hot = []\n",
    "for i in range(len(encoded)):\n",
    "    temp = []\n",
    "    for j in range(max(encoded)):\n",
    "        if j == (encoded[i]-1):\n",
    "            temp.append(1)\n",
    "        else:\n",
    "            temp.append(0)\n",
    "    one_hot.append(temp)\n",
    "    \n",
    "np.array(one_hot)"
   ]
  },
  {
   "cell_type": "markdown",
   "metadata": {
    "id": "xk_Bna8tmmqS"
   },
   "source": [
    "#### keras를 이용한 원 핫 인코딩"
   ]
  },
  {
   "cell_type": "markdown",
   "metadata": {
    "id": "oxlWLLJfht7i"
   },
   "source": [
    "* `keras`에서는 정수 인코딩을 원 핫 인코딩을 간단하게 변환해주는 `to_categorical()` 함수를 제공"
   ]
  },
  {
   "cell_type": "code",
   "execution_count": 11,
   "metadata": {
    "id": "xRJ8frWZiMeS"
   },
   "outputs": [
    {
     "data": {
      "text/plain": [
       "array([[0., 1., 0., 0., 0., 0., 0., 0., 0., 0., 0., 0., 0.],\n",
       "       [0., 0., 1., 0., 0., 0., 0., 0., 0., 0., 0., 0., 0.],\n",
       "       [0., 0., 0., 1., 0., 0., 0., 0., 0., 0., 0., 0., 0.],\n",
       "       [0., 0., 0., 0., 1., 0., 0., 0., 0., 0., 0., 0., 0.],\n",
       "       [0., 0., 0., 0., 0., 1., 0., 0., 0., 0., 0., 0., 0.],\n",
       "       [0., 1., 0., 0., 0., 0., 0., 0., 0., 0., 0., 0., 0.],\n",
       "       [0., 0., 0., 0., 0., 0., 1., 0., 0., 0., 0., 0., 0.],\n",
       "       [0., 0., 0., 0., 0., 0., 0., 1., 0., 0., 0., 0., 0.],\n",
       "       [0., 0., 0., 0., 0., 0., 0., 0., 1., 0., 0., 0., 0.],\n",
       "       [0., 0., 0., 0., 0., 0., 0., 0., 0., 1., 0., 0., 0.],\n",
       "       [0., 0., 0., 0., 0., 0., 0., 0., 0., 0., 1., 0., 0.],\n",
       "       [0., 0., 0., 0., 0., 0., 0., 0., 0., 0., 0., 1., 0.],\n",
       "       [0., 0., 0., 0., 0., 0., 0., 0., 0., 0., 0., 0., 1.]],\n",
       "      dtype=float32)"
      ]
     },
     "execution_count": 11,
     "metadata": {},
     "output_type": "execute_result"
    }
   ],
   "source": [
    "from tensorflow.keras.utils import to_categorical\n",
    "\n",
    "one_hot = to_categorical(encoded)\n",
    "one_hot"
   ]
  },
  {
   "cell_type": "markdown",
   "metadata": {
    "id": "0T4R-JlP2-6k"
   },
   "source": [
    "## IMDB 데이터\n",
    "\n",
    "- 인터넷 영화 데이터베이스(Internet Movie Database)\n",
    "\n",
    "- 양극단의 리뷰 5만개로 이루어진 데이터셋\n",
    "  - 훈련데이터: 25,000개\n",
    "  - 테스트데이터 : 25,000개\n",
    "\n",
    "  <img src=\"https://encrypted-tbn0.gstatic.com/images?q=tbn%3AANd9GcQlk-f2SHB6-Vs3RWwIugMctsyEn2QVZWC5KQ&usqp=CAU\">\n",
    "\n",
    "- https://www.imdb.com/interfaces/"
   ]
  },
  {
   "cell_type": "markdown",
   "metadata": {
    "id": "gxmuXi9L3-O2"
   },
   "source": [
    "### module import"
   ]
  },
  {
   "cell_type": "code",
   "execution_count": 13,
   "metadata": {
    "id": "XrfsUoGS2EVN"
   },
   "outputs": [],
   "source": [
    "from tensorflow.keras.datasets import imdb\n",
    "from tensorflow.keras.models import Sequential\n",
    "from tensorflow.keras.layers import Embedding, Dense, Flatten"
   ]
  },
  {
   "cell_type": "markdown",
   "metadata": {
    "id": "YyMXXlpY4Ajz"
   },
   "source": [
    "### 데이터 로드"
   ]
  },
  {
   "cell_type": "code",
   "execution_count": 14,
   "metadata": {
    "id": "wNnbw2tH2EiP"
   },
   "outputs": [
    {
     "name": "stdout",
     "output_type": "stream",
     "text": [
      "Downloading data from https://storage.googleapis.com/tensorflow/tf-keras-datasets/imdb.npz\n",
      "17464789/17464789 [==============================] - 2s 0us/step\n"
     ]
    }
   ],
   "source": [
    "num_words = 1000   #등장빈도 순위 1000위까지의 단어만 사용(즉, 단어 집합의 크기가 1000)\n",
    "(x_train, y_train), (x_test, y_test) = imdb.load_data(num_words=num_words)"
   ]
  },
  {
   "cell_type": "code",
   "execution_count": 15,
   "metadata": {
    "id": "OGnkPs_U2Ezk"
   },
   "outputs": [
    {
     "data": {
      "text/plain": [
       "((25000,), (25000,), (25000,), (25000,))"
      ]
     },
     "execution_count": 15,
     "metadata": {},
     "output_type": "execute_result"
    }
   ],
   "source": [
    "x_train.shape, y_train.shape, x_test.shape, y_test.shape"
   ]
  },
  {
   "cell_type": "markdown",
   "metadata": {
    "id": "bvtDvmuX4_JB"
   },
   "source": [
    "### 데이터 확인\n",
    "- 긍정: 1\n",
    "- 부정: 0"
   ]
  },
  {
   "cell_type": "code",
   "execution_count": 18,
   "metadata": {
    "id": "wFruX-Vp2ExJ"
   },
   "outputs": [
    {
     "name": "stdout",
     "output_type": "stream",
     "text": [
      "긍정 => [1, 14, 22, 16, 43, 530, 973, 2, 2, 65, 458, 2, 66, 2, 4, 173, 36, 256, 5, 25, 100, 43, 838, 112, 50, 670, 2, 9, 35, 480, 284, 5, 150, 4, 172, 112, 167, 2, 336, 385, 39, 4, 172, 2, 2, 17, 546, 38, 13, 447, 4, 192, 50, 16, 6, 147, 2, 19, 14, 22, 4, 2, 2, 469, 4, 22, 71, 87, 12, 16, 43, 530, 38, 76, 15, 13, 2, 4, 22, 17, 515, 17, 12, 16, 626, 18, 2, 5, 62, 386, 12, 8, 316, 8, 106, 5, 4, 2, 2, 16, 480, 66, 2, 33, 4, 130, 12, 16, 38, 619, 5, 25, 124, 51, 36, 135, 48, 25, 2, 33, 6, 22, 12, 215, 28, 77, 52, 5, 14, 407, 16, 82, 2, 8, 4, 107, 117, 2, 15, 256, 4, 2, 7, 2, 5, 723, 36, 71, 43, 530, 476, 26, 400, 317, 46, 7, 4, 2, 2, 13, 104, 88, 4, 381, 15, 297, 98, 32, 2, 56, 26, 141, 6, 194, 2, 18, 4, 226, 22, 21, 134, 476, 26, 480, 5, 144, 30, 2, 18, 51, 36, 28, 224, 92, 25, 104, 4, 226, 65, 16, 38, 2, 88, 12, 16, 283, 5, 16, 2, 113, 103, 32, 15, 16, 2, 19, 178, 32]\n",
      "\n",
      "\n",
      "부정 => [1, 194, 2, 194, 2, 78, 228, 5, 6, 2, 2, 2, 134, 26, 4, 715, 8, 118, 2, 14, 394, 20, 13, 119, 954, 189, 102, 5, 207, 110, 2, 21, 14, 69, 188, 8, 30, 23, 7, 4, 249, 126, 93, 4, 114, 9, 2, 2, 5, 647, 4, 116, 9, 35, 2, 4, 229, 9, 340, 2, 4, 118, 9, 4, 130, 2, 19, 4, 2, 5, 89, 29, 952, 46, 37, 4, 455, 9, 45, 43, 38, 2, 2, 398, 4, 2, 26, 2, 5, 163, 11, 2, 2, 4, 2, 9, 194, 775, 7, 2, 2, 349, 2, 148, 605, 2, 2, 15, 123, 125, 68, 2, 2, 15, 349, 165, 2, 98, 5, 4, 228, 9, 43, 2, 2, 15, 299, 120, 5, 120, 174, 11, 220, 175, 136, 50, 9, 2, 228, 2, 5, 2, 656, 245, 2, 5, 4, 2, 131, 152, 491, 18, 2, 32, 2, 2, 14, 9, 6, 371, 78, 22, 625, 64, 2, 9, 8, 168, 145, 23, 4, 2, 15, 16, 4, 2, 5, 28, 6, 52, 154, 462, 33, 89, 78, 285, 16, 145, 95]\n",
      "\n",
      "\n",
      "부정 => [1, 14, 47, 8, 30, 31, 7, 4, 249, 108, 7, 4, 2, 54, 61, 369, 13, 71, 149, 14, 22, 112, 4, 2, 311, 12, 16, 2, 33, 75, 43, 2, 296, 4, 86, 320, 35, 534, 19, 263, 2, 2, 4, 2, 33, 89, 78, 12, 66, 16, 4, 360, 7, 4, 58, 316, 334, 11, 4, 2, 43, 645, 662, 8, 257, 85, 2, 42, 2, 2, 83, 68, 2, 15, 36, 165, 2, 278, 36, 69, 2, 780, 8, 106, 14, 2, 2, 18, 6, 22, 12, 215, 28, 610, 40, 6, 87, 326, 23, 2, 21, 23, 22, 12, 272, 40, 57, 31, 11, 4, 22, 47, 6, 2, 51, 9, 170, 23, 595, 116, 595, 2, 13, 191, 79, 638, 89, 2, 14, 9, 8, 106, 607, 624, 35, 534, 6, 227, 7, 129, 113]\n",
      "\n",
      "\n"
     ]
    }
   ],
   "source": [
    "for i in range(3):\n",
    "    if y_train[i] == 0:\n",
    "        print('부정 =>', x_train[i])\n",
    "    else:\n",
    "        print('긍정 =>', x_train[i])\n",
    "    print('\\n')"
   ]
  },
  {
   "cell_type": "markdown",
   "metadata": {
    "id": "izJKnVgY7NWl"
   },
   "source": [
    "### 데이터 전처리\n",
    "- 모든 데이터를 같은 길이로 맞추기\n",
    "\n",
    "  - `pad_sequence()`\n",
    "    - 데이터가 maxlen보다 길면 데이터를 자름\n",
    "\n",
    "    - 데이터가 길면 `padding` 설정\n",
    "      - `pre`: 데이터 앞에 0으로 채움\n",
    "      -  `post`: 데이터 뒤에 0으로 채움\n",
    "\n",
    "\n",
    "- 모든 데이터(문장 하나하나)가 같은 길이로 맞추어야 `Embedding` 레이어를 사용할 수 있음"
   ]
  },
  {
   "cell_type": "code",
   "execution_count": 20,
   "metadata": {
    "id": "oAF2ZRV32Eup"
   },
   "outputs": [],
   "source": [
    "from tensorflow.keras.preprocessing.sequence import pad_sequences"
   ]
  },
  {
   "cell_type": "code",
   "execution_count": 21,
   "metadata": {
    "id": "oAF2ZRV32Eup"
   },
   "outputs": [],
   "source": [
    "max_len = 100\n",
    "padded_x_train = pad_sequences(x_train, maxlen=max_len, padding='pre')\n",
    "padded_x_test = pad_sequences(x_test, maxlen=max_len, padding='pre')"
   ]
  },
  {
   "cell_type": "code",
   "execution_count": 22,
   "metadata": {
    "id": "oAF2ZRV32Eup"
   },
   "outputs": [
    {
     "name": "stdout",
     "output_type": "stream",
     "text": [
      "218 => 100\n"
     ]
    }
   ],
   "source": [
    "print(len(x_train[0]), '=>', len(padded_x_train[0]))"
   ]
  },
  {
   "cell_type": "code",
   "execution_count": 23,
   "metadata": {
    "id": "oAF2ZRV32Eup"
   },
   "outputs": [
    {
     "name": "stdout",
     "output_type": "stream",
     "text": [
      "68 => 100\n"
     ]
    }
   ],
   "source": [
    "print(len(x_test[0]), '=>', len(padded_x_test[0]))"
   ]
  },
  {
   "cell_type": "markdown",
   "metadata": {
    "id": "iVSjFumg-TBt"
   },
   "source": [
    "### 모델 구성"
   ]
  },
  {
   "cell_type": "code",
   "execution_count": 24,
   "metadata": {
    "id": "Blq1UZP92Ed4"
   },
   "outputs": [
    {
     "name": "stdout",
     "output_type": "stream",
     "text": [
      "Model: \"sequential\"\n",
      "_________________________________________________________________\n",
      " Layer (type)                Output Shape              Param #   \n",
      "=================================================================\n",
      " embedding (Embedding)       (None, 100, 32)           32000     \n",
      "                                                                 \n",
      " flatten (Flatten)           (None, 3200)              0         \n",
      "                                                                 \n",
      " dense (Dense)               (None, 1)                 3201      \n",
      "                                                                 \n",
      "=================================================================\n",
      "Total params: 35201 (137.50 KB)\n",
      "Trainable params: 35201 (137.50 KB)\n",
      "Non-trainable params: 0 (0.00 Byte)\n",
      "_________________________________________________________________\n"
     ]
    }
   ],
   "source": [
    "#모델 구성\n",
    "model = Sequential([Embedding(input_dim=num_words, output_dim=32, input_length=max_len),\n",
    "                    Flatten(),\n",
    "                    Dense(1, activation='sigmoid')])\n",
    "model.summary()"
   ]
  },
  {
   "cell_type": "markdown",
   "metadata": {
    "id": "H1VqPWEa-m9i"
   },
   "source": [
    "### 모델 컴파일 및 학습"
   ]
  },
  {
   "cell_type": "code",
   "execution_count": 25,
   "metadata": {
    "id": "CEXe_6de2EcK"
   },
   "outputs": [],
   "source": [
    "model.compile(optimizer='rmsprop', loss='binary_crossentropy', metrics=['acc'])\n",
    "\n",
    "history = model.fit(padded_x_train, y_train,\n",
    "                    epochs=10, verbose=0,\n",
    "                    batch_size=32,\n",
    "                    validation_split=0.2)"
   ]
  },
  {
   "cell_type": "markdown",
   "metadata": {
    "id": "-gNKkWKP_3c0"
   },
   "source": [
    "### 시각화"
   ]
  },
  {
   "cell_type": "code",
   "execution_count": 26,
   "metadata": {
    "id": "PYKPQO1B_-EJ"
   },
   "outputs": [],
   "source": [
    "import matplotlib.pyplot as plt"
   ]
  },
  {
   "cell_type": "code",
   "execution_count": 28,
   "metadata": {
    "id": "PYKPQO1B_-EJ"
   },
   "outputs": [
    {
     "data": {
      "image/png": "[encoded data removed]",
      "text/plain": [
       "<Figure size 800x400 with 2 Axes>"
      ]
     },
     "metadata": {},
     "output_type": "display_data"
    }
   ],
   "source": [
    "plt.figure(figsize=(8,4))\n",
    "plt.subplot(1,2,1)\n",
    "plt.plot(history.history['loss'], 'b-', label='Train Loss')\n",
    "plt.plot(history.history['val_loss'], 'r:', label='Validation Loss')\n",
    "plt.legend()\n",
    "plt.grid()\n",
    "\n",
    "plt.subplot(1,2,2)\n",
    "plt.plot(history.history['acc'], 'b-', label='Train Accuracy')\n",
    "plt.plot(history.history['val_acc'], 'r:', label='Validation Accuracy')\n",
    "plt.legend()\n",
    "plt.grid();"
   ]
  },
  {
   "cell_type": "markdown",
   "metadata": {
    "id": "3GtELilA_avO"
   },
   "source": [
    "### 모델 평가"
   ]
  },
  {
   "cell_type": "code",
   "execution_count": 29,
   "metadata": {
    "id": "_U0Dz9je2ESh"
   },
   "outputs": [
    {
     "name": "stdout",
     "output_type": "stream",
     "text": [
      "782/782 [==============================] - 1s 1ms/step - loss: 0.4843 - acc: 0.8052\n"
     ]
    },
    {
     "data": {
      "text/plain": [
       "[0.4843273460865021, 0.8051599860191345]"
      ]
     },
     "execution_count": 29,
     "metadata": {},
     "output_type": "execute_result"
    }
   ],
   "source": [
    "model.evaluate(padded_x_test, y_test)"
   ]
  },
  {
   "cell_type": "markdown",
   "metadata": {
    "id": "6aJqudd0AwGa"
   },
   "source": [
    "### 단어의 수를 늘린 후 재학습"
   ]
  },
  {
   "cell_type": "code",
   "execution_count": 65,
   "metadata": {
    "id": "C1itQHMDA1hn"
   },
   "outputs": [],
   "source": [
    "num_words = 2000\n",
    "max_len = 400\n",
    "\n",
    "(x_train, y_train), (x_test, y_test) = imdb.load_data(num_words=num_words)\n",
    "\n",
    "pad_x_train_2 = pad_sequences(x_train, maxlen=max_len, padding='pre')\n",
    "pad_x_test_2 = pad_sequences(x_test, maxlen=max_len, padding='pre')"
   ]
  },
  {
   "cell_type": "markdown",
   "metadata": {
    "id": "e2WL_yueBibH"
   },
   "source": [
    "데이터 확인"
   ]
  },
  {
   "cell_type": "code",
   "execution_count": 66,
   "metadata": {
    "id": "AydBwyBMA1ku"
   },
   "outputs": [
    {
     "name": "stdout",
     "output_type": "stream",
     "text": [
      "[1, 14, 22, 16, 43, 530, 973, 1622, 1385, 65, 458, 2, 66, 2, 4, 173, 36, 256, 5, 25, 100, 43, 838, 112, 50, 670, 2, 9, 35, 480, 284, 5, 150, 4, 172, 112, 167, 2, 336, 385, 39, 4, 172, 2, 1111, 17, 546, 38, 13, 447, 4, 192, 50, 16, 6, 147, 2, 19, 14, 22, 4, 1920, 2, 469, 4, 22, 71, 87, 12, 16, 43, 530, 38, 76, 15, 13, 1247, 4, 22, 17, 515, 17, 12, 16, 626, 18, 2, 5, 62, 386, 12, 8, 316, 8, 106, 5, 4, 2, 2, 16, 480, 66, 2, 33, 4, 130, 12, 16, 38, 619, 5, 25, 124, 51, 36, 135, 48, 25, 1415, 33, 6, 22, 12, 215, 28, 77, 52, 5, 14, 407, 16, 82, 2, 8, 4, 107, 117, 2, 15, 256, 4, 2, 7, 2, 5, 723, 36, 71, 43, 530, 476, 26, 400, 317, 46, 7, 4, 2, 1029, 13, 104, 88, 4, 381, 15, 297, 98, 32, 2, 56, 26, 141, 6, 194, 2, 18, 4, 226, 22, 21, 134, 476, 26, 480, 5, 144, 30, 2, 18, 51, 36, 28, 224, 92, 25, 104, 4, 226, 65, 16, 38, 1334, 88, 12, 16, 283, 5, 16, 2, 113, 103, 32, 15, 16, 2, 19, 178, 32]\n",
      "[   0    0    0    0    0    0    0    0    0    0    0    0    0    0\n",
      "    0    0    0    0    0    0    0    0    0    0    0    0    0    0\n",
      "    0    0    0    0    0    0    0    0    0    0    0    0    0    0\n",
      "    0    0    0    0    0    0    0    0    0    0    0    0    0    0\n",
      "    0    0    0    0    0    0    0    0    0    0    0    0    0    0\n",
      "    0    0    0    0    0    0    0    0    0    0    0    0    0    0\n",
      "    0    0    0    0    0    0    0    0    0    0    0    0    0    0\n",
      "    0    0    0    0    0    0    0    0    0    0    0    0    0    0\n",
      "    0    0    0    0    0    0    0    0    0    0    0    0    0    0\n",
      "    0    0    0    0    0    0    0    0    0    0    0    0    0    0\n",
      "    0    0    0    0    0    0    0    0    0    0    0    0    0    0\n",
      "    0    0    0    0    0    0    0    0    0    0    0    0    0    0\n",
      "    0    0    0    0    0    0    0    0    0    0    0    0    0    0\n",
      "    1   14   22   16   43  530  973 1622 1385   65  458    2   66    2\n",
      "    4  173   36  256    5   25  100   43  838  112   50  670    2    9\n",
      "   35  480  284    5  150    4  172  112  167    2  336  385   39    4\n",
      "  172    2 1111   17  546   38   13  447    4  192   50   16    6  147\n",
      "    2   19   14   22    4 1920    2  469    4   22   71   87   12   16\n",
      "   43  530   38   76   15   13 1247    4   22   17  515   17   12   16\n",
      "  626   18    2    5   62  386   12    8  316    8  106    5    4    2\n",
      "    2   16  480   66    2   33    4  130   12   16   38  619    5   25\n",
      "  124   51   36  135   48   25 1415   33    6   22   12  215   28   77\n",
      "   52    5   14  407   16   82    2    8    4  107  117    2   15  256\n",
      "    4    2    7    2    5  723   36   71   43  530  476   26  400  317\n",
      "   46    7    4    2 1029   13  104   88    4  381   15  297   98   32\n",
      "    2   56   26  141    6  194    2   18    4  226   22   21  134  476\n",
      "   26  480    5  144   30    2   18   51   36   28  224   92   25  104\n",
      "    4  226   65   16   38 1334   88   12   16  283    5   16    2  113\n",
      "  103   32   15   16    2   19  178   32]\n"
     ]
    }
   ],
   "source": [
    "print(x_train[0])\n",
    "print(pad_x_train_2[0])"
   ]
  },
  {
   "cell_type": "code",
   "execution_count": 67,
   "metadata": {
    "id": "mK2kQxNUA1eB"
   },
   "outputs": [
    {
     "name": "stdout",
     "output_type": "stream",
     "text": [
      "Model: \"sequential_1\"\n",
      "_________________________________________________________________\n",
      " Layer (type)                Output Shape              Param #   \n",
      "=================================================================\n",
      " embedding_1 (Embedding)     (None, 400, 32)           64000     \n",
      "                                                                 \n",
      " flatten_1 (Flatten)         (None, 12800)             0         \n",
      "                                                                 \n",
      " dense_1 (Dense)             (None, 1)                 12801     \n",
      "                                                                 \n",
      "=================================================================\n",
      "Total params: 76801 (300.00 KB)\n",
      "Trainable params: 76801 (300.00 KB)\n",
      "Non-trainable params: 0 (0.00 Byte)\n",
      "_________________________________________________________________\n"
     ]
    }
   ],
   "source": [
    "model = Sequential()\n",
    "\n",
    "model.add(Embedding(input_dim=num_words, output_dim=32,\n",
    "                    input_length=max_len))\n",
    "model.add(Flatten())\n",
    "model.add(Dense(1, activation='sigmoid'))\n",
    "\n",
    "model.summary()"
   ]
  },
  {
   "cell_type": "code",
   "execution_count": 69,
   "metadata": {
    "id": "I5BK5HXnBtIN"
   },
   "outputs": [],
   "source": [
    "model.compile(optimizer='rmsprop',\n",
    "              loss='binary_crossentropy',\n",
    "              metrics=['acc'])"
   ]
  },
  {
   "cell_type": "code",
   "execution_count": 71,
   "metadata": {
    "id": "odClZim0Bs-O"
   },
   "outputs": [],
   "source": [
    "history2 = model.fit(pad_x_train_2, y_train,\n",
    "                    epochs=10, verbose=0,\n",
    "                    batch_size=32,\n",
    "                    validation_split=0.2)"
   ]
  },
  {
   "cell_type": "code",
   "execution_count": 72,
   "metadata": {
    "id": "rVPTlmjZB--j"
   },
   "outputs": [
    {
     "data": {
      "image/png": "[encoded data removed]",
      "text/plain": [
       "<Figure size 800x400 with 2 Axes>"
      ]
     },
     "metadata": {},
     "output_type": "display_data"
    }
   ],
   "source": [
    "plt.figure(figsize=(8,4))\n",
    "plt.subplot(1,2,1)\n",
    "plt.plot(history2.history['loss'], 'b-', label='Train Loss')\n",
    "plt.plot(history2.history['val_loss'], 'r:', label='Validation Loss')\n",
    "plt.legend()\n",
    "plt.grid()\n",
    "\n",
    "plt.subplot(1,2,2)\n",
    "plt.plot(history2.history['acc'], 'b-', label='Train Accuracy')\n",
    "plt.plot(history2.history['val_acc'], 'r:', label='Validation Accuracy')\n",
    "plt.legend()\n",
    "plt.grid();"
   ]
  },
  {
   "cell_type": "markdown",
   "metadata": {
    "id": "6I0C5ueK73_g"
   },
   "source": [
    "위의 결과도 나쁘지 않으나 과적합이 되는 이유\n",
    "- 단어간 관계나 문장 구조 등 의미적 연결을 고려하지 않음\n",
    "\n",
    "- 시퀀스 전체를 고려한 특성을 학습하는 것은 `Embedding`층 위에 `RNN`층이나 `1D 합성곱`을 추가하는 것이 좋음\n"
   ]
  },
  {
   "cell_type": "markdown",
   "metadata": {
    "id": "ud_-PnE873_h"
   },
   "source": [
    "## Word2Vec\n",
    "\n",
    "- 2013년, Mikolov 와 동료들이 제안한 모형\n",
    "\n",
    "- 분류 등과 같이 별도의 레이블이 없이 텍스트 자체만 있어도 학습이 가능\n",
    "\n",
    "- Word2Vec의 방식  \n",
    "  주변 단어의 관계를 이용\n",
    "\n",
    "  - CBOW(continuous bag-of-words)\n",
    "    - 주변단어의 임베딩을 더해서 대상단어를 예측\n",
    "\n",
    "  - Skip-Gram\n",
    "    - 대상 단어의 임베딩으로 주변단어를 예측\n",
    "\n",
    "    - 일반적으로 CBOW보다 성능이 좋은 편\n",
    "\n",
    "    - 한번에 여러 단어를 예측해야하기 때문에 비효율적  \n",
    "      최근에는 **negative sampling**이라는 방법을 사용\n",
    "\n",
    "  <img src=\"https://www.researchgate.net/publication/328160770/figure/fig14/AS:679665089925122@1539056193562/CBOW-and-Skip-Gram-neural-architectures.ppm\">\n",
    "\n",
    "  <sub>출처: https://www.researchgate.net/figure/CBOW-and-Skip-Gram-neural-architectures_fig14_328160770</sub>"
   ]
  },
  {
   "cell_type": "markdown",
   "metadata": {
    "id": "QARhfhIt1j4I"
   },
   "source": [
    "## T-SNE"
   ]
  },
  {
   "cell_type": "markdown",
   "metadata": {
    "id": "v9ymcBIKl40u"
   },
   "source": [
    "* T-SNE(t-Stochastic Neighbor Embedding)은 고차원의 벡터들의 구조를 보존하며 저차원으로 사상하는 차원 축소 알고리즘\n",
    "* 단어 임베딩에서도 생성된 고차원 벡터들을 시각화하기 위해 이 T-SNE 알고리즘을 많이 이용\n",
    "\n",
    "* t-sne는 가장 먼저 원 공간의 데이터 유사도 $p_{ij}$와 임베딩 공간의 데이터 유사도 $q_{ij}$를 정의\n",
    "* $x_i$에서 $x_j$ 간의 유사도 $p_{j|i}$ 는 다음과 같이 정의\n",
    "\n",
    "$$ p_{j|i} = \\frac {exp({-|x_i - x_j|}^2 / 2  \\sigma^2_i)}{\\sum_{k \\neq i}exp({-|x_i - x_k|}^2 / 2  \\sigma^2_i)} $$\n",
    "\n",
    "* 설명하자면 $p_{j|i}$는 $x_i$와 $x_j$ 간의 거리에서 가중치 $\\sigma^2_i$로 나눈 후, 이를 negative exponential을 취해 모든 점 간의 거리의 합과 나누어준 값으로 두 점 간의 거리가 가까울 수록 큰 값을 가짐\n",
    "\n",
    "* 또한 임베딩 공간에서의 $y_i$에서 $y_j$ 간의 유사도 $q_{j|i}$ 는 다음과 같이 정의\n",
    "\n",
    "$$ q_{j|i} = \\frac {(1 + |y_i-y_j|^2)^{-1}}{\\sum_{k \\neq l}(1 + |y_i-y_j|^2)^{-1}} $$\n",
    "\n",
    "* $q_{j|i}$는 $x_i$와 $x_j$ 간의 거리에서 1을 더해준 후 역수를 취한 값과 전체 합산 값과 나누어 유사도를 정의\n",
    "\n",
    "* T-SNE의 학습은 $p_{j|i}$와 비슷해지도록 $q_{j|i}$의 위치를 조정하는 것이라고 할 수 있음\n",
    "\n"
   ]
  },
  {
   "cell_type": "markdown",
   "metadata": {
    "id": "d7ocZw5XSRDN"
   },
   "source": [
    "## 데이터 준비"
   ]
  },
  {
   "cell_type": "code",
   "execution_count": 30,
   "metadata": {
    "id": "ohSE_JnMSRDR"
   },
   "outputs": [
    {
     "name": "stdout",
     "output_type": "stream",
     "text": [
      "11314\n"
     ]
    }
   ],
   "source": [
    "from sklearn.datasets import fetch_20newsgroups\n",
    "\n",
    "data = fetch_20newsgroups(shuffle=True, random_state=2,\n",
    "                          remove=('headers', 'footers', 'quotes'))\n",
    "docs = data.data\n",
    "print(len(docs))"
   ]
  },
  {
   "cell_type": "code",
   "execution_count": 31,
   "metadata": {
    "id": "ohSE_JnMSRDR"
   },
   "outputs": [
    {
     "data": {
      "text/plain": [
       "\"Something about how Koresh had threatened to cause local \\nproblems with all these wepaons he had and was alleged to\\nhave.  \\n\\nSomeone else will post more details soon, I'm sure.\\n\\nOther News:\\nSniper injures 9 outside MCA buildling in L.A.  Man arrested--suspect\\nwas disgruntled employee of Universal Studios, which\\nis a division of M.C.A.\\n\\n\\nQUESTION:\\nWhat will Californians do with all those guns after the Reginald\\ndenny trial?\""
      ]
     },
     "execution_count": 31,
     "metadata": {},
     "output_type": "execute_result"
    }
   ],
   "source": [
    "docs[0]"
   ]
  },
  {
   "cell_type": "markdown",
   "metadata": {
    "id": "E56d3KXroenQ"
   },
   "source": [
    "## 전처리"
   ]
  },
  {
   "cell_type": "code",
   "execution_count": 32,
   "metadata": {
    "id": "E56d3KXroenQ"
   },
   "outputs": [
    {
     "name": "stderr",
     "output_type": "stream",
     "text": [
      "[nltk_data] Downloading package stopwords to\n",
      "[nltk_data]     C:\\Users\\master\\AppData\\Roaming\\nltk_data...\n",
      "[nltk_data]   Package stopwords is already up-to-date!\n",
      "[nltk_data] Downloading package punkt to\n",
      "[nltk_data]     C:\\Users\\master\\AppData\\Roaming\\nltk_data...\n",
      "[nltk_data]   Package punkt is already up-to-date!\n"
     ]
    },
    {
     "data": {
      "text/plain": [
       "True"
      ]
     },
     "execution_count": 32,
     "metadata": {},
     "output_type": "execute_result"
    }
   ],
   "source": [
    "import re, nltk\n",
    "from nltk.corpus import stopwords\n",
    "from nltk.tokenize import word_tokenize\n",
    "nltk.download('stopwords')\n",
    "nltk.download('punkt')"
   ]
  },
  {
   "cell_type": "code",
   "execution_count": 33,
   "metadata": {
    "id": "E56d3KXroenQ"
   },
   "outputs": [],
   "source": [
    "def clean_text(d):     #알파벳과 공백문자가 아닌 텍스트 삭제\n",
    "    pattern = r'[^a-zA-Z\\s]'\n",
    "    text = re.sub(pattern, '', d)\n",
    "    return text"
   ]
  },
  {
   "cell_type": "code",
   "execution_count": 34,
   "metadata": {
    "id": "E56d3KXroenQ"
   },
   "outputs": [],
   "source": [
    "def clean_stopword(d):\n",
    "    stop_words = stopwords.words('english')\n",
    "    result = ' '.join([w.lower() for w in d.split() if w.lower() not in stop_words and len(w)>3])\n",
    "    return result"
   ]
  },
  {
   "cell_type": "code",
   "execution_count": 35,
   "metadata": {
    "id": "E56d3KXroenQ"
   },
   "outputs": [],
   "source": [
    "def tokenize(d):   #빈칸 기준으로 단어를 나누는 토큰화\n",
    "    return word_tokenize(d)"
   ]
  },
  {
   "cell_type": "code",
   "execution_count": 36,
   "metadata": {
    "id": "QCo9S9RlrfQg"
   },
   "outputs": [
    {
     "name": "stdout",
     "output_type": "stream",
     "text": [
      "11314\n"
     ]
    }
   ],
   "source": [
    "import pandas as pd\n",
    "\n",
    "news_df = pd.DataFrame({'article':docs})\n",
    "print(len(news_df))"
   ]
  },
  {
   "cell_type": "code",
   "execution_count": 37,
   "metadata": {
    "id": "QCo9S9RlrfQg"
   },
   "outputs": [
    {
     "name": "stdout",
     "output_type": "stream",
     "text": [
      "11096\n",
      "                                             article\n",
      "0  Something about how Koresh had threatened to c...\n",
      "1  I have an Okidata 2410 printer for which I wou...\n"
     ]
    }
   ],
   "source": [
    "news_df.replace('', float('NaN'), inplace=True)\n",
    "news_df.dropna(inplace=True)\n",
    "print(len(news_df))\n",
    "print(news_df.head(2))"
   ]
  },
  {
   "cell_type": "code",
   "execution_count": 38,
   "metadata": {
    "id": "QCo9S9RlrfQg"
   },
   "outputs": [
    {
     "name": "stdout",
     "output_type": "stream",
     "text": [
      "                                             article\n",
      "0  something koresh threatened cause local proble...\n",
      "1  okidata printer would like printer driver anyo...\n"
     ]
    }
   ],
   "source": [
    "news_df['article'] = news_df['article'].apply(clean_text)\n",
    "news_df['article'] = news_df['article'].apply(clean_stopword)\n",
    "print(news_df.head(2))"
   ]
  },
  {
   "cell_type": "code",
   "execution_count": 41,
   "metadata": {
    "id": "9xzZu6Iprj5B"
   },
   "outputs": [
    {
     "data": {
      "text/plain": [
       "'something koresh threatened cause local problems wepaons alleged someone else post details soon sure news sniper injures outside buildling arrestedsuspect disgruntled employee universal studios division question californians guns reginald denny trial'"
      ]
     },
     "execution_count": 41,
     "metadata": {},
     "output_type": "execute_result"
    }
   ],
   "source": [
    "news_df.loc[0][0]"
   ]
  },
  {
   "cell_type": "code",
   "execution_count": 42,
   "metadata": {
    "id": "Oi3PJ7dMsF8K"
   },
   "outputs": [
    {
     "data": {
      "text/plain": [
       "31"
      ]
     },
     "execution_count": 42,
     "metadata": {},
     "output_type": "execute_result"
    }
   ],
   "source": [
    "tokenized_df = news_df['article'].apply(tokenize)\n",
    "tokenized_list = tokenized_df.to_list()\n",
    "\n",
    "len(tokenized_list[0])"
   ]
  },
  {
   "cell_type": "code",
   "execution_count": 53,
   "metadata": {
    "id": "ViSra6MYuM9x"
   },
   "outputs": [
    {
     "name": "stdout",
     "output_type": "stream",
     "text": [
      "10939\n"
     ]
    }
   ],
   "source": [
    "import numpy as np\n",
    "\n",
    "drop_news = [i for i, sentence in enumerate(tokenized_list) if len(sentence)<=1]\n",
    "news_text = np.delete(np.array(tokenized_list, dtype=object), drop_news, axis=0)\n",
    "\n",
    "print(len(news_text))"
   ]
  },
  {
   "cell_type": "code",
   "execution_count": 78,
   "metadata": {
    "id": "uMCYgUIpSREH"
   },
   "outputs": [
    {
     "data": {
      "text/plain": [
       "array([list(['something', 'koresh', 'threatened', 'cause', 'local', 'problems', 'wepaons', 'alleged', 'someone', 'else', 'post', 'details', 'soon', 'sure', 'news', 'sniper', 'injures', 'outside', 'buildling', 'arrestedsuspect', 'disgruntled', 'employee', 'universal', 'studios', 'division', 'question', 'californians', 'guns', 'reginald', 'denny', 'trial']),\n",
       "       list(['okidata', 'printer', 'would', 'like', 'printer', 'driver', 'anyone', 'seen', 'thing', 'microsoft', 'print', 'windows', 'fonts', 'available', 'paradox', 'windows', 'cant', 'print', 'labels', 'unless', 'proper', 'printer', 'defined', 'thanks', 'bryan', 'ward', 'survey', 'research', 'center', 'university', 'utah']),\n",
       "       list(['replaced', 'motherboard', 'system', 'similar', 'questions', 'cents', 'worth', 'speaker', 'connector', 'wires', 'going', 'speaker', 'speaker', 'coil', 'bidirectional', 'makes', 'difference', 'attach', 'turbo', 'switch', 'three', 'wires', 'control', 'want', 'turbo', 'become', 'active', 'switch', 'pushed', 'switch', 'think', 'middle', 'wire', 'common', 'meter', 'figure', 'wire', 'connects', 'common', 'wire', 'switch', 'pushed', 'wires', 'connected', 'switch', 'place', 'appropriate', 'wires', 'turbo', 'berg', 'connector', 'motherboard', 'leds', 'turbo', 'leds', 'directional', 'depending', 'wires', 'attached', 'light', 'motherboard', 'turbo', 'switch', 'wires', 'attached', 'berg', 'connector', 'board', 'board', 'power', 'default', 'turbo', 'mode', 'motherboard', 'like', 'attace', 'wires', 'board', 'doesnt', 'light', 'power', 'reverse', 'connectors', 'work', 'attach', 'turbo', 'switch', 'board', 'hope', 'helps']),\n",
       "       ...,\n",
       "       list(['stop', 'hold', 'problems', 'official', 'history', 'says', 'first', 'accusations', 'homosexuality', 'came', 'outside', 'nazi', 'party', 'long', 'nazis', 'ever', 'came', 'power', 'objection', 'herring', 'even', 'established', 'history', 'wrong', 'point', 'moreover', 'none', 'histories', 'read', 'ever', 'made', 'mention', 'hitler', 'anyone', 'else', 'ever', 'using', 'homosexuality', 'pretext', 'purging', 'roehm', 'point', 'reiterated', 'hitler', 'party', 'covered', 'accusations', 'going', 'accuse', 'official', 'history', 'fabrication', 'least', 'facts', 'right', 'pretext', 'purging', 'roehm', 'planning', 'coup', 'hitler', 'nowhere', 'mention', 'using', 'allegations', 'homosexuality', 'pretext', 'purge', 'justification', 'afterwards', 'possible', 'histories', 'read', 'mentioned', 'doubt', 'would', 'hitlers', 'best', 'interest', 'admit', 'world', 'former', 'right', 'hand', 'homosexual', 'anyway', 'said', 'always', 'possible', 'missed', 'references', 'nazis', 'making', 'charges', 'homosexuality', 'night', 'long', 'knives', 'prove', 'false', 'even', 'nazis', 'could', 'tell', 'truth', 'advantage', 'case', 'deal', 'accusations', 'homosexuality', 'forgot', 'posted', 'altconspiracy', 'smell', 'paranoia', 'since', 'nazis', 'never', 'officially', 'charged', 'roehm', 'homosexuality', 'least', 'according', 'read', 'like', 'know', 'tainted', 'evidence', 'talking', 'since', 'accusations', 'made', 'persons', 'outside', 'nazi', 'party', 'long', 'came', 'power', 'accusations', 'common', 'knowledge', 'journalists', 'others', 'germany', 'would', 'possible', 'nazis', 'back', 'time', 'plant', 'tainted', 'evidence', 'exactly', 'doctor', 'newspapers', 'circulated', 'around', 'world', 'without', 'discrepancies', 'obvious', 'actual', 'incidences', 'nazi', 'doctoring', 'evidence', 'matter', 'know', 'testimony', 'people', 'involved', 'matters', 'nazis', 'point', 'making', 'false', 'accusation', 'homosexuality', 'publicize', 'since', 'point', 'seems', 'discredit', 'established', 'history', 'burden', 'proof', 'falls', 'revisionist', 'revisionists', 'better', 'homework', 'making', 'accusations', 'otherwise', 'simply', 'look', 'like', 'conspiracy', 'nuts', 'thing', 'agree', 'suspect', 'notion', 'might', 'people', 'roehm', 'buddies', 'homosexuals', 'must', 'disturb', 'people', 'feeling', 'seems', 'nasty', 'individual', 'accused', 'homosexuality', 'must', 'attempt', 'bash', 'homosexuals', 'fear', 'often', 'justified', 'lies', 'behind', 'distrust', 'official', 'history', 'seems', 'good', 'justification', 'trashing', 'accepted', 'accounts', 'subject', 'really', 'think', 'historians', 'incompetent', 'dont', 'write', 'sources', 'subject', 'cant', 'tell', 'footnotes', 'graduate', 'student', 'history', 'writing', 'professors', 'tracking', 'sources', 'time', 'limited', 'specialty', 'neither', 'anyone', 'else', 'said', 'anything', 'would', 'cast', 'shred', 'doubt', 'existing', 'evidence', 'going', 'waste', 'time', 'trying', 'debunk', 'someones', 'paranoia', 'research', 'given', 'already', 'consider', 'evidence', 'tainted', 'earth', 'would', 'constitute', 'concrete', 'particulars', 'since', 'concrete', 'particulars', 'considered', 'shrewd', 'guesses', 'suggest', 'trust', 'popular', 'historians', 'irving', 'historians', 'writing', 'popular', 'audience', 'rule', 'provide', 'copious', 'footnotes', 'instead', 'reading', 'academic', 'historians', 'usually', 'provide', 'footnotes', 'sources', 'immmense', 'detail', 'place', 'start', 'looking', 'assuming', 'really', 'wants', 'know', 'truth', 'folks', 'altpagan', 'tired', 'subject', 'already', 'apologies', 'seem', 'gone', 'tangent', 'forget', 'gods', 'responsible', 'keeping', 'strings', 'within', 'appropriate', 'newsgroup', 'subject', 'boundaries']),\n",
       "       list(['right', 'also', 'forgot', 'cant', 'barring', 'nobody', 'base', 'fraction', 'runs', 'come', 'solo', 'runs', 'scored', 'happened', 'players', 'base', 'batter', 'something', 'good', 'phrase', 'happened', 'advisedly', 'lots', 'people', 'tried', 'figure', 'players', 'ability', 'turn', 'notch', 'clutchrbiwhatever', 'situations', 'theyve', 'found', 'evidence', 'anyone', 'ability', 'measurable', 'extent', 'clutch', 'hitters', 'people', 'tend', 'things', 'would', 'cause', 'somebody', 'base', 'getting', 'rbis', 'proportional', 'many', 'teammates', 'obliged', 'position', 'agree']),\n",
       "       list(['hmmm', 'lets', 'could', 'upload', 'files', 'around', 'color', 'ones', 'rather', 'give', 'fishing', 'pole', 'instead', 'fishhere', 'goes', 'begginers', 'guide', 'coolest', 'windows', 'backgrounds', 'step', 'cica', 'ftpcicaindianaedu', 'useranonymous', 'passwd', 'guest', 'pubpcwinutildesktop', 'wingifzip', 'psprozip', 'gwszip', 'scale', 'dither', 'convert', 'gifs', 'bmps', 'index', 'file', 'subdir', 'future', 'reference', 'step', 'wuarchivewustledu', 'plazaaarneteduau', 'archiveorstedu', 'graphicsgif', 'index', 'file', 'gigabytes', 'pictures', 'waiting', 'become', 'desktop', 'advice', 'slow', 'computer', 'make', 'selecting', 'dither', 'abovementioned', 'apps', 'hope', 'helps'])],\n",
       "      dtype=object)"
      ]
     },
     "execution_count": 78,
     "metadata": {},
     "output_type": "execute_result"
    }
   ],
   "source": [
    "news_text"
   ]
  },
  {
   "cell_type": "markdown",
   "metadata": {
    "id": "IJ8Zkrar1umI"
   },
   "source": [
    "## Gensim을 이용한 Word2Vec"
   ]
  },
  {
   "cell_type": "markdown",
   "metadata": {
    "id": "-vw3V1fPp88u"
   },
   "source": [
    "### CBOW"
   ]
  },
  {
   "cell_type": "code",
   "execution_count": 74,
   "metadata": {
    "id": "aByJKUOXp-64"
   },
   "outputs": [],
   "source": [
    "from gensim.models import Word2Vec"
   ]
  },
  {
   "cell_type": "code",
   "execution_count": 75,
   "metadata": {
    "id": "aByJKUOXp-64"
   },
   "outputs": [],
   "source": [
    "model = Word2Vec(sentences=news_text, \n",
    "                 window=3,     #Maximum distance between the current and predicted word within a sentence\n",
    "                 vector_size=100,     #Dimensionality of the word vectors\n",
    "                 min_count=5,  #Ignores all words with total frequency lower than this\n",
    "                 workers=4,    #Use these many worker threads to train the model (=faster training with multicore machines).\n",
    "                 sg=0)         #1 for skip-gram; otherwise CBOW."
   ]
  },
  {
   "cell_type": "code",
   "execution_count": 76,
   "metadata": {
    "id": "u9Qigdn1THXO"
   },
   "outputs": [
    {
     "data": {
      "text/plain": [
       "[('turks', 0.9933054447174072),\n",
       " ('turkey', 0.9922646880149841),\n",
       " ('genocide', 0.988389253616333),\n",
       " ('armenia', 0.9883098602294922),\n",
       " ('villages', 0.9803398251533508),\n",
       " ('azeri', 0.9786325693130493),\n",
       " ('muslim', 0.9780528545379639),\n",
       " ('kurds', 0.9731791615486145),\n",
       " ('land', 0.971405565738678),\n",
       " ('army', 0.9691545963287354)]"
      ]
     },
     "execution_count": 76,
     "metadata": {},
     "output_type": "execute_result"
    }
   ],
   "source": [
    "model.wv.most_similar(positive=['soldiers'])"
   ]
  },
  {
   "cell_type": "code",
   "execution_count": 103,
   "metadata": {},
   "outputs": [
    {
     "data": {
      "text/plain": [
       "[('period', 0.7274631261825562),\n",
       " ('pittsburgh', 0.7246679663658142),\n",
       " ('north', 0.700224757194519),\n",
       " ('third', 0.6881362199783325),\n",
       " ('narimanov', 0.6868058443069458),\n",
       " ('philadelphia', 0.6861504316329956),\n",
       " ('division', 0.6753809452056885),\n",
       " ('chicago', 0.6750305891036987),\n",
       " ('maxaxaxaxaxaxaxaxaxaxaxaxaxax', 0.6715219616889954),\n",
       " ('louis', 0.6641533970832825)]"
      ]
     },
     "execution_count": 103,
     "metadata": {},
     "output_type": "execute_result"
    }
   ],
   "source": [
    "model.wv.most_similar(positive=['soldiers'], negative=['religion'])"
   ]
  },
  {
   "cell_type": "markdown",
   "metadata": {
    "id": "bKUEE4nnp5CR"
   },
   "source": [
    "### Skip-gram"
   ]
  },
  {
   "cell_type": "code",
   "execution_count": 104,
   "metadata": {
    "id": "lcXY8cG50VuX"
   },
   "outputs": [],
   "source": [
    "model = Word2Vec(sentences=news_text, \n",
    "                 window=3, \n",
    "                 vector_size=100,    \n",
    "                 min_count=5, \n",
    "                 workers=4, \n",
    "                 sg=1)    #1 for skip-gram; otherwise CBOW."
   ]
  },
  {
   "cell_type": "code",
   "execution_count": 105,
   "metadata": {
    "id": "lcXY8cG50VuX"
   },
   "outputs": [
    {
     "data": {
      "text/plain": [
       "[('azeri', 0.942372739315033),\n",
       " ('troops', 0.9346334934234619),\n",
       " ('wounded', 0.9336643815040588),\n",
       " ('murdered', 0.9310632348060608),\n",
       " ('massacre', 0.9282963275909424),\n",
       " ('refugees', 0.9277260899543762),\n",
       " ('karabakh', 0.9257349967956543),\n",
       " ('attacked', 0.9215260744094849),\n",
       " ('burned', 0.915864109992981),\n",
       " ('girls', 0.9152511358261108)]"
      ]
     },
     "execution_count": 105,
     "metadata": {},
     "output_type": "execute_result"
    }
   ],
   "source": [
    "model.wv.most_similar(positive=['soldiers'])"
   ]
  },
  {
   "cell_type": "code",
   "execution_count": 106,
   "metadata": {
    "id": "0ezmKn03TC3d"
   },
   "outputs": [
    {
     "data": {
      "text/plain": [
       "[('door', 0.49724841117858887),\n",
       " ('went', 0.4942329227924347),\n",
       " ('fired', 0.4901769757270813),\n",
       " ('burned', 0.48500925302505493),\n",
       " ('eight', 0.48417598009109497),\n",
       " ('baku', 0.4797894060611725),\n",
       " ('puck', 0.477811723947525),\n",
       " ('floor', 0.47515615820884705),\n",
       " ('dineen', 0.46862924098968506),\n",
       " ('broke', 0.4609653353691101)]"
      ]
     },
     "execution_count": 106,
     "metadata": {},
     "output_type": "execute_result"
    }
   ],
   "source": [
    "model.wv.most_similar(positive=['soldiers'], negative=['religion'])"
   ]
  },
  {
   "cell_type": "markdown",
   "metadata": {
    "id": "nrBZX9ZlSw6O"
   },
   "source": [
    "### 임베딩 벡터 시각화"
   ]
  },
  {
   "cell_type": "code",
   "execution_count": 107,
   "metadata": {
    "id": "gA674OcrStUQ"
   },
   "outputs": [],
   "source": [
    "from gensim.models import KeyedVectors\n",
    "\n",
    "#metadata.tsv와 tensor.tsv 데이터 생성\n",
    "model.wv.save_word2vec_format('news_w2v')  \n",
    "#Store the input-hidden weight matrix in the same format used by the original C word2vec-tool, for compatibility."
   ]
  },
  {
   "cell_type": "markdown",
   "metadata": {
    "id": "8yRepgJTWSte"
   },
   "source": [
    "* metadata.tsv와 tensor.tsv 데이터 생성"
   ]
  },
  {
   "cell_type": "code",
   "execution_count": 108,
   "metadata": {
    "id": "gA674OcrStUQ"
   },
   "outputs": [
    {
     "name": "stderr",
     "output_type": "stream",
     "text": [
      "C:\\Users\\master\\anaconda3\\envs\\py38\\lib\\site-packages\\paramiko\\transport.py:219: CryptographyDeprecationWarning: Blowfish has been deprecated\n",
      "  \"class\": algorithms.Blowfish,\n",
      "2024-01-03 18:25:42,796 - word2vec2tensor - INFO - running C:\\Users\\master\\anaconda3\\envs\\py38\\lib\\site-packages\\gensim\\scripts\\word2vec2tensor.py -i news_w2v -o news_w2v\n",
      "2024-01-03 18:25:42,796 - keyedvectors - INFO - loading projection weights from news_w2v\n",
      "2024-01-03 18:25:43,860 - utils - INFO - KeyedVectors lifecycle event {'msg': 'loaded (16996, 100) matrix of type float32 from news_w2v', 'binary': False, 'encoding': 'utf8', 'datetime': '2024-01-03T18:25:43.860572', 'gensim': '4.3.2', 'python': '3.8.0 (default, Nov  6 2019, 16:00:02) [MSC v.1916 64 bit (AMD64)]', 'platform': 'Windows-10-10.0.19041-SP0', 'event': 'load_word2vec_format'}\n",
      "2024-01-03 18:25:44,956 - word2vec2tensor - INFO - 2D tensor file saved to news_w2v_tensor.tsv\n",
      "2024-01-03 18:25:44,956 - word2vec2tensor - INFO - Tensor metadata file saved to news_w2v_metadata.tsv\n",
      "2024-01-03 18:25:44,958 - word2vec2tensor - INFO - finished running word2vec2tensor.py\n"
     ]
    }
   ],
   "source": [
    "!python -m gensim.scripts.word2vec2tensor -i news_w2v -o news_w2v"
   ]
  },
  {
   "cell_type": "markdown",
   "metadata": {
    "id": "nD_aU-YOTEon"
   },
   "source": [
    "* Embedding Projector: https://projector.tensorflow.org/"
   ]
  },
  {
   "cell_type": "markdown",
   "metadata": {},
   "source": [
    "## Keras를 이용한 Word2Vec, Skipgram, CBOW 구현\n",
    "\n",
    "출처: https://github.com/yeon93/NLP_study/blob/main/07_embedding.ipynb"
   ]
  },
  {
   "cell_type": "code",
   "execution_count": 109,
   "metadata": {},
   "outputs": [
    {
     "name": "stdout",
     "output_type": "stream",
     "text": [
      "11314\n"
     ]
    },
    {
     "data": {
      "text/plain": [
       "\"Something about how Koresh had threatened to cause local \\nproblems with all these wepaons he had and was alleged to\\nhave.  \\n\\nSomeone else will post more details soon, I'm sure.\\n\\nOther News:\\nSniper injures 9 outside MCA buildling in L.A.  Man arrested--suspect\\nwas disgruntled employee of Universal Studios, which\\nis a division of M.C.A.\\n\\n\\nQUESTION:\\nWhat will Californians do with all those guns after the Reginald\\ndenny trial?\""
      ]
     },
     "execution_count": 109,
     "metadata": {},
     "output_type": "execute_result"
    }
   ],
   "source": [
    "from sklearn.datasets import fetch_20newsgroups\n",
    "\n",
    "data = fetch_20newsgroups(shuffle=True, random_state=2, remove=('headers', 'footers', 'quotes'))\n",
    "docs = data.data\n",
    "\n",
    "print(len(docs))\n",
    "docs[0]          #이메일주소, 개행문자, 숫자 전처리 필요"
   ]
  },
  {
   "cell_type": "code",
   "execution_count": 110,
   "metadata": {},
   "outputs": [],
   "source": [
    "import re, nltk\n",
    "from nltk.corpus import stopwords\n",
    "from nltk.tokenize import word_tokenize\n",
    "#nltk.download('stopwords')\n",
    "#nltk.download('punkt')\n",
    "\n",
    "def clean_text(d): \n",
    "    pattern = r'[^a-zA-Z\\s]'\n",
    "    text = re.sub(pattern, '', d)\n",
    "    return text\n",
    "\n",
    "def clean_stopword(d):\n",
    "    stop_words = stopwords.words('english')\n",
    "    return ' '.join([w.lower() for w in d.split() if w.lower() not in stop_words and len(w) > 3])\n",
    "\n",
    "def tokenize(d):\n",
    "    return word_tokenize(d)"
   ]
  },
  {
   "cell_type": "code",
   "execution_count": 111,
   "metadata": {},
   "outputs": [
    {
     "name": "stdout",
     "output_type": "stream",
     "text": [
      "11314\n",
      "11096\n"
     ]
    },
    {
     "data": {
      "text/html": [
       "<div>\n",
       "<style scoped>\n",
       "    .dataframe tbody tr th:only-of-type {\n",
       "        vertical-align: middle;\n",
       "    }\n",
       "\n",
       "    .dataframe tbody tr th {\n",
       "        vertical-align: top;\n",
       "    }\n",
       "\n",
       "    .dataframe thead th {\n",
       "        text-align: right;\n",
       "    }\n",
       "</style>\n",
       "<table border=\"1\" class=\"dataframe\">\n",
       "  <thead>\n",
       "    <tr style=\"text-align: right;\">\n",
       "      <th></th>\n",
       "      <th>article</th>\n",
       "    </tr>\n",
       "  </thead>\n",
       "  <tbody>\n",
       "    <tr>\n",
       "      <th>11311</th>\n",
       "      <td>stop hold problems official history says first...</td>\n",
       "    </tr>\n",
       "    <tr>\n",
       "      <th>11312</th>\n",
       "      <td>right also forgot cant barring nobody base fra...</td>\n",
       "    </tr>\n",
       "    <tr>\n",
       "      <th>11313</th>\n",
       "      <td>hmmm lets could upload files around color ones...</td>\n",
       "    </tr>\n",
       "  </tbody>\n",
       "</table>\n",
       "</div>"
      ],
      "text/plain": [
       "                                                 article\n",
       "11311  stop hold problems official history says first...\n",
       "11312  right also forgot cant barring nobody base fra...\n",
       "11313  hmmm lets could upload files around color ones..."
      ]
     },
     "execution_count": 111,
     "metadata": {},
     "output_type": "execute_result"
    }
   ],
   "source": [
    "\n",
    "import pandas as pd\n",
    "\n",
    "news_df = pd.DataFrame({'article':docs})\n",
    "print(len(news_df)) \n",
    "\n",
    "news_df.replace('', float(\"NaN\"), inplace=True)\n",
    "news_df.dropna(inplace=True)\n",
    "print(len(news_df))\n",
    "\n",
    "news_df['article'] = news_df['article'].apply(clean_text)\n",
    "news_df['article'] = news_df['article'].apply(clean_stopword)\n",
    "news_df.tail(3)  #index가 맞지 않음"
   ]
  },
  {
   "cell_type": "code",
   "execution_count": 112,
   "metadata": {},
   "outputs": [
    {
     "data": {
      "text/html": [
       "<div>\n",
       "<style scoped>\n",
       "    .dataframe tbody tr th:only-of-type {\n",
       "        vertical-align: middle;\n",
       "    }\n",
       "\n",
       "    .dataframe tbody tr th {\n",
       "        vertical-align: top;\n",
       "    }\n",
       "\n",
       "    .dataframe thead th {\n",
       "        text-align: right;\n",
       "    }\n",
       "</style>\n",
       "<table border=\"1\" class=\"dataframe\">\n",
       "  <thead>\n",
       "    <tr style=\"text-align: right;\">\n",
       "      <th></th>\n",
       "      <th>article</th>\n",
       "    </tr>\n",
       "  </thead>\n",
       "  <tbody>\n",
       "    <tr>\n",
       "      <th>11093</th>\n",
       "      <td>stop hold problems official history says first...</td>\n",
       "    </tr>\n",
       "    <tr>\n",
       "      <th>11094</th>\n",
       "      <td>right also forgot cant barring nobody base fra...</td>\n",
       "    </tr>\n",
       "    <tr>\n",
       "      <th>11095</th>\n",
       "      <td>hmmm lets could upload files around color ones...</td>\n",
       "    </tr>\n",
       "  </tbody>\n",
       "</table>\n",
       "</div>"
      ],
      "text/plain": [
       "                                                 article\n",
       "11093  stop hold problems official history says first...\n",
       "11094  right also forgot cant barring nobody base fra...\n",
       "11095  hmmm lets could upload files around color ones..."
      ]
     },
     "execution_count": 112,
     "metadata": {},
     "output_type": "execute_result"
    }
   ],
   "source": [
    "news_df = news_df.reset_index()\n",
    "del news_df['index']\n",
    "news_df.tail(3)"
   ]
  },
  {
   "cell_type": "code",
   "execution_count": 113,
   "metadata": {},
   "outputs": [],
   "source": [
    "tokenized_news = news_df['article'].apply(tokenize)\n",
    "tokenized_news =tokenized_news.to_list()"
   ]
  },
  {
   "cell_type": "code",
   "execution_count": 115,
   "metadata": {},
   "outputs": [
    {
     "name": "stdout",
     "output_type": "stream",
     "text": [
      "10939\n"
     ]
    }
   ],
   "source": [
    "import numpy as np\n",
    "\n",
    "drop_news = [index for index, sentence in enumerate(tokenized_news) if len(sentence) <= 1] \n",
    "news_texts = np.delete(np.array(tokenized_news, dtype='object'), drop_news, axis = 0)                               \n",
    "print(len(news_texts)) "
   ]
  },
  {
   "cell_type": "code",
   "execution_count": 116,
   "metadata": {},
   "outputs": [
    {
     "name": "stdout",
     "output_type": "stream",
     "text": [
      "27778\n"
     ]
    }
   ],
   "source": [
    "# 단어 사전 만들기\n",
    "from tensorflow.keras.preprocessing.text import Tokenizer\n",
    "\n",
    "news_2000 = news_texts[:2000]\n",
    "tokenizer = Tokenizer()\n",
    "tokenizer.fit_on_texts(news_2000)\n",
    "\n",
    "idx2word = {value:key for key, value in tokenizer.word_index.items()}\n",
    "sequences = tokenizer.texts_to_sequences(news_2000)\n",
    "vocab_size = len(tokenizer.word_index) + 1\n",
    "print(vocab_size) "
   ]
  },
  {
   "cell_type": "markdown",
   "metadata": {},
   "source": [
    "### 2. Skipgram\n",
    "\n",
    "전처리에서 Negative Sampling\r\n",
    "- Word2Vec은 출력층이 내놓는 값에 소프트맥스 함수를 적용해 확률값으로 변환한 후 이를 정답과 비교해 역전파\r\n",
    "- 소프트맥스를 적용하려면 분모에 해당하는 값, 즉 중심단어와 나머지 모든 단어의 내적을 한 뒤, 이를 다시 exp 계산을 하는데 전체 단어가 많을 경우 엄청난 계산량 발생  \r\n",
    "- 네거티브 샘플링은 소프트맥스 확률을 구할 때 전체 단어를 대상으로 구하지 않고, 일부 단어만 뽑아서 계산을 하는 방식\r\n",
    "- 네거티브 샘플링 동작은 사용자가 지정한 윈도우 사이즈 내에 등장하지 않는 단어(negative sample)를 5~20개 정도 뽑고,\r\n",
    "      \r\n",
    "이를 정답단어와 합쳐 전체 단어처럼 소프트맥스 확률을 계산하여 파라미터 업데이트터 업데이트"
   ]
  },
  {
   "cell_type": "code",
   "execution_count": 117,
   "metadata": {},
   "outputs": [
    {
     "name": "stdout",
     "output_type": "stream",
     "text": [
      "sure(59), intervention(2251) -> 0\n",
      "sniper(5528), someone(90) -> 1\n",
      "denny(12038), fennelly(20975) -> 0\n",
      "disgruntled(12034), allnatural(19524) -> 0\n",
      "sniper(5528), problems(173) -> 1\n",
      "10 1020 1020\n"
     ]
    }
   ],
   "source": [
    "from tensorflow.keras.preprocessing.sequence import skipgrams\n",
    "\n",
    "skip_grams = [skipgrams(sample, vocabulary_size=vocab_size, window_size=10) for sample in sequences[:10]] # 10개 단어 샘플\n",
    "pairs, labels = skip_grams[0][0], skip_grams[0][1]\n",
    "for i in range(5):\n",
    "    print(\"{:s}({:d}), {:s}({:d}) -> {:d}\".format(idx2word[pairs[i][0]], pairs[i][0],\n",
    "                                                  idx2word[pairs[i][1]], pairs[i][1],\n",
    "                                                  labels[i]))\n",
    "    \n",
    "print(len(skip_grams), len(pairs), len(labels)) "
   ]
  },
  {
   "cell_type": "code",
   "execution_count": 118,
   "metadata": {},
   "outputs": [
    {
     "name": "stdout",
     "output_type": "stream",
     "text": [
      "Model: \"model\"\n",
      "__________________________________________________________________________________________________\n",
      " Layer (type)                Output Shape                 Param #   Connected to                  \n",
      "==================================================================================================\n",
      " input_1 (InputLayer)        [(None, 1)]                  0         []                            \n",
      "                                                                                                  \n",
      " input_2 (InputLayer)        [(None, 1)]                  0         []                            \n",
      "                                                                                                  \n",
      " embedding_2 (Embedding)     (None, 1, 50)                1388900   ['input_1[0][0]']             \n",
      "                                                                                                  \n",
      " embedding_3 (Embedding)     (None, 1, 50)                1388900   ['input_2[0][0]']             \n",
      "                                                                                                  \n",
      " dot (Dot)                   (None, 1, 1)                 0         ['embedding_2[0][0]',         \n",
      "                                                                     'embedding_3[0][0]']         \n",
      "                                                                                                  \n",
      " reshape (Reshape)           (None, 1)                    0         ['dot[0][0]']                 \n",
      "                                                                                                  \n",
      " activation (Activation)     (None, 1)                    0         ['reshape[0][0]']             \n",
      "                                                                                                  \n",
      "==================================================================================================\n",
      "Total params: 2777800 (10.60 MB)\n",
      "Trainable params: 2777800 (10.60 MB)\n",
      "Non-trainable params: 0 (0.00 Byte)\n",
      "__________________________________________________________________________________________________\n"
     ]
    }
   ],
   "source": [
    "from tensorflow.keras.models import Sequential, Model\n",
    "from tensorflow.keras.layers import Embedding, Reshape, Activation, Input, Dot\n",
    "\n",
    "embed_size = 50\n",
    "\n",
    "def word2vec():\n",
    "    target_inputs = Input(shape=(1,), dtype='int32')\n",
    "    target_embedding = Embedding(vocab_size, embed_size)(target_inputs)\n",
    "    \n",
    "    context_inputs = Input(shape=(1,), dtype='int32')\n",
    "    context_embedding = Embedding(vocab_size, embed_size)(context_inputs)\n",
    "    \n",
    "    dot_product = Dot(axes=2)([target_embedding, context_embedding])\n",
    "    dot_product = Reshape((1,), input_shape=(1,1))(dot_product)\n",
    "    output = Activation('sigmoid')(dot_product)\n",
    "    \n",
    "    model = Model(inputs=[target_inputs, context_inputs], outputs=output)\n",
    "    model.compile(loss='binary_crossentropy', optimizer='adam')\n",
    "    \n",
    "    return model\n",
    "\n",
    "model = word2vec()\n",
    "model.summary()"
   ]
  },
  {
   "cell_type": "code",
   "execution_count": 138,
   "metadata": {},
   "outputs": [
    {
     "name": "stdout",
     "output_type": "stream",
     "text": [
      "You must install pydot (`pip install pydot`) and install graphviz (see instructions at https://graphviz.gitlab.io/download/) for plot_model to work.\n"
     ]
    }
   ],
   "source": [
    "from tensorflow.keras.utils import plot_model\n",
    "\n",
    "plot_model(model, show_shapes=True, show_layer_names=True)"
   ]
  },
  {
   "cell_type": "code",
   "execution_count": 122,
   "metadata": {},
   "outputs": [
    {
     "name": "stdout",
     "output_type": "stream",
     "text": [
      "Epoch :  1 Loss :  6.931315124034882\n",
      "Epoch :  2 Loss :  6.918683350086212\n",
      "Epoch :  3 Loss :  6.905581295490265\n",
      "Epoch :  4 Loss :  6.889990389347076\n",
      "Epoch :  5 Loss :  6.87067848443985\n",
      "Epoch :  6 Loss :  6.846556663513184\n",
      "Epoch :  7 Loss :  6.8166502714157104\n",
      "Epoch :  8 Loss :  6.780100405216217\n",
      "Epoch :  9 Loss :  6.736171841621399\n",
      "Epoch :  10 Loss :  6.684262454509735\n"
     ]
    }
   ],
   "source": [
    "for epoch in range(1,11):\n",
    "    loss = 0\n",
    "    for _, elem in enumerate(skip_grams):\n",
    "        first_elem = np.array(list(zip(*elem[0]))[0], dtype='int32')\n",
    "        second_elem = np.array(list(zip(*elem[0]))[1], dtype='int32')\n",
    "        labels = np.array(elem[1], dtype='int32')\n",
    "        X = [first_elem, second_elem] \n",
    "        Y = labels \n",
    "        loss += model.train_on_batch(X,Y) # 한번의 epoch에 여러 번 트레이닝\n",
    "        \n",
    "    print('Epoch : ', epoch, 'Loss : ', loss)"
   ]
  },
  {
   "cell_type": "code",
   "execution_count": 125,
   "metadata": {},
   "outputs": [],
   "source": [
    "import gensim\n",
    "\n",
    "f = open('skipgram.txt', 'w')\n",
    "f.write('{} {}\\n'.format(vocab_size-1, embed_size))\n",
    "vectors = model.get_weights()[0]\n",
    "for word, i in tokenizer.word_index.items():\n",
    "    f.write('{} {}\\n'.format(word, ' '.join(map(str, list(vectors[i,:])))))\n",
    "f.close()\n",
    "\n",
    "skipgram = gensim.models.KeyedVectors.load_word2vec_format('skipgram.txt', binary=False)"
   ]
  },
  {
   "cell_type": "code",
   "execution_count": 126,
   "metadata": {},
   "outputs": [
    {
     "data": {
      "text/plain": [
       "[('reasonably', 0.5941402316093445),\n",
       " ('usefulness', 0.5150818228721619),\n",
       " ('releasing', 0.5126029849052429),\n",
       " ('immortal', 0.4909834563732147),\n",
       " ('gilbert', 0.48984843492507935),\n",
       " ('increases', 0.48973482847213745),\n",
       " ('immigrants', 0.48925769329071045),\n",
       " ('clinics', 0.48829832673072815),\n",
       " ('xworld', 0.4878932535648346),\n",
       " ('configsys', 0.4858366549015045)]"
      ]
     },
     "execution_count": 126,
     "metadata": {},
     "output_type": "execute_result"
    }
   ],
   "source": [
    "skipgram.most_similar(positive=['soldiers'])"
   ]
  },
  {
   "cell_type": "code",
   "execution_count": 127,
   "metadata": {},
   "outputs": [
    {
     "data": {
      "text/plain": [
       "[('yelena', 0.5451171398162842),\n",
       " ('typecard', 0.5326345562934875),\n",
       " ('scoenfeld', 0.4960656762123108),\n",
       " ('cops', 0.49454015493392944),\n",
       " ('thereby', 0.491227924823761),\n",
       " ('counts', 0.48213478922843933),\n",
       " ('strictly', 0.48065340518951416),\n",
       " ('theckelcolhpcom', 0.48049452900886536),\n",
       " ('descfb', 0.47270599007606506),\n",
       " ('cijf', 0.4636850953102112)]"
      ]
     },
     "execution_count": 127,
     "metadata": {},
     "output_type": "execute_result"
    }
   ],
   "source": [
    "skipgram.most_similar(positive=['economy'])"
   ]
  },
  {
   "cell_type": "markdown",
   "metadata": {},
   "source": [
    "### 3. CBOW"
   ]
  },
  {
   "cell_type": "code",
   "execution_count": 128,
   "metadata": {},
   "outputs": [
    {
     "name": "stdout",
     "output_type": "stream",
     "text": [
      "sure(59), intervention(2251) -> 0\n",
      "sniper(5528), someone(90) -> 1\n",
      "denny(12038), fennelly(20975) -> 0\n",
      "disgruntled(12034), allnatural(19524) -> 0\n",
      "sniper(5528), problems(173) -> 1\n",
      "10 1020 1020\n"
     ]
    }
   ],
   "source": [
    "def skipgram2cbow(skipgrams):\n",
    "    cbows = []\n",
    "    flag = 0\n",
    "    for n in skip_grams:\n",
    "        temp1 = []\n",
    "        for t in n :\n",
    "            if flag == 0:\n",
    "                temp1.append(t)\n",
    "            else:\n",
    "                flag = 1\n",
    "                temp2 = []\n",
    "                for x in t:\n",
    "                    temp2.append([x[1], x[0]])\n",
    "                temp1.append(temp2)\n",
    "        cbows.append(temp1)\n",
    "    return cbows\n",
    "\n",
    "cbows = skipgram2cbow(skip_grams)\n",
    "pairs, labels = cbows[0][0], cbows[0][1]\n",
    "for i in range(5):\n",
    "    print('{:s}({:d}), {:s}({:d}) -> {:d}'.format(\n",
    "    idx2word[pairs[i][0]], pairs[i][0],\n",
    "    idx2word[pairs[i][1]], pairs[i][1],\n",
    "    labels[i]))\n",
    "    \n",
    "print(len(cbows), len(pairs), len(labels)) "
   ]
  },
  {
   "cell_type": "code",
   "execution_count": 129,
   "metadata": {},
   "outputs": [
    {
     "name": "stdout",
     "output_type": "stream",
     "text": [
      "Model: \"model_1\"\n",
      "__________________________________________________________________________________________________\n",
      " Layer (type)                Output Shape                 Param #   Connected to                  \n",
      "==================================================================================================\n",
      " input_3 (InputLayer)        [(None, 1)]                  0         []                            \n",
      "                                                                                                  \n",
      " input_4 (InputLayer)        [(None, 1)]                  0         []                            \n",
      "                                                                                                  \n",
      " embedding_4 (Embedding)     (None, 1, 50)                1388900   ['input_3[0][0]']             \n",
      "                                                                                                  \n",
      " embedding_5 (Embedding)     (None, 1, 50)                1388900   ['input_4[0][0]']             \n",
      "                                                                                                  \n",
      " dot_1 (Dot)                 (None, 1, 1)                 0         ['embedding_4[0][0]',         \n",
      "                                                                     'embedding_5[0][0]']         \n",
      "                                                                                                  \n",
      " reshape_1 (Reshape)         (None, 1)                    0         ['dot_1[0][0]']               \n",
      "                                                                                                  \n",
      " activation_1 (Activation)   (None, 1)                    0         ['reshape_1[0][0]']           \n",
      "                                                                                                  \n",
      "==================================================================================================\n",
      "Total params: 2777800 (10.60 MB)\n",
      "Trainable params: 2777800 (10.60 MB)\n",
      "Non-trainable params: 0 (0.00 Byte)\n",
      "__________________________________________________________________________________________________\n"
     ]
    }
   ],
   "source": [
    "model = word2vec()\n",
    "\n",
    "model.summary()"
   ]
  },
  {
   "cell_type": "code",
   "execution_count": 130,
   "metadata": {},
   "outputs": [
    {
     "name": "stdout",
     "output_type": "stream",
     "text": [
      "You must install pydot (`pip install pydot`) and install graphviz (see instructions at https://graphviz.gitlab.io/download/) for plot_model to work.\n"
     ]
    }
   ],
   "source": [
    "plot_model(model, show_shapes=True, show_layer_names=True)"
   ]
  },
  {
   "cell_type": "code",
   "execution_count": 131,
   "metadata": {},
   "outputs": [
    {
     "name": "stdout",
     "output_type": "stream",
     "text": [
      "Epoch :  1 Loss :  6.931632816791534\n",
      "Epoch :  2 Loss :  6.919125556945801\n",
      "Epoch :  3 Loss :  6.906222105026245\n",
      "Epoch :  4 Loss :  6.890934109687805\n",
      "Epoch :  5 Loss :  6.8720263838768005\n",
      "Epoch :  6 Loss :  6.8484110832214355\n",
      "Epoch :  7 Loss :  6.81912624835968\n",
      "Epoch :  8 Loss :  6.783328473567963\n",
      "Epoch :  9 Loss :  6.740298688411713\n",
      "Epoch :  10 Loss :  6.689449727535248\n"
     ]
    }
   ],
   "source": [
    "for epoch in range(1,11):\n",
    "    loss = 0\n",
    "    for _, elem in enumerate(cbows):\n",
    "        first_elem = np.array(list(zip(*elem[0]))[0], dtype='int32')\n",
    "        second_elem = np.array(list(zip(*elem[0]))[1], dtype='int32')\n",
    "        labels = np.array(elem[1], dtype='int32')\n",
    "        X = [first_elem, second_elem] \n",
    "        Y = labels \n",
    "        loss += model.train_on_batch(X,Y) # 한번의 epoch에 여러 번 트레이닝\n",
    "        \n",
    "    print('Epoch : ', epoch, 'Loss : ', loss)"
   ]
  },
  {
   "cell_type": "code",
   "execution_count": 132,
   "metadata": {},
   "outputs": [],
   "source": [
    "\n",
    "f = open('cbow.txt', 'w')\n",
    "f.write('{} {}\\n'.format(vocab_size-1, embed_size))\n",
    "vectors = model.get_weights()[0]\n",
    "for word, i in tokenizer.word_index.items():\n",
    "    f.write('{} {}\\n'.format(word, ' '.join(map(str, list(vectors[i,:])))))\n",
    "f.close()\n",
    "\n",
    "cbow = gensim.models.KeyedVectors.load_word2vec_format('cbow.txt', binary=False)"
   ]
  },
  {
   "cell_type": "code",
   "execution_count": 133,
   "metadata": {},
   "outputs": [
    {
     "data": {
      "text/plain": [
       "[('composite', 0.5777616500854492),\n",
       " ('powerful', 0.5025898814201355),\n",
       " ('frankdsuucp', 0.4928368926048279),\n",
       " ('brand', 0.4767518937587738),\n",
       " ('governmental', 0.4597456455230713),\n",
       " ('accented', 0.45884761214256287),\n",
       " ('width', 0.45761093497276306),\n",
       " ('bettadpur', 0.45221906900405884),\n",
       " ('ethics', 0.44797593355178833),\n",
       " ('conspiracy', 0.44453802704811096)]"
      ]
     },
     "execution_count": 133,
     "metadata": {},
     "output_type": "execute_result"
    }
   ],
   "source": [
    "cbow.most_similar(positive=['soldiers'])"
   ]
  },
  {
   "cell_type": "code",
   "execution_count": 135,
   "metadata": {},
   "outputs": [
    {
     "data": {
      "text/plain": [
       "[('contacted', 0.5539079308509827),\n",
       " ('moteccinfotroff', 0.5328188538551331),\n",
       " ('glassresin', 0.5064695477485657),\n",
       " ('qualifies', 0.4954788386821747),\n",
       " ('underlies', 0.49406665563583374),\n",
       " ('tipped', 0.49167078733444214),\n",
       " ('gazbhxhfhba', 0.4858366847038269),\n",
       " ('undertake', 0.4792623817920685),\n",
       " ('historians', 0.4726984202861786),\n",
       " ('less', 0.4620119035243988)]"
      ]
     },
     "execution_count": 135,
     "metadata": {},
     "output_type": "execute_result"
    }
   ],
   "source": [
    "cbow.most_similar(['economy'])"
   ]
  }
 ],
 "metadata": {
  "accelerator": "GPU",
  "colab": {
   "provenance": [],
   "toc_visible": true
  },
  "kernelspec": {
   "display_name": "Python 3 (ipykernel)",
   "language": "python",
   "name": "python3"
  },
  "language_info": {
   "codemirror_mode": {
    "name": "ipython",
    "version": 3
   },
   "file_extension": ".py",
   "mimetype": "text/x-python",
   "name": "python",
   "nbconvert_exporter": "python",
   "pygments_lexer": "ipython3",
   "version": "3.8.0"
  }
 },
 "nbformat": 4,
 "nbformat_minor": 4
}
